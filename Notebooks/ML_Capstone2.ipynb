{
 "cells": [
  {
   "cell_type": "code",
   "execution_count": 1,
   "id": "cfdbff29-ebee-436c-b66b-2154f5166fe7",
   "metadata": {},
   "outputs": [],
   "source": [
    "#Importing all necessary libraries\n",
    "import pandas as pd\n",
    "import matplotlib.pyplot as plt\n",
    "import numpy as np\n",
    "import os\n",
    "\n",
    "import seaborn as sns\n",
    "\n",
    "from sqlalchemy import create_engine\n",
    "\n",
    "from sklearn.preprocessing import LabelEncoder, OneHotEncoder\n",
    "\n",
    "from IPython.core.interactiveshell import InteractiveShell\n",
    "InteractiveShell.ast_node_interactivity = 'all'\n",
    "\n",
    "import sqlite3\n",
    "from sqlite3 import Error\n",
    "\n",
    "import os\n",
    "\n",
    "from sklearn.decomposition import PCA\n",
    "from sklearn.preprocessing import scale, StandardScaler, PowerTransformer\n",
    "from scipy.stats import linregress\n",
    "from sklearn import preprocessing\n",
    "from sklearn.model_selection import train_test_split\n",
    "\n",
    "import statsmodels.api as sm\n",
    "from sklearn.decomposition import PCA\n",
    "from sklearn.preprocessing import scale\n",
    "from scipy.stats import linregress\n",
    "from sklearn.linear_model import LogisticRegression\n",
    "from sklearn.metrics import accuracy_score, confusion_matrix, classification_report\n",
    "from sklearn.metrics import roc_auc_score, accuracy_score, confusion_matrix, classification_report\n",
    "from dtreeviz.models.sklearn_decision_trees import ShadowSKDTree\n",
    "from dtreeviz import trees\n",
    "from sklearn.metrics import roc_curve\n",
    "from sklearn import tree\n",
    "from sklearn import linear_model, preprocessing\n",
    "from sklearn.linear_model import LinearRegression\n",
    "from statsmodels.graphics.api import abline_plot\n",
    "from sklearn.metrics import mean_squared_error, r2_score, mean_absolute_error, median_absolute_error\n",
    "\n",
    "from sklearn.metrics import precision_recall_curve\n",
    "from sklearn.metrics import f1_score\n",
    "from sklearn.metrics import auc\n",
    "from sklearn.linear_model import LogisticRegression\n",
    "from matplotlib import pyplot\n",
    "from sklearn.metrics import precision_recall_curve\n",
    "from sklearn.metrics import f1_score\n",
    "from sklearn.metrics import auc\n",
    "from sklearn.linear_model import LogisticRegression\n",
    "from sklearn.ensemble import RandomForestRegressor\n",
    "from sklearn.metrics import classification_report,confusion_matrix,roc_curve,roc_auc_score\n",
    "from sklearn.metrics import accuracy_score,log_loss\n",
    "from matplotlib import pyplot\n",
    "\n",
    "from sklearn.model_selection import train_test_split, cross_validate, GridSearchCV, learning_curve\n",
    "from sklearn.preprocessing import StandardScaler, MinMaxScaler\n",
    "from sklearn.dummy import DummyRegressor\n",
    "from sklearn.linear_model import LinearRegression\n",
    "from sklearn.ensemble import RandomForestRegressor\n",
    "from sklearn.metrics import r2_score, mean_squared_error, mean_absolute_error\n",
    "from sklearn.pipeline import make_pipeline\n",
    "from sklearn.impute import SimpleImputer\n",
    "from sklearn.feature_selection import SelectKBest, f_regression\n",
    "\n"
   ]
  },
  {
   "cell_type": "code",
   "execution_count": 2,
   "id": "54fdc9e2-fa3a-49ac-85de-4163d8155820",
   "metadata": {},
   "outputs": [],
   "source": [
    "#Load the data\n",
    "\n",
    "os.chdir(\"C:\\\\Users\\\\mohamed.ziane\\\\OneDrive - Slalom\\\\Documents\\\\GitHub\\\\Climate-Change-in-Kenya\\\\data\\\\Processed\")\n",
    "\n",
    "df = pd.read_csv('df_preprocessing_training_LG.csv', index_col=False)\n",
    "\n",
    "dfy = pd.read_csv('df_preprocessing_training.csv', index_col=False)"
   ]
  },
  {
   "cell_type": "code",
   "execution_count": 3,
   "id": "07dc6560-797d-4bfc-9353-03da59880b11",
   "metadata": {},
   "outputs": [
    {
     "data": {
      "text/html": [
       "<div>\n",
       "<style scoped>\n",
       "    .dataframe tbody tr th:only-of-type {\n",
       "        vertical-align: middle;\n",
       "    }\n",
       "\n",
       "    .dataframe tbody tr th {\n",
       "        vertical-align: top;\n",
       "    }\n",
       "\n",
       "    .dataframe thead th {\n",
       "        text-align: right;\n",
       "    }\n",
       "</style>\n",
       "<table border=\"1\" class=\"dataframe\">\n",
       "  <thead>\n",
       "    <tr style=\"text-align: right;\">\n",
       "      <th></th>\n",
       "      <th>timestamp</th>\n",
       "      <th>CO2 (kt)_2_LG</th>\n",
       "      <th>Methane (kt)_LG</th>\n",
       "      <th>Nitrous Oxide(kt)_LG</th>\n",
       "      <th>Total Population_LG</th>\n",
       "      <th>Temperature (DegF)_LG</th>\n",
       "      <th>Precipitation (in)_LG</th>\n",
       "    </tr>\n",
       "  </thead>\n",
       "  <tbody>\n",
       "    <tr>\n",
       "      <th>0</th>\n",
       "      <td>1985-09-01</td>\n",
       "      <td>-1.967903</td>\n",
       "      <td>-1.558215</td>\n",
       "      <td>-1.706544</td>\n",
       "      <td>-1.71924</td>\n",
       "      <td>-1.079776</td>\n",
       "      <td>-0.700926</td>\n",
       "    </tr>\n",
       "    <tr>\n",
       "      <th>1</th>\n",
       "      <td>1985-09-02</td>\n",
       "      <td>-1.966895</td>\n",
       "      <td>-1.558495</td>\n",
       "      <td>-1.707220</td>\n",
       "      <td>-1.71924</td>\n",
       "      <td>-0.597831</td>\n",
       "      <td>-0.700926</td>\n",
       "    </tr>\n",
       "    <tr>\n",
       "      <th>2</th>\n",
       "      <td>1985-09-03</td>\n",
       "      <td>-1.968262</td>\n",
       "      <td>-1.558320</td>\n",
       "      <td>-1.707351</td>\n",
       "      <td>-1.71924</td>\n",
       "      <td>-0.589035</td>\n",
       "      <td>-0.700926</td>\n",
       "    </tr>\n",
       "    <tr>\n",
       "      <th>3</th>\n",
       "      <td>1985-09-04</td>\n",
       "      <td>-1.967171</td>\n",
       "      <td>-1.558993</td>\n",
       "      <td>-1.706083</td>\n",
       "      <td>-1.71924</td>\n",
       "      <td>-0.795440</td>\n",
       "      <td>-0.700926</td>\n",
       "    </tr>\n",
       "    <tr>\n",
       "      <th>4</th>\n",
       "      <td>1985-09-05</td>\n",
       "      <td>-1.966236</td>\n",
       "      <td>-1.558738</td>\n",
       "      <td>-1.707069</td>\n",
       "      <td>-1.71924</td>\n",
       "      <td>-0.182630</td>\n",
       "      <td>-0.700926</td>\n",
       "    </tr>\n",
       "  </tbody>\n",
       "</table>\n",
       "</div>"
      ],
      "text/plain": [
       "    timestamp  CO2 (kt)_2_LG  Methane (kt)_LG  Nitrous Oxide(kt)_LG  \\\n",
       "0  1985-09-01      -1.967903        -1.558215             -1.706544   \n",
       "1  1985-09-02      -1.966895        -1.558495             -1.707220   \n",
       "2  1985-09-03      -1.968262        -1.558320             -1.707351   \n",
       "3  1985-09-04      -1.967171        -1.558993             -1.706083   \n",
       "4  1985-09-05      -1.966236        -1.558738             -1.707069   \n",
       "\n",
       "   Total Population_LG  Temperature (DegF)_LG  Precipitation (in)_LG  \n",
       "0             -1.71924              -1.079776              -0.700926  \n",
       "1             -1.71924              -0.597831              -0.700926  \n",
       "2             -1.71924              -0.589035              -0.700926  \n",
       "3             -1.71924              -0.795440              -0.700926  \n",
       "4             -1.71924              -0.182630              -0.700926  "
      ]
     },
     "execution_count": 3,
     "metadata": {},
     "output_type": "execute_result"
    },
    {
     "data": {
      "text/html": [
       "<div>\n",
       "<style scoped>\n",
       "    .dataframe tbody tr th:only-of-type {\n",
       "        vertical-align: middle;\n",
       "    }\n",
       "\n",
       "    .dataframe tbody tr th {\n",
       "        vertical-align: top;\n",
       "    }\n",
       "\n",
       "    .dataframe thead th {\n",
       "        text-align: right;\n",
       "    }\n",
       "</style>\n",
       "<table border=\"1\" class=\"dataframe\">\n",
       "  <thead>\n",
       "    <tr style=\"text-align: right;\">\n",
       "      <th></th>\n",
       "      <th>count</th>\n",
       "      <th>mean</th>\n",
       "      <th>std</th>\n",
       "      <th>min</th>\n",
       "      <th>25%</th>\n",
       "      <th>50%</th>\n",
       "      <th>75%</th>\n",
       "      <th>max</th>\n",
       "    </tr>\n",
       "  </thead>\n",
       "  <tbody>\n",
       "    <tr>\n",
       "      <th>CO2 (kt)_2_LG</th>\n",
       "      <td>12540.0</td>\n",
       "      <td>9.685324e-16</td>\n",
       "      <td>1.00004</td>\n",
       "      <td>-1.971388</td>\n",
       "      <td>-0.811040</td>\n",
       "      <td>-0.280555</td>\n",
       "      <td>0.933428</td>\n",
       "      <td>1.624908</td>\n",
       "    </tr>\n",
       "    <tr>\n",
       "      <th>Methane (kt)_LG</th>\n",
       "      <td>12540.0</td>\n",
       "      <td>5.668512e-16</td>\n",
       "      <td>1.00004</td>\n",
       "      <td>-1.559803</td>\n",
       "      <td>-0.761980</td>\n",
       "      <td>-0.470710</td>\n",
       "      <td>1.151709</td>\n",
       "      <td>1.441783</td>\n",
       "    </tr>\n",
       "    <tr>\n",
       "      <th>Nitrous Oxide(kt)_LG</th>\n",
       "      <td>12540.0</td>\n",
       "      <td>-5.076570e-17</td>\n",
       "      <td>1.00004</td>\n",
       "      <td>-1.709545</td>\n",
       "      <td>-0.701966</td>\n",
       "      <td>-0.473463</td>\n",
       "      <td>1.157810</td>\n",
       "      <td>1.414512</td>\n",
       "    </tr>\n",
       "    <tr>\n",
       "      <th>Total Population_LG</th>\n",
       "      <td>12540.0</td>\n",
       "      <td>1.306982e-15</td>\n",
       "      <td>1.00004</td>\n",
       "      <td>-1.719240</td>\n",
       "      <td>-0.837135</td>\n",
       "      <td>-0.058697</td>\n",
       "      <td>0.875879</td>\n",
       "      <td>1.701624</td>\n",
       "    </tr>\n",
       "    <tr>\n",
       "      <th>Temperature (DegF)_LG</th>\n",
       "      <td>12540.0</td>\n",
       "      <td>-2.089968e-16</td>\n",
       "      <td>1.00004</td>\n",
       "      <td>-3.711125</td>\n",
       "      <td>-0.703304</td>\n",
       "      <td>0.006415</td>\n",
       "      <td>0.687385</td>\n",
       "      <td>3.347446</td>\n",
       "    </tr>\n",
       "    <tr>\n",
       "      <th>Precipitation (in)_LG</th>\n",
       "      <td>12540.0</td>\n",
       "      <td>-2.014161e-16</td>\n",
       "      <td>1.00004</td>\n",
       "      <td>-0.700926</td>\n",
       "      <td>-0.700926</td>\n",
       "      <td>-0.700926</td>\n",
       "      <td>0.754321</td>\n",
       "      <td>2.070658</td>\n",
       "    </tr>\n",
       "  </tbody>\n",
       "</table>\n",
       "</div>"
      ],
      "text/plain": [
       "                         count          mean      std       min       25%  \\\n",
       "CO2 (kt)_2_LG          12540.0  9.685324e-16  1.00004 -1.971388 -0.811040   \n",
       "Methane (kt)_LG        12540.0  5.668512e-16  1.00004 -1.559803 -0.761980   \n",
       "Nitrous Oxide(kt)_LG   12540.0 -5.076570e-17  1.00004 -1.709545 -0.701966   \n",
       "Total Population_LG    12540.0  1.306982e-15  1.00004 -1.719240 -0.837135   \n",
       "Temperature (DegF)_LG  12540.0 -2.089968e-16  1.00004 -3.711125 -0.703304   \n",
       "Precipitation (in)_LG  12540.0 -2.014161e-16  1.00004 -0.700926 -0.700926   \n",
       "\n",
       "                            50%       75%       max  \n",
       "CO2 (kt)_2_LG         -0.280555  0.933428  1.624908  \n",
       "Methane (kt)_LG       -0.470710  1.151709  1.441783  \n",
       "Nitrous Oxide(kt)_LG  -0.473463  1.157810  1.414512  \n",
       "Total Population_LG   -0.058697  0.875879  1.701624  \n",
       "Temperature (DegF)_LG  0.006415  0.687385  3.347446  \n",
       "Precipitation (in)_LG -0.700926  0.754321  2.070658  "
      ]
     },
     "execution_count": 3,
     "metadata": {},
     "output_type": "execute_result"
    },
    {
     "name": "stdout",
     "output_type": "stream",
     "text": [
      "<class 'pandas.core.frame.DataFrame'>\n",
      "RangeIndex: 12540 entries, 0 to 12539\n",
      "Data columns (total 7 columns):\n",
      " #   Column                 Non-Null Count  Dtype  \n",
      "---  ------                 --------------  -----  \n",
      " 0   timestamp              12540 non-null  object \n",
      " 1   CO2 (kt)_2_LG          12540 non-null  float64\n",
      " 2   Methane (kt)_LG        12540 non-null  float64\n",
      " 3   Nitrous Oxide(kt)_LG   12540 non-null  float64\n",
      " 4   Total Population_LG    12540 non-null  float64\n",
      " 5   Temperature (DegF)_LG  12540 non-null  float64\n",
      " 6   Precipitation (in)_LG  12540 non-null  float64\n",
      "dtypes: float64(6), object(1)\n",
      "memory usage: 685.9+ KB\n"
     ]
    }
   ],
   "source": [
    "df.head(); df.describe().T; df.info()\n"
   ]
  },
  {
   "cell_type": "code",
   "execution_count": 4,
   "id": "fdef1cab-05c2-4a41-9936-3bc7bf193b86",
   "metadata": {},
   "outputs": [
    {
     "data": {
      "text/html": [
       "<div>\n",
       "<style scoped>\n",
       "    .dataframe tbody tr th:only-of-type {\n",
       "        vertical-align: middle;\n",
       "    }\n",
       "\n",
       "    .dataframe tbody tr th {\n",
       "        vertical-align: top;\n",
       "    }\n",
       "\n",
       "    .dataframe thead th {\n",
       "        text-align: right;\n",
       "    }\n",
       "</style>\n",
       "<table border=\"1\" class=\"dataframe\">\n",
       "  <thead>\n",
       "    <tr style=\"text-align: right;\">\n",
       "      <th></th>\n",
       "      <th>Unnamed: 0</th>\n",
       "      <th>Unnamed: 0.1</th>\n",
       "      <th>timestamp</th>\n",
       "      <th>Year_extract</th>\n",
       "      <th>CO2 emissions from liquid fuel consumption (kt)_new</th>\n",
       "      <th>Energy related methane emissions (% of total)_new</th>\n",
       "      <th>Fuel exports (% of merchandise exports)_new</th>\n",
       "      <th>Fuel imports (% of merchandise imports)_new</th>\n",
       "      <th>Methane emissions in energy sector (thousand metric tons of CO2 equivalent)_new</th>\n",
       "      <th>Mineral rents (% of GDP)_new</th>\n",
       "      <th>...</th>\n",
       "      <th>CT_Relative_Humidity_m</th>\n",
       "      <th>CT_Wind_Speed_10m</th>\n",
       "      <th>CT_Cloud_Cover_Total</th>\n",
       "      <th>CT_Sunshine_Duration</th>\n",
       "      <th>CT_Shortwave_Radiation</th>\n",
       "      <th>CT_Mean_Sea_Level_Pressure</th>\n",
       "      <th>CT_Soil_Temperature_10cm</th>\n",
       "      <th>CT_Soil_Moisture_10cm</th>\n",
       "      <th>CT_Wind_Direction_Dominant_10m</th>\n",
       "      <th>Year_extract_y</th>\n",
       "    </tr>\n",
       "  </thead>\n",
       "  <tbody>\n",
       "    <tr>\n",
       "      <th>0</th>\n",
       "      <td>0</td>\n",
       "      <td>0</td>\n",
       "      <td>1985-09-01</td>\n",
       "      <td>1985</td>\n",
       "      <td>3115.498132</td>\n",
       "      <td>24.162338</td>\n",
       "      <td>16.476346</td>\n",
       "      <td>28.932601</td>\n",
       "      <td>4279.666073</td>\n",
       "      <td>1.365497</td>\n",
       "      <td>...</td>\n",
       "      <td>99</td>\n",
       "      <td>4.457064</td>\n",
       "      <td>15.708333</td>\n",
       "      <td>675.834840</td>\n",
       "      <td>5135.3003</td>\n",
       "      <td>1017.0</td>\n",
       "      <td>75.560020</td>\n",
       "      <td>0.145</td>\n",
       "      <td>292.47943</td>\n",
       "      <td>1985</td>\n",
       "    </tr>\n",
       "    <tr>\n",
       "      <th>1</th>\n",
       "      <td>1</td>\n",
       "      <td>1</td>\n",
       "      <td>1985-09-02</td>\n",
       "      <td>1985</td>\n",
       "      <td>3118.855606</td>\n",
       "      <td>21.529548</td>\n",
       "      <td>18.765827</td>\n",
       "      <td>31.529024</td>\n",
       "      <td>4274.313711</td>\n",
       "      <td>0.703036</td>\n",
       "      <td>...</td>\n",
       "      <td>96</td>\n",
       "      <td>7.161691</td>\n",
       "      <td>93.000000</td>\n",
       "      <td>95.744675</td>\n",
       "      <td>4807.7803</td>\n",
       "      <td>1015.1</td>\n",
       "      <td>67.046005</td>\n",
       "      <td>0.141</td>\n",
       "      <td>288.88968</td>\n",
       "      <td>1985</td>\n",
       "    </tr>\n",
       "    <tr>\n",
       "      <th>2</th>\n",
       "      <td>2</td>\n",
       "      <td>2</td>\n",
       "      <td>1985-09-03</td>\n",
       "      <td>1985</td>\n",
       "      <td>3119.868040</td>\n",
       "      <td>26.957457</td>\n",
       "      <td>12.745660</td>\n",
       "      <td>31.855229</td>\n",
       "      <td>4280.127290</td>\n",
       "      <td>-3.874296</td>\n",
       "      <td>...</td>\n",
       "      <td>92</td>\n",
       "      <td>8.108701</td>\n",
       "      <td>65.666664</td>\n",
       "      <td>105.773056</td>\n",
       "      <td>2403.0000</td>\n",
       "      <td>1020.8</td>\n",
       "      <td>62.636032</td>\n",
       "      <td>0.137</td>\n",
       "      <td>305.56384</td>\n",
       "      <td>1985</td>\n",
       "    </tr>\n",
       "    <tr>\n",
       "      <th>3</th>\n",
       "      <td>3</td>\n",
       "      <td>3</td>\n",
       "      <td>1985-09-04</td>\n",
       "      <td>1985</td>\n",
       "      <td>3122.340297</td>\n",
       "      <td>22.117795</td>\n",
       "      <td>15.393883</td>\n",
       "      <td>30.340974</td>\n",
       "      <td>4279.056049</td>\n",
       "      <td>0.019061</td>\n",
       "      <td>...</td>\n",
       "      <td>90</td>\n",
       "      <td>6.187060</td>\n",
       "      <td>52.820830</td>\n",
       "      <td>379.962770</td>\n",
       "      <td>5029.3896</td>\n",
       "      <td>1021.2</td>\n",
       "      <td>67.369990</td>\n",
       "      <td>0.140</td>\n",
       "      <td>245.22487</td>\n",
       "      <td>1985</td>\n",
       "    </tr>\n",
       "    <tr>\n",
       "      <th>4</th>\n",
       "      <td>4</td>\n",
       "      <td>4</td>\n",
       "      <td>1985-09-05</td>\n",
       "      <td>1985</td>\n",
       "      <td>3119.501944</td>\n",
       "      <td>20.538729</td>\n",
       "      <td>13.529428</td>\n",
       "      <td>30.462148</td>\n",
       "      <td>4279.879428</td>\n",
       "      <td>-1.444538</td>\n",
       "      <td>...</td>\n",
       "      <td>100</td>\n",
       "      <td>7.644957</td>\n",
       "      <td>49.208332</td>\n",
       "      <td>423.075840</td>\n",
       "      <td>5007.1406</td>\n",
       "      <td>1023.0</td>\n",
       "      <td>69.944030</td>\n",
       "      <td>0.140</td>\n",
       "      <td>262.43716</td>\n",
       "      <td>1985</td>\n",
       "    </tr>\n",
       "  </tbody>\n",
       "</table>\n",
       "<p>5 rows × 66 columns</p>\n",
       "</div>"
      ],
      "text/plain": [
       "   Unnamed: 0  Unnamed: 0.1   timestamp  Year_extract  \\\n",
       "0           0             0  1985-09-01          1985   \n",
       "1           1             1  1985-09-02          1985   \n",
       "2           2             2  1985-09-03          1985   \n",
       "3           3             3  1985-09-04          1985   \n",
       "4           4             4  1985-09-05          1985   \n",
       "\n",
       "   CO2 emissions from liquid fuel consumption (kt)_new  \\\n",
       "0                                        3115.498132     \n",
       "1                                        3118.855606     \n",
       "2                                        3119.868040     \n",
       "3                                        3122.340297     \n",
       "4                                        3119.501944     \n",
       "\n",
       "   Energy related methane emissions (% of total)_new  \\\n",
       "0                                          24.162338   \n",
       "1                                          21.529548   \n",
       "2                                          26.957457   \n",
       "3                                          22.117795   \n",
       "4                                          20.538729   \n",
       "\n",
       "   Fuel exports (% of merchandise exports)_new  \\\n",
       "0                                    16.476346   \n",
       "1                                    18.765827   \n",
       "2                                    12.745660   \n",
       "3                                    15.393883   \n",
       "4                                    13.529428   \n",
       "\n",
       "   Fuel imports (% of merchandise imports)_new  \\\n",
       "0                                    28.932601   \n",
       "1                                    31.529024   \n",
       "2                                    31.855229   \n",
       "3                                    30.340974   \n",
       "4                                    30.462148   \n",
       "\n",
       "   Methane emissions in energy sector (thousand metric tons of CO2 equivalent)_new  \\\n",
       "0                                        4279.666073                                 \n",
       "1                                        4274.313711                                 \n",
       "2                                        4280.127290                                 \n",
       "3                                        4279.056049                                 \n",
       "4                                        4279.879428                                 \n",
       "\n",
       "   Mineral rents (% of GDP)_new  ...  CT_Relative_Humidity_m  \\\n",
       "0                      1.365497  ...                      99   \n",
       "1                      0.703036  ...                      96   \n",
       "2                     -3.874296  ...                      92   \n",
       "3                      0.019061  ...                      90   \n",
       "4                     -1.444538  ...                     100   \n",
       "\n",
       "   CT_Wind_Speed_10m  CT_Cloud_Cover_Total  CT_Sunshine_Duration  \\\n",
       "0           4.457064             15.708333            675.834840   \n",
       "1           7.161691             93.000000             95.744675   \n",
       "2           8.108701             65.666664            105.773056   \n",
       "3           6.187060             52.820830            379.962770   \n",
       "4           7.644957             49.208332            423.075840   \n",
       "\n",
       "   CT_Shortwave_Radiation  CT_Mean_Sea_Level_Pressure  \\\n",
       "0               5135.3003                      1017.0   \n",
       "1               4807.7803                      1015.1   \n",
       "2               2403.0000                      1020.8   \n",
       "3               5029.3896                      1021.2   \n",
       "4               5007.1406                      1023.0   \n",
       "\n",
       "   CT_Soil_Temperature_10cm  CT_Soil_Moisture_10cm  \\\n",
       "0                 75.560020                  0.145   \n",
       "1                 67.046005                  0.141   \n",
       "2                 62.636032                  0.137   \n",
       "3                 67.369990                  0.140   \n",
       "4                 69.944030                  0.140   \n",
       "\n",
       "   CT_Wind_Direction_Dominant_10m  Year_extract_y  \n",
       "0                       292.47943            1985  \n",
       "1                       288.88968            1985  \n",
       "2                       305.56384            1985  \n",
       "3                       245.22487            1985  \n",
       "4                       262.43716            1985  \n",
       "\n",
       "[5 rows x 66 columns]"
      ]
     },
     "execution_count": 4,
     "metadata": {},
     "output_type": "execute_result"
    },
    {
     "data": {
      "text/html": [
       "<div>\n",
       "<style scoped>\n",
       "    .dataframe tbody tr th:only-of-type {\n",
       "        vertical-align: middle;\n",
       "    }\n",
       "\n",
       "    .dataframe tbody tr th {\n",
       "        vertical-align: top;\n",
       "    }\n",
       "\n",
       "    .dataframe thead th {\n",
       "        text-align: right;\n",
       "    }\n",
       "</style>\n",
       "<table border=\"1\" class=\"dataframe\">\n",
       "  <thead>\n",
       "    <tr style=\"text-align: right;\">\n",
       "      <th></th>\n",
       "      <th>count</th>\n",
       "      <th>mean</th>\n",
       "      <th>std</th>\n",
       "      <th>min</th>\n",
       "      <th>25%</th>\n",
       "      <th>50%</th>\n",
       "      <th>75%</th>\n",
       "      <th>max</th>\n",
       "    </tr>\n",
       "  </thead>\n",
       "  <tbody>\n",
       "    <tr>\n",
       "      <th>Unnamed: 0</th>\n",
       "      <td>12540.0</td>\n",
       "      <td>6269.500000</td>\n",
       "      <td>3620.130523</td>\n",
       "      <td>0.000000</td>\n",
       "      <td>3134.750000</td>\n",
       "      <td>6269.500000</td>\n",
       "      <td>9404.250000</td>\n",
       "      <td>12539.000000</td>\n",
       "    </tr>\n",
       "    <tr>\n",
       "      <th>Unnamed: 0.1</th>\n",
       "      <td>12540.0</td>\n",
       "      <td>6269.500000</td>\n",
       "      <td>3620.130523</td>\n",
       "      <td>0.000000</td>\n",
       "      <td>3134.750000</td>\n",
       "      <td>6269.500000</td>\n",
       "      <td>9404.250000</td>\n",
       "      <td>12539.000000</td>\n",
       "    </tr>\n",
       "    <tr>\n",
       "      <th>Year_extract</th>\n",
       "      <td>12540.0</td>\n",
       "      <td>2002.329426</td>\n",
       "      <td>9.912827</td>\n",
       "      <td>1985.000000</td>\n",
       "      <td>1994.000000</td>\n",
       "      <td>2002.000000</td>\n",
       "      <td>2011.000000</td>\n",
       "      <td>2019.000000</td>\n",
       "    </tr>\n",
       "    <tr>\n",
       "      <th>CO2 emissions from liquid fuel consumption (kt)_new</th>\n",
       "      <td>12540.0</td>\n",
       "      <td>8002.443374</td>\n",
       "      <td>2976.637887</td>\n",
       "      <td>3110.812371</td>\n",
       "      <td>5539.289289</td>\n",
       "      <td>8072.849328</td>\n",
       "      <td>9801.426182</td>\n",
       "      <td>13271.603790</td>\n",
       "    </tr>\n",
       "    <tr>\n",
       "      <th>Energy related methane emissions (% of total)_new</th>\n",
       "      <td>12540.0</td>\n",
       "      <td>26.409585</td>\n",
       "      <td>3.657094</td>\n",
       "      <td>15.440817</td>\n",
       "      <td>23.663625</td>\n",
       "      <td>26.308925</td>\n",
       "      <td>29.138590</td>\n",
       "      <td>38.775679</td>\n",
       "    </tr>\n",
       "    <tr>\n",
       "      <th>...</th>\n",
       "      <td>...</td>\n",
       "      <td>...</td>\n",
       "      <td>...</td>\n",
       "      <td>...</td>\n",
       "      <td>...</td>\n",
       "      <td>...</td>\n",
       "      <td>...</td>\n",
       "      <td>...</td>\n",
       "    </tr>\n",
       "    <tr>\n",
       "      <th>CT_Mean_Sea_Level_Pressure</th>\n",
       "      <td>12540.0</td>\n",
       "      <td>1019.431284</td>\n",
       "      <td>5.167380</td>\n",
       "      <td>1004.900000</td>\n",
       "      <td>1015.700000</td>\n",
       "      <td>1018.700000</td>\n",
       "      <td>1022.800000</td>\n",
       "      <td>1039.300000</td>\n",
       "    </tr>\n",
       "    <tr>\n",
       "      <th>CT_Soil_Temperature_10cm</th>\n",
       "      <td>12540.0</td>\n",
       "      <td>72.958084</td>\n",
       "      <td>11.077126</td>\n",
       "      <td>47.353996</td>\n",
       "      <td>63.495509</td>\n",
       "      <td>72.914020</td>\n",
       "      <td>82.170490</td>\n",
       "      <td>101.282036</td>\n",
       "    </tr>\n",
       "    <tr>\n",
       "      <th>CT_Soil_Moisture_10cm</th>\n",
       "      <td>12540.0</td>\n",
       "      <td>0.172284</td>\n",
       "      <td>0.074180</td>\n",
       "      <td>0.061000</td>\n",
       "      <td>0.106000</td>\n",
       "      <td>0.163000</td>\n",
       "      <td>0.228000</td>\n",
       "      <td>0.390000</td>\n",
       "    </tr>\n",
       "    <tr>\n",
       "      <th>CT_Wind_Direction_Dominant_10m</th>\n",
       "      <td>12540.0</td>\n",
       "      <td>200.026551</td>\n",
       "      <td>87.813078</td>\n",
       "      <td>0.000000</td>\n",
       "      <td>133.072968</td>\n",
       "      <td>182.560735</td>\n",
       "      <td>282.483470</td>\n",
       "      <td>360.000000</td>\n",
       "    </tr>\n",
       "    <tr>\n",
       "      <th>Year_extract_y</th>\n",
       "      <td>12540.0</td>\n",
       "      <td>2002.329426</td>\n",
       "      <td>9.912827</td>\n",
       "      <td>1985.000000</td>\n",
       "      <td>1994.000000</td>\n",
       "      <td>2002.000000</td>\n",
       "      <td>2011.000000</td>\n",
       "      <td>2019.000000</td>\n",
       "    </tr>\n",
       "  </tbody>\n",
       "</table>\n",
       "<p>65 rows × 8 columns</p>\n",
       "</div>"
      ],
      "text/plain": [
       "                                                      count         mean  \\\n",
       "Unnamed: 0                                          12540.0  6269.500000   \n",
       "Unnamed: 0.1                                        12540.0  6269.500000   \n",
       "Year_extract                                        12540.0  2002.329426   \n",
       "CO2 emissions from liquid fuel consumption (kt)...  12540.0  8002.443374   \n",
       "Energy related methane emissions (% of total)_new   12540.0    26.409585   \n",
       "...                                                     ...          ...   \n",
       "CT_Mean_Sea_Level_Pressure                          12540.0  1019.431284   \n",
       "CT_Soil_Temperature_10cm                            12540.0    72.958084   \n",
       "CT_Soil_Moisture_10cm                               12540.0     0.172284   \n",
       "CT_Wind_Direction_Dominant_10m                      12540.0   200.026551   \n",
       "Year_extract_y                                      12540.0  2002.329426   \n",
       "\n",
       "                                                            std          min  \\\n",
       "Unnamed: 0                                          3620.130523     0.000000   \n",
       "Unnamed: 0.1                                        3620.130523     0.000000   \n",
       "Year_extract                                           9.912827  1985.000000   \n",
       "CO2 emissions from liquid fuel consumption (kt)...  2976.637887  3110.812371   \n",
       "Energy related methane emissions (% of total)_new      3.657094    15.440817   \n",
       "...                                                         ...          ...   \n",
       "CT_Mean_Sea_Level_Pressure                             5.167380  1004.900000   \n",
       "CT_Soil_Temperature_10cm                              11.077126    47.353996   \n",
       "CT_Soil_Moisture_10cm                                  0.074180     0.061000   \n",
       "CT_Wind_Direction_Dominant_10m                        87.813078     0.000000   \n",
       "Year_extract_y                                         9.912827  1985.000000   \n",
       "\n",
       "                                                            25%          50%  \\\n",
       "Unnamed: 0                                          3134.750000  6269.500000   \n",
       "Unnamed: 0.1                                        3134.750000  6269.500000   \n",
       "Year_extract                                        1994.000000  2002.000000   \n",
       "CO2 emissions from liquid fuel consumption (kt)...  5539.289289  8072.849328   \n",
       "Energy related methane emissions (% of total)_new     23.663625    26.308925   \n",
       "...                                                         ...          ...   \n",
       "CT_Mean_Sea_Level_Pressure                          1015.700000  1018.700000   \n",
       "CT_Soil_Temperature_10cm                              63.495509    72.914020   \n",
       "CT_Soil_Moisture_10cm                                  0.106000     0.163000   \n",
       "CT_Wind_Direction_Dominant_10m                       133.072968   182.560735   \n",
       "Year_extract_y                                      1994.000000  2002.000000   \n",
       "\n",
       "                                                            75%           max  \n",
       "Unnamed: 0                                          9404.250000  12539.000000  \n",
       "Unnamed: 0.1                                        9404.250000  12539.000000  \n",
       "Year_extract                                        2011.000000   2019.000000  \n",
       "CO2 emissions from liquid fuel consumption (kt)...  9801.426182  13271.603790  \n",
       "Energy related methane emissions (% of total)_new     29.138590     38.775679  \n",
       "...                                                         ...           ...  \n",
       "CT_Mean_Sea_Level_Pressure                          1022.800000   1039.300000  \n",
       "CT_Soil_Temperature_10cm                              82.170490    101.282036  \n",
       "CT_Soil_Moisture_10cm                                  0.228000      0.390000  \n",
       "CT_Wind_Direction_Dominant_10m                       282.483470    360.000000  \n",
       "Year_extract_y                                      2011.000000   2019.000000  \n",
       "\n",
       "[65 rows x 8 columns]"
      ]
     },
     "execution_count": 4,
     "metadata": {},
     "output_type": "execute_result"
    },
    {
     "name": "stdout",
     "output_type": "stream",
     "text": [
      "<class 'pandas.core.frame.DataFrame'>\n",
      "RangeIndex: 12540 entries, 0 to 12539\n",
      "Data columns (total 66 columns):\n",
      " #   Column                                                                                 Non-Null Count  Dtype  \n",
      "---  ------                                                                                 --------------  -----  \n",
      " 0   Unnamed: 0                                                                             12540 non-null  int64  \n",
      " 1   Unnamed: 0.1                                                                           12540 non-null  int64  \n",
      " 2   timestamp                                                                              12540 non-null  object \n",
      " 3   Year_extract                                                                           12540 non-null  int64  \n",
      " 4   CO2 emissions from liquid fuel consumption (kt)_new                                    12540 non-null  float64\n",
      " 5   Energy related methane emissions (% of total)_new                                      12540 non-null  float64\n",
      " 6   Fuel exports (% of merchandise exports)_new                                            12540 non-null  float64\n",
      " 7   Fuel imports (% of merchandise imports)_new                                            12540 non-null  float64\n",
      " 8   Methane emissions in energy sector (thousand metric tons of CO2 equivalent)_new        12540 non-null  float64\n",
      " 9   Mineral rents (% of GDP)_new                                                           12540 non-null  float64\n",
      " 10  Nitrous oxide emissions in energy sector (thousand metric tons of CO2 equivalent)_new  12540 non-null  float64\n",
      " 11  Ores and metals exports (% of merchandise exports)_new                                 12540 non-null  float64\n",
      " 12  Total natural resources rents (% of GDP)_new                                           12540 non-null  float64\n",
      " 13  Agricultural land (% of land area)_new                                                 12540 non-null  float64\n",
      " 14  Agricultural land (sq. km)_new                                                         12540 non-null  float64\n",
      " 15  Agriculture, forestry, and fishing, value added (% of GDP)_new                         12540 non-null  float64\n",
      " 16  Arable land (% of land area)_new                                                       12540 non-null  float64\n",
      " 17  CO2 emissions (kt)_new                                                                 12540 non-null  float64\n",
      " 18  CO2 emissions (metric tons per capita)_new                                             12540 non-null  float64\n",
      " 19  Foreign direct investment, net inflows (% of GDP)_new                                  12540 non-null  float64\n",
      " 20  Methane emissions (kt of CO2 equivalent)_new                                           12540 non-null  float64\n",
      " 21  Mortality rate, under-5 (per 1,000 live births)_new                                    12540 non-null  float64\n",
      " 22  Nitrous oxide emissions (thousand metric tons of CO2 equivalent)_new                   12540 non-null  float64\n",
      " 23  Population growth (annual %)_new                                                       12540 non-null  float64\n",
      " 24  Population in urban agglomerations of more than 1 million (% of total population)_new  12540 non-null  float64\n",
      " 25  Population, total_new                                                                  12540 non-null  float64\n",
      " 26  Total greenhouse gas emissions (kt of CO2 equivalent)_new                              12540 non-null  float64\n",
      " 27  Urban population_new                                                                   12540 non-null  float64\n",
      " 28  N_Temperature_m                                                                        12540 non-null  float64\n",
      " 29  N_Precipitation_Total                                                                  12540 non-null  float64\n",
      " 30  N_Snowfall_Amount                                                                      12540 non-null  int64  \n",
      " 31  N_Relative_Humidity_m                                                                  12540 non-null  int64  \n",
      " 32  N_Wind_Speed_10m                                                                       12540 non-null  float64\n",
      " 33  N_Cloud_Cover_Total                                                                    12540 non-null  float64\n",
      " 34  N_Sunshine_Duration                                                                    12540 non-null  float64\n",
      " 35  N_Shortwave_Radiation                                                                  12540 non-null  float64\n",
      " 36  N_Mean_Sea_Level_Pressure                                                              12540 non-null  float64\n",
      " 37  N_Soil_Temperature_10cm                                                                12540 non-null  float64\n",
      " 38  N_Soil_Moisture_10cm                                                                   12540 non-null  float64\n",
      " 39  N_Wind_Direction_Dominant_10m                                                          12540 non-null  float64\n",
      " 40  Year_extract_x                                                                         12540 non-null  int64  \n",
      " 41  A_Temperature_m                                                                        12540 non-null  float64\n",
      " 42  A_Precipitation_Total                                                                  12540 non-null  float64\n",
      " 43  A_Snowfall_Amount                                                                      12540 non-null  int64  \n",
      " 44  A_Relative_Humidity_m                                                                  12540 non-null  int64  \n",
      " 45  A_Wind_Speed_10m                                                                       12540 non-null  float64\n",
      " 46  A_Cloud_Cover_Total                                                                    12540 non-null  float64\n",
      " 47  A_Sunshine_Duration                                                                    12540 non-null  float64\n",
      " 48  A_Shortwave_Radiation                                                                  12540 non-null  float64\n",
      " 49  A_Mean_Sea_Level_Pressure                                                              12540 non-null  float64\n",
      " 50  A_Soil_Temperature_10cm                                                                12540 non-null  float64\n",
      " 51  A_Soil_Moisture_10cm                                                                   12540 non-null  float64\n",
      " 52  A_Wind_Direction_Dominant_10m                                                          12540 non-null  float64\n",
      " 53  CT_Temperature_m                                                                       12540 non-null  float64\n",
      " 54  CT_Precipitation_Total                                                                 12540 non-null  float64\n",
      " 55  CT_Snowfall_Amount                                                                     12540 non-null  int64  \n",
      " 56  CT_Relative_Humidity_m                                                                 12540 non-null  int64  \n",
      " 57  CT_Wind_Speed_10m                                                                      12540 non-null  float64\n",
      " 58  CT_Cloud_Cover_Total                                                                   12540 non-null  float64\n",
      " 59  CT_Sunshine_Duration                                                                   12540 non-null  float64\n",
      " 60  CT_Shortwave_Radiation                                                                 12540 non-null  float64\n",
      " 61  CT_Mean_Sea_Level_Pressure                                                             12540 non-null  float64\n",
      " 62  CT_Soil_Temperature_10cm                                                               12540 non-null  float64\n",
      " 63  CT_Soil_Moisture_10cm                                                                  12540 non-null  float64\n",
      " 64  CT_Wind_Direction_Dominant_10m                                                         12540 non-null  float64\n",
      " 65  Year_extract_y                                                                         12540 non-null  int64  \n",
      "dtypes: float64(54), int64(11), object(1)\n",
      "memory usage: 6.3+ MB\n"
     ]
    }
   ],
   "source": [
    "dfy.head(); dfy.describe().T; dfy.info()"
   ]
  },
  {
   "cell_type": "code",
   "execution_count": 5,
   "id": "05dd5cd1-2c08-486d-ad8b-930561b63735",
   "metadata": {},
   "outputs": [
    {
     "data": {
      "text/html": [
       "<div>\n",
       "<style scoped>\n",
       "    .dataframe tbody tr th:only-of-type {\n",
       "        vertical-align: middle;\n",
       "    }\n",
       "\n",
       "    .dataframe tbody tr th {\n",
       "        vertical-align: top;\n",
       "    }\n",
       "\n",
       "    .dataframe thead th {\n",
       "        text-align: right;\n",
       "    }\n",
       "</style>\n",
       "<table border=\"1\" class=\"dataframe\">\n",
       "  <thead>\n",
       "    <tr style=\"text-align: right;\">\n",
       "      <th></th>\n",
       "      <th>CO2 (kt)_2_LG</th>\n",
       "      <th>Methane (kt)_LG</th>\n",
       "      <th>Nitrous Oxide(kt)_LG</th>\n",
       "      <th>Total Population_LG</th>\n",
       "      <th>Temperature (DegF)_LG</th>\n",
       "      <th>Precipitation (in)_LG</th>\n",
       "    </tr>\n",
       "    <tr>\n",
       "      <th>timestamp</th>\n",
       "      <th></th>\n",
       "      <th></th>\n",
       "      <th></th>\n",
       "      <th></th>\n",
       "      <th></th>\n",
       "      <th></th>\n",
       "    </tr>\n",
       "  </thead>\n",
       "  <tbody>\n",
       "    <tr>\n",
       "      <th>1985-09-01</th>\n",
       "      <td>-1.967903</td>\n",
       "      <td>-1.558215</td>\n",
       "      <td>-1.706544</td>\n",
       "      <td>-1.71924</td>\n",
       "      <td>-1.079776</td>\n",
       "      <td>-0.700926</td>\n",
       "    </tr>\n",
       "    <tr>\n",
       "      <th>1985-09-02</th>\n",
       "      <td>-1.966895</td>\n",
       "      <td>-1.558495</td>\n",
       "      <td>-1.707220</td>\n",
       "      <td>-1.71924</td>\n",
       "      <td>-0.597831</td>\n",
       "      <td>-0.700926</td>\n",
       "    </tr>\n",
       "    <tr>\n",
       "      <th>1985-09-03</th>\n",
       "      <td>-1.968262</td>\n",
       "      <td>-1.558320</td>\n",
       "      <td>-1.707351</td>\n",
       "      <td>-1.71924</td>\n",
       "      <td>-0.589035</td>\n",
       "      <td>-0.700926</td>\n",
       "    </tr>\n",
       "    <tr>\n",
       "      <th>1985-09-04</th>\n",
       "      <td>-1.967171</td>\n",
       "      <td>-1.558993</td>\n",
       "      <td>-1.706083</td>\n",
       "      <td>-1.71924</td>\n",
       "      <td>-0.795440</td>\n",
       "      <td>-0.700926</td>\n",
       "    </tr>\n",
       "    <tr>\n",
       "      <th>1985-09-05</th>\n",
       "      <td>-1.966236</td>\n",
       "      <td>-1.558738</td>\n",
       "      <td>-1.707069</td>\n",
       "      <td>-1.71924</td>\n",
       "      <td>-0.182630</td>\n",
       "      <td>-0.700926</td>\n",
       "    </tr>\n",
       "  </tbody>\n",
       "</table>\n",
       "</div>"
      ],
      "text/plain": [
       "            CO2 (kt)_2_LG  Methane (kt)_LG  Nitrous Oxide(kt)_LG  \\\n",
       "timestamp                                                          \n",
       "1985-09-01      -1.967903        -1.558215             -1.706544   \n",
       "1985-09-02      -1.966895        -1.558495             -1.707220   \n",
       "1985-09-03      -1.968262        -1.558320             -1.707351   \n",
       "1985-09-04      -1.967171        -1.558993             -1.706083   \n",
       "1985-09-05      -1.966236        -1.558738             -1.707069   \n",
       "\n",
       "            Total Population_LG  Temperature (DegF)_LG  Precipitation (in)_LG  \n",
       "timestamp                                                                      \n",
       "1985-09-01             -1.71924              -1.079776              -0.700926  \n",
       "1985-09-02             -1.71924              -0.597831              -0.700926  \n",
       "1985-09-03             -1.71924              -0.589035              -0.700926  \n",
       "1985-09-04             -1.71924              -0.795440              -0.700926  \n",
       "1985-09-05             -1.71924              -0.182630              -0.700926  "
      ]
     },
     "execution_count": 5,
     "metadata": {},
     "output_type": "execute_result"
    }
   ],
   "source": [
    "df.set_index('timestamp', inplace=True); df.head()"
   ]
  },
  {
   "cell_type": "code",
   "execution_count": 6,
   "id": "1df153a7-8e9f-4ebe-b6be-3bf35045cc3b",
   "metadata": {},
   "outputs": [
    {
     "data": {
      "text/html": [
       "<div>\n",
       "<style scoped>\n",
       "    .dataframe tbody tr th:only-of-type {\n",
       "        vertical-align: middle;\n",
       "    }\n",
       "\n",
       "    .dataframe tbody tr th {\n",
       "        vertical-align: top;\n",
       "    }\n",
       "\n",
       "    .dataframe thead th {\n",
       "        text-align: right;\n",
       "    }\n",
       "</style>\n",
       "<table border=\"1\" class=\"dataframe\">\n",
       "  <thead>\n",
       "    <tr style=\"text-align: right;\">\n",
       "      <th></th>\n",
       "      <th>Unnamed: 0</th>\n",
       "      <th>Unnamed: 0.1</th>\n",
       "      <th>Year_extract</th>\n",
       "      <th>CO2 emissions from liquid fuel consumption (kt)_new</th>\n",
       "      <th>Energy related methane emissions (% of total)_new</th>\n",
       "      <th>Fuel exports (% of merchandise exports)_new</th>\n",
       "      <th>Fuel imports (% of merchandise imports)_new</th>\n",
       "      <th>Methane emissions in energy sector (thousand metric tons of CO2 equivalent)_new</th>\n",
       "      <th>Mineral rents (% of GDP)_new</th>\n",
       "      <th>Nitrous oxide emissions in energy sector (thousand metric tons of CO2 equivalent)_new</th>\n",
       "      <th>...</th>\n",
       "      <th>CT_Relative_Humidity_m</th>\n",
       "      <th>CT_Wind_Speed_10m</th>\n",
       "      <th>CT_Cloud_Cover_Total</th>\n",
       "      <th>CT_Sunshine_Duration</th>\n",
       "      <th>CT_Shortwave_Radiation</th>\n",
       "      <th>CT_Mean_Sea_Level_Pressure</th>\n",
       "      <th>CT_Soil_Temperature_10cm</th>\n",
       "      <th>CT_Soil_Moisture_10cm</th>\n",
       "      <th>CT_Wind_Direction_Dominant_10m</th>\n",
       "      <th>Year_extract_y</th>\n",
       "    </tr>\n",
       "    <tr>\n",
       "      <th>timestamp</th>\n",
       "      <th></th>\n",
       "      <th></th>\n",
       "      <th></th>\n",
       "      <th></th>\n",
       "      <th></th>\n",
       "      <th></th>\n",
       "      <th></th>\n",
       "      <th></th>\n",
       "      <th></th>\n",
       "      <th></th>\n",
       "      <th></th>\n",
       "      <th></th>\n",
       "      <th></th>\n",
       "      <th></th>\n",
       "      <th></th>\n",
       "      <th></th>\n",
       "      <th></th>\n",
       "      <th></th>\n",
       "      <th></th>\n",
       "      <th></th>\n",
       "      <th></th>\n",
       "    </tr>\n",
       "  </thead>\n",
       "  <tbody>\n",
       "    <tr>\n",
       "      <th>1985-09-01</th>\n",
       "      <td>0</td>\n",
       "      <td>0</td>\n",
       "      <td>1985</td>\n",
       "      <td>3115.498132</td>\n",
       "      <td>24.162338</td>\n",
       "      <td>16.476346</td>\n",
       "      <td>28.932601</td>\n",
       "      <td>4279.666073</td>\n",
       "      <td>1.365497</td>\n",
       "      <td>362.545871</td>\n",
       "      <td>...</td>\n",
       "      <td>99</td>\n",
       "      <td>4.457064</td>\n",
       "      <td>15.708333</td>\n",
       "      <td>675.834840</td>\n",
       "      <td>5135.3003</td>\n",
       "      <td>1017.0</td>\n",
       "      <td>75.560020</td>\n",
       "      <td>0.145</td>\n",
       "      <td>292.47943</td>\n",
       "      <td>1985</td>\n",
       "    </tr>\n",
       "    <tr>\n",
       "      <th>1985-09-02</th>\n",
       "      <td>1</td>\n",
       "      <td>1</td>\n",
       "      <td>1985</td>\n",
       "      <td>3118.855606</td>\n",
       "      <td>21.529548</td>\n",
       "      <td>18.765827</td>\n",
       "      <td>31.529024</td>\n",
       "      <td>4274.313711</td>\n",
       "      <td>0.703036</td>\n",
       "      <td>362.384262</td>\n",
       "      <td>...</td>\n",
       "      <td>96</td>\n",
       "      <td>7.161691</td>\n",
       "      <td>93.000000</td>\n",
       "      <td>95.744675</td>\n",
       "      <td>4807.7803</td>\n",
       "      <td>1015.1</td>\n",
       "      <td>67.046005</td>\n",
       "      <td>0.141</td>\n",
       "      <td>288.88968</td>\n",
       "      <td>1985</td>\n",
       "    </tr>\n",
       "    <tr>\n",
       "      <th>1985-09-03</th>\n",
       "      <td>2</td>\n",
       "      <td>2</td>\n",
       "      <td>1985</td>\n",
       "      <td>3119.868040</td>\n",
       "      <td>26.957457</td>\n",
       "      <td>12.745660</td>\n",
       "      <td>31.855229</td>\n",
       "      <td>4280.127290</td>\n",
       "      <td>-3.874296</td>\n",
       "      <td>361.687885</td>\n",
       "      <td>...</td>\n",
       "      <td>92</td>\n",
       "      <td>8.108701</td>\n",
       "      <td>65.666664</td>\n",
       "      <td>105.773056</td>\n",
       "      <td>2403.0000</td>\n",
       "      <td>1020.8</td>\n",
       "      <td>62.636032</td>\n",
       "      <td>0.137</td>\n",
       "      <td>305.56384</td>\n",
       "      <td>1985</td>\n",
       "    </tr>\n",
       "    <tr>\n",
       "      <th>1985-09-04</th>\n",
       "      <td>3</td>\n",
       "      <td>3</td>\n",
       "      <td>1985</td>\n",
       "      <td>3122.340297</td>\n",
       "      <td>22.117795</td>\n",
       "      <td>15.393883</td>\n",
       "      <td>30.340974</td>\n",
       "      <td>4279.056049</td>\n",
       "      <td>0.019061</td>\n",
       "      <td>364.689648</td>\n",
       "      <td>...</td>\n",
       "      <td>90</td>\n",
       "      <td>6.187060</td>\n",
       "      <td>52.820830</td>\n",
       "      <td>379.962770</td>\n",
       "      <td>5029.3896</td>\n",
       "      <td>1021.2</td>\n",
       "      <td>67.369990</td>\n",
       "      <td>0.140</td>\n",
       "      <td>245.22487</td>\n",
       "      <td>1985</td>\n",
       "    </tr>\n",
       "    <tr>\n",
       "      <th>1985-09-05</th>\n",
       "      <td>4</td>\n",
       "      <td>4</td>\n",
       "      <td>1985</td>\n",
       "      <td>3119.501944</td>\n",
       "      <td>20.538729</td>\n",
       "      <td>13.529428</td>\n",
       "      <td>30.462148</td>\n",
       "      <td>4279.879428</td>\n",
       "      <td>-1.444538</td>\n",
       "      <td>361.369231</td>\n",
       "      <td>...</td>\n",
       "      <td>100</td>\n",
       "      <td>7.644957</td>\n",
       "      <td>49.208332</td>\n",
       "      <td>423.075840</td>\n",
       "      <td>5007.1406</td>\n",
       "      <td>1023.0</td>\n",
       "      <td>69.944030</td>\n",
       "      <td>0.140</td>\n",
       "      <td>262.43716</td>\n",
       "      <td>1985</td>\n",
       "    </tr>\n",
       "  </tbody>\n",
       "</table>\n",
       "<p>5 rows × 65 columns</p>\n",
       "</div>"
      ],
      "text/plain": [
       "            Unnamed: 0  Unnamed: 0.1  Year_extract  \\\n",
       "timestamp                                            \n",
       "1985-09-01           0             0          1985   \n",
       "1985-09-02           1             1          1985   \n",
       "1985-09-03           2             2          1985   \n",
       "1985-09-04           3             3          1985   \n",
       "1985-09-05           4             4          1985   \n",
       "\n",
       "            CO2 emissions from liquid fuel consumption (kt)_new  \\\n",
       "timestamp                                                         \n",
       "1985-09-01                                        3115.498132     \n",
       "1985-09-02                                        3118.855606     \n",
       "1985-09-03                                        3119.868040     \n",
       "1985-09-04                                        3122.340297     \n",
       "1985-09-05                                        3119.501944     \n",
       "\n",
       "            Energy related methane emissions (% of total)_new  \\\n",
       "timestamp                                                       \n",
       "1985-09-01                                          24.162338   \n",
       "1985-09-02                                          21.529548   \n",
       "1985-09-03                                          26.957457   \n",
       "1985-09-04                                          22.117795   \n",
       "1985-09-05                                          20.538729   \n",
       "\n",
       "            Fuel exports (% of merchandise exports)_new  \\\n",
       "timestamp                                                 \n",
       "1985-09-01                                    16.476346   \n",
       "1985-09-02                                    18.765827   \n",
       "1985-09-03                                    12.745660   \n",
       "1985-09-04                                    15.393883   \n",
       "1985-09-05                                    13.529428   \n",
       "\n",
       "            Fuel imports (% of merchandise imports)_new  \\\n",
       "timestamp                                                 \n",
       "1985-09-01                                    28.932601   \n",
       "1985-09-02                                    31.529024   \n",
       "1985-09-03                                    31.855229   \n",
       "1985-09-04                                    30.340974   \n",
       "1985-09-05                                    30.462148   \n",
       "\n",
       "            Methane emissions in energy sector (thousand metric tons of CO2 equivalent)_new  \\\n",
       "timestamp                                                                                     \n",
       "1985-09-01                                        4279.666073                                 \n",
       "1985-09-02                                        4274.313711                                 \n",
       "1985-09-03                                        4280.127290                                 \n",
       "1985-09-04                                        4279.056049                                 \n",
       "1985-09-05                                        4279.879428                                 \n",
       "\n",
       "            Mineral rents (% of GDP)_new  \\\n",
       "timestamp                                  \n",
       "1985-09-01                      1.365497   \n",
       "1985-09-02                      0.703036   \n",
       "1985-09-03                     -3.874296   \n",
       "1985-09-04                      0.019061   \n",
       "1985-09-05                     -1.444538   \n",
       "\n",
       "            Nitrous oxide emissions in energy sector (thousand metric tons of CO2 equivalent)_new  \\\n",
       "timestamp                                                                                           \n",
       "1985-09-01                                         362.545871                                       \n",
       "1985-09-02                                         362.384262                                       \n",
       "1985-09-03                                         361.687885                                       \n",
       "1985-09-04                                         364.689648                                       \n",
       "1985-09-05                                         361.369231                                       \n",
       "\n",
       "            ...  CT_Relative_Humidity_m  CT_Wind_Speed_10m  \\\n",
       "timestamp   ...                                              \n",
       "1985-09-01  ...                      99           4.457064   \n",
       "1985-09-02  ...                      96           7.161691   \n",
       "1985-09-03  ...                      92           8.108701   \n",
       "1985-09-04  ...                      90           6.187060   \n",
       "1985-09-05  ...                     100           7.644957   \n",
       "\n",
       "            CT_Cloud_Cover_Total  CT_Sunshine_Duration  \\\n",
       "timestamp                                                \n",
       "1985-09-01             15.708333            675.834840   \n",
       "1985-09-02             93.000000             95.744675   \n",
       "1985-09-03             65.666664            105.773056   \n",
       "1985-09-04             52.820830            379.962770   \n",
       "1985-09-05             49.208332            423.075840   \n",
       "\n",
       "            CT_Shortwave_Radiation  CT_Mean_Sea_Level_Pressure  \\\n",
       "timestamp                                                        \n",
       "1985-09-01               5135.3003                      1017.0   \n",
       "1985-09-02               4807.7803                      1015.1   \n",
       "1985-09-03               2403.0000                      1020.8   \n",
       "1985-09-04               5029.3896                      1021.2   \n",
       "1985-09-05               5007.1406                      1023.0   \n",
       "\n",
       "            CT_Soil_Temperature_10cm  CT_Soil_Moisture_10cm  \\\n",
       "timestamp                                                     \n",
       "1985-09-01                 75.560020                  0.145   \n",
       "1985-09-02                 67.046005                  0.141   \n",
       "1985-09-03                 62.636032                  0.137   \n",
       "1985-09-04                 67.369990                  0.140   \n",
       "1985-09-05                 69.944030                  0.140   \n",
       "\n",
       "            CT_Wind_Direction_Dominant_10m  Year_extract_y  \n",
       "timestamp                                                   \n",
       "1985-09-01                       292.47943            1985  \n",
       "1985-09-02                       288.88968            1985  \n",
       "1985-09-03                       305.56384            1985  \n",
       "1985-09-04                       245.22487            1985  \n",
       "1985-09-05                       262.43716            1985  \n",
       "\n",
       "[5 rows x 65 columns]"
      ]
     },
     "execution_count": 6,
     "metadata": {},
     "output_type": "execute_result"
    }
   ],
   "source": [
    "dfy.set_index('timestamp', inplace=True); dfy.head()"
   ]
  },
  {
   "cell_type": "code",
   "execution_count": 7,
   "id": "242a66ec-6622-48b6-87ef-e9bd9cbad85a",
   "metadata": {},
   "outputs": [],
   "source": [
    "dfy_rm = dfy.drop(columns = ['Unnamed: 0', 'Unnamed: 0.1'])"
   ]
  },
  {
   "cell_type": "code",
   "execution_count": 8,
   "id": "9a97a0b0-4e5c-4d1b-b534-5a611af29732",
   "metadata": {},
   "outputs": [
    {
     "data": {
      "text/html": [
       "<div>\n",
       "<style scoped>\n",
       "    .dataframe tbody tr th:only-of-type {\n",
       "        vertical-align: middle;\n",
       "    }\n",
       "\n",
       "    .dataframe tbody tr th {\n",
       "        vertical-align: top;\n",
       "    }\n",
       "\n",
       "    .dataframe thead th {\n",
       "        text-align: right;\n",
       "    }\n",
       "</style>\n",
       "<table border=\"1\" class=\"dataframe\">\n",
       "  <thead>\n",
       "    <tr style=\"text-align: right;\">\n",
       "      <th></th>\n",
       "      <th>Year_extract</th>\n",
       "      <th>CO2 emissions from liquid fuel consumption (kt)_new</th>\n",
       "      <th>Energy related methane emissions (% of total)_new</th>\n",
       "      <th>Fuel exports (% of merchandise exports)_new</th>\n",
       "      <th>Fuel imports (% of merchandise imports)_new</th>\n",
       "      <th>Methane emissions in energy sector (thousand metric tons of CO2 equivalent)_new</th>\n",
       "      <th>Mineral rents (% of GDP)_new</th>\n",
       "      <th>Nitrous oxide emissions in energy sector (thousand metric tons of CO2 equivalent)_new</th>\n",
       "      <th>Ores and metals exports (% of merchandise exports)_new</th>\n",
       "      <th>Total natural resources rents (% of GDP)_new</th>\n",
       "      <th>...</th>\n",
       "      <th>CT_Relative_Humidity_m</th>\n",
       "      <th>CT_Wind_Speed_10m</th>\n",
       "      <th>CT_Cloud_Cover_Total</th>\n",
       "      <th>CT_Sunshine_Duration</th>\n",
       "      <th>CT_Shortwave_Radiation</th>\n",
       "      <th>CT_Mean_Sea_Level_Pressure</th>\n",
       "      <th>CT_Soil_Temperature_10cm</th>\n",
       "      <th>CT_Soil_Moisture_10cm</th>\n",
       "      <th>CT_Wind_Direction_Dominant_10m</th>\n",
       "      <th>Year_extract_y</th>\n",
       "    </tr>\n",
       "    <tr>\n",
       "      <th>timestamp</th>\n",
       "      <th></th>\n",
       "      <th></th>\n",
       "      <th></th>\n",
       "      <th></th>\n",
       "      <th></th>\n",
       "      <th></th>\n",
       "      <th></th>\n",
       "      <th></th>\n",
       "      <th></th>\n",
       "      <th></th>\n",
       "      <th></th>\n",
       "      <th></th>\n",
       "      <th></th>\n",
       "      <th></th>\n",
       "      <th></th>\n",
       "      <th></th>\n",
       "      <th></th>\n",
       "      <th></th>\n",
       "      <th></th>\n",
       "      <th></th>\n",
       "      <th></th>\n",
       "    </tr>\n",
       "  </thead>\n",
       "  <tbody>\n",
       "    <tr>\n",
       "      <th>1985-09-01</th>\n",
       "      <td>1985</td>\n",
       "      <td>3115.498132</td>\n",
       "      <td>24.162338</td>\n",
       "      <td>16.476346</td>\n",
       "      <td>28.932601</td>\n",
       "      <td>4279.666073</td>\n",
       "      <td>1.365497</td>\n",
       "      <td>362.545871</td>\n",
       "      <td>1.829561</td>\n",
       "      <td>4.292895</td>\n",
       "      <td>...</td>\n",
       "      <td>99</td>\n",
       "      <td>4.457064</td>\n",
       "      <td>15.708333</td>\n",
       "      <td>675.834840</td>\n",
       "      <td>5135.3003</td>\n",
       "      <td>1017.0</td>\n",
       "      <td>75.560020</td>\n",
       "      <td>0.145</td>\n",
       "      <td>292.47943</td>\n",
       "      <td>1985</td>\n",
       "    </tr>\n",
       "    <tr>\n",
       "      <th>1985-09-02</th>\n",
       "      <td>1985</td>\n",
       "      <td>3118.855606</td>\n",
       "      <td>21.529548</td>\n",
       "      <td>18.765827</td>\n",
       "      <td>31.529024</td>\n",
       "      <td>4274.313711</td>\n",
       "      <td>0.703036</td>\n",
       "      <td>362.384262</td>\n",
       "      <td>2.517605</td>\n",
       "      <td>4.807012</td>\n",
       "      <td>...</td>\n",
       "      <td>96</td>\n",
       "      <td>7.161691</td>\n",
       "      <td>93.000000</td>\n",
       "      <td>95.744675</td>\n",
       "      <td>4807.7803</td>\n",
       "      <td>1015.1</td>\n",
       "      <td>67.046005</td>\n",
       "      <td>0.141</td>\n",
       "      <td>288.88968</td>\n",
       "      <td>1985</td>\n",
       "    </tr>\n",
       "    <tr>\n",
       "      <th>1985-09-03</th>\n",
       "      <td>1985</td>\n",
       "      <td>3119.868040</td>\n",
       "      <td>26.957457</td>\n",
       "      <td>12.745660</td>\n",
       "      <td>31.855229</td>\n",
       "      <td>4280.127290</td>\n",
       "      <td>-3.874296</td>\n",
       "      <td>361.687885</td>\n",
       "      <td>-1.140219</td>\n",
       "      <td>0.649032</td>\n",
       "      <td>...</td>\n",
       "      <td>92</td>\n",
       "      <td>8.108701</td>\n",
       "      <td>65.666664</td>\n",
       "      <td>105.773056</td>\n",
       "      <td>2403.0000</td>\n",
       "      <td>1020.8</td>\n",
       "      <td>62.636032</td>\n",
       "      <td>0.137</td>\n",
       "      <td>305.56384</td>\n",
       "      <td>1985</td>\n",
       "    </tr>\n",
       "    <tr>\n",
       "      <th>1985-09-04</th>\n",
       "      <td>1985</td>\n",
       "      <td>3122.340297</td>\n",
       "      <td>22.117795</td>\n",
       "      <td>15.393883</td>\n",
       "      <td>30.340974</td>\n",
       "      <td>4279.056049</td>\n",
       "      <td>0.019061</td>\n",
       "      <td>364.689648</td>\n",
       "      <td>6.203908</td>\n",
       "      <td>6.455491</td>\n",
       "      <td>...</td>\n",
       "      <td>90</td>\n",
       "      <td>6.187060</td>\n",
       "      <td>52.820830</td>\n",
       "      <td>379.962770</td>\n",
       "      <td>5029.3896</td>\n",
       "      <td>1021.2</td>\n",
       "      <td>67.369990</td>\n",
       "      <td>0.140</td>\n",
       "      <td>245.22487</td>\n",
       "      <td>1985</td>\n",
       "    </tr>\n",
       "    <tr>\n",
       "      <th>1985-09-05</th>\n",
       "      <td>1985</td>\n",
       "      <td>3119.501944</td>\n",
       "      <td>20.538729</td>\n",
       "      <td>13.529428</td>\n",
       "      <td>30.462148</td>\n",
       "      <td>4279.879428</td>\n",
       "      <td>-1.444538</td>\n",
       "      <td>361.369231</td>\n",
       "      <td>0.028296</td>\n",
       "      <td>0.878724</td>\n",
       "      <td>...</td>\n",
       "      <td>100</td>\n",
       "      <td>7.644957</td>\n",
       "      <td>49.208332</td>\n",
       "      <td>423.075840</td>\n",
       "      <td>5007.1406</td>\n",
       "      <td>1023.0</td>\n",
       "      <td>69.944030</td>\n",
       "      <td>0.140</td>\n",
       "      <td>262.43716</td>\n",
       "      <td>1985</td>\n",
       "    </tr>\n",
       "  </tbody>\n",
       "</table>\n",
       "<p>5 rows × 63 columns</p>\n",
       "</div>"
      ],
      "text/plain": [
       "            Year_extract  CO2 emissions from liquid fuel consumption (kt)_new  \\\n",
       "timestamp                                                                       \n",
       "1985-09-01          1985                                        3115.498132     \n",
       "1985-09-02          1985                                        3118.855606     \n",
       "1985-09-03          1985                                        3119.868040     \n",
       "1985-09-04          1985                                        3122.340297     \n",
       "1985-09-05          1985                                        3119.501944     \n",
       "\n",
       "            Energy related methane emissions (% of total)_new  \\\n",
       "timestamp                                                       \n",
       "1985-09-01                                          24.162338   \n",
       "1985-09-02                                          21.529548   \n",
       "1985-09-03                                          26.957457   \n",
       "1985-09-04                                          22.117795   \n",
       "1985-09-05                                          20.538729   \n",
       "\n",
       "            Fuel exports (% of merchandise exports)_new  \\\n",
       "timestamp                                                 \n",
       "1985-09-01                                    16.476346   \n",
       "1985-09-02                                    18.765827   \n",
       "1985-09-03                                    12.745660   \n",
       "1985-09-04                                    15.393883   \n",
       "1985-09-05                                    13.529428   \n",
       "\n",
       "            Fuel imports (% of merchandise imports)_new  \\\n",
       "timestamp                                                 \n",
       "1985-09-01                                    28.932601   \n",
       "1985-09-02                                    31.529024   \n",
       "1985-09-03                                    31.855229   \n",
       "1985-09-04                                    30.340974   \n",
       "1985-09-05                                    30.462148   \n",
       "\n",
       "            Methane emissions in energy sector (thousand metric tons of CO2 equivalent)_new  \\\n",
       "timestamp                                                                                     \n",
       "1985-09-01                                        4279.666073                                 \n",
       "1985-09-02                                        4274.313711                                 \n",
       "1985-09-03                                        4280.127290                                 \n",
       "1985-09-04                                        4279.056049                                 \n",
       "1985-09-05                                        4279.879428                                 \n",
       "\n",
       "            Mineral rents (% of GDP)_new  \\\n",
       "timestamp                                  \n",
       "1985-09-01                      1.365497   \n",
       "1985-09-02                      0.703036   \n",
       "1985-09-03                     -3.874296   \n",
       "1985-09-04                      0.019061   \n",
       "1985-09-05                     -1.444538   \n",
       "\n",
       "            Nitrous oxide emissions in energy sector (thousand metric tons of CO2 equivalent)_new  \\\n",
       "timestamp                                                                                           \n",
       "1985-09-01                                         362.545871                                       \n",
       "1985-09-02                                         362.384262                                       \n",
       "1985-09-03                                         361.687885                                       \n",
       "1985-09-04                                         364.689648                                       \n",
       "1985-09-05                                         361.369231                                       \n",
       "\n",
       "            Ores and metals exports (% of merchandise exports)_new  \\\n",
       "timestamp                                                            \n",
       "1985-09-01                                           1.829561        \n",
       "1985-09-02                                           2.517605        \n",
       "1985-09-03                                          -1.140219        \n",
       "1985-09-04                                           6.203908        \n",
       "1985-09-05                                           0.028296        \n",
       "\n",
       "            Total natural resources rents (% of GDP)_new  ...  \\\n",
       "timestamp                                                 ...   \n",
       "1985-09-01                                      4.292895  ...   \n",
       "1985-09-02                                      4.807012  ...   \n",
       "1985-09-03                                      0.649032  ...   \n",
       "1985-09-04                                      6.455491  ...   \n",
       "1985-09-05                                      0.878724  ...   \n",
       "\n",
       "            CT_Relative_Humidity_m  CT_Wind_Speed_10m  CT_Cloud_Cover_Total  \\\n",
       "timestamp                                                                     \n",
       "1985-09-01                      99           4.457064             15.708333   \n",
       "1985-09-02                      96           7.161691             93.000000   \n",
       "1985-09-03                      92           8.108701             65.666664   \n",
       "1985-09-04                      90           6.187060             52.820830   \n",
       "1985-09-05                     100           7.644957             49.208332   \n",
       "\n",
       "            CT_Sunshine_Duration  CT_Shortwave_Radiation  \\\n",
       "timestamp                                                  \n",
       "1985-09-01            675.834840               5135.3003   \n",
       "1985-09-02             95.744675               4807.7803   \n",
       "1985-09-03            105.773056               2403.0000   \n",
       "1985-09-04            379.962770               5029.3896   \n",
       "1985-09-05            423.075840               5007.1406   \n",
       "\n",
       "            CT_Mean_Sea_Level_Pressure  CT_Soil_Temperature_10cm  \\\n",
       "timestamp                                                          \n",
       "1985-09-01                      1017.0                 75.560020   \n",
       "1985-09-02                      1015.1                 67.046005   \n",
       "1985-09-03                      1020.8                 62.636032   \n",
       "1985-09-04                      1021.2                 67.369990   \n",
       "1985-09-05                      1023.0                 69.944030   \n",
       "\n",
       "            CT_Soil_Moisture_10cm  CT_Wind_Direction_Dominant_10m  \\\n",
       "timestamp                                                           \n",
       "1985-09-01                  0.145                       292.47943   \n",
       "1985-09-02                  0.141                       288.88968   \n",
       "1985-09-03                  0.137                       305.56384   \n",
       "1985-09-04                  0.140                       245.22487   \n",
       "1985-09-05                  0.140                       262.43716   \n",
       "\n",
       "            Year_extract_y  \n",
       "timestamp                   \n",
       "1985-09-01            1985  \n",
       "1985-09-02            1985  \n",
       "1985-09-03            1985  \n",
       "1985-09-04            1985  \n",
       "1985-09-05            1985  \n",
       "\n",
       "[5 rows x 63 columns]"
      ]
     },
     "execution_count": 8,
     "metadata": {},
     "output_type": "execute_result"
    }
   ],
   "source": [
    "dfy_rm.head()"
   ]
  },
  {
   "cell_type": "code",
   "execution_count": 9,
   "id": "e39feb1e-23ce-4d75-b51e-d0b196705863",
   "metadata": {},
   "outputs": [],
   "source": [
    "df=df.dropna()"
   ]
  },
  {
   "cell_type": "code",
   "execution_count": 10,
   "id": "91e4294c-4aa8-4194-b023-fdf31d516ebf",
   "metadata": {},
   "outputs": [],
   "source": [
    "dfy_rm=dfy_rm.dropna()"
   ]
  },
  {
   "cell_type": "code",
   "execution_count": 11,
   "id": "1e84017d-33fe-4e35-ba38-66d05edded72",
   "metadata": {},
   "outputs": [
    {
     "data": {
      "text/plain": [
       "Index(['CO2 (kt)_2_LG', 'Methane (kt)_LG', 'Nitrous Oxide(kt)_LG',\n",
       "       'Total Population_LG', 'Temperature (DegF)_LG',\n",
       "       'Precipitation (in)_LG'],\n",
       "      dtype='object')"
      ]
     },
     "execution_count": 11,
     "metadata": {},
     "output_type": "execute_result"
    },
    {
     "data": {
      "text/plain": [
       "Index(['Year_extract', 'CO2 emissions from liquid fuel consumption (kt)_new',\n",
       "       'Energy related methane emissions (% of total)_new',\n",
       "       'Fuel exports (% of merchandise exports)_new',\n",
       "       'Fuel imports (% of merchandise imports)_new',\n",
       "       'Methane emissions in energy sector (thousand metric tons of CO2 equivalent)_new',\n",
       "       'Mineral rents (% of GDP)_new',\n",
       "       'Nitrous oxide emissions in energy sector (thousand metric tons of CO2 equivalent)_new',\n",
       "       'Ores and metals exports (% of merchandise exports)_new',\n",
       "       'Total natural resources rents (% of GDP)_new',\n",
       "       'Agricultural land (% of land area)_new',\n",
       "       'Agricultural land (sq. km)_new',\n",
       "       'Agriculture, forestry, and fishing, value added (% of GDP)_new',\n",
       "       'Arable land (% of land area)_new', 'CO2 emissions (kt)_new',\n",
       "       'CO2 emissions (metric tons per capita)_new',\n",
       "       'Foreign direct investment, net inflows (% of GDP)_new',\n",
       "       'Methane emissions (kt of CO2 equivalent)_new',\n",
       "       'Mortality rate, under-5 (per 1,000 live births)_new',\n",
       "       'Nitrous oxide emissions (thousand metric tons of CO2 equivalent)_new',\n",
       "       'Population growth (annual %)_new',\n",
       "       'Population in urban agglomerations of more than 1 million (% of total population)_new',\n",
       "       'Population, total_new',\n",
       "       'Total greenhouse gas emissions (kt of CO2 equivalent)_new',\n",
       "       'Urban population_new', 'N_Temperature_m', 'N_Precipitation_Total',\n",
       "       'N_Snowfall_Amount', 'N_Relative_Humidity_m', 'N_Wind_Speed_10m',\n",
       "       'N_Cloud_Cover_Total', 'N_Sunshine_Duration', 'N_Shortwave_Radiation',\n",
       "       'N_Mean_Sea_Level_Pressure', 'N_Soil_Temperature_10cm',\n",
       "       'N_Soil_Moisture_10cm', 'N_Wind_Direction_Dominant_10m',\n",
       "       'Year_extract_x', 'A_Temperature_m', 'A_Precipitation_Total',\n",
       "       'A_Snowfall_Amount', 'A_Relative_Humidity_m', 'A_Wind_Speed_10m',\n",
       "       'A_Cloud_Cover_Total', 'A_Sunshine_Duration', 'A_Shortwave_Radiation',\n",
       "       'A_Mean_Sea_Level_Pressure', 'A_Soil_Temperature_10cm',\n",
       "       'A_Soil_Moisture_10cm', 'A_Wind_Direction_Dominant_10m',\n",
       "       'CT_Temperature_m', 'CT_Precipitation_Total', 'CT_Snowfall_Amount',\n",
       "       'CT_Relative_Humidity_m', 'CT_Wind_Speed_10m', 'CT_Cloud_Cover_Total',\n",
       "       'CT_Sunshine_Duration', 'CT_Shortwave_Radiation',\n",
       "       'CT_Mean_Sea_Level_Pressure', 'CT_Soil_Temperature_10cm',\n",
       "       'CT_Soil_Moisture_10cm', 'CT_Wind_Direction_Dominant_10m',\n",
       "       'Year_extract_y'],\n",
       "      dtype='object')"
      ]
     },
     "execution_count": 11,
     "metadata": {},
     "output_type": "execute_result"
    }
   ],
   "source": [
    "df.columns; dfy_rm.columns\n",
    "df_original = dfy_rm"
   ]
  },
  {
   "cell_type": "code",
   "execution_count": 12,
   "id": "7fdfb42c-0d14-4325-b39c-5efe087b1c0b",
   "metadata": {},
   "outputs": [],
   "source": [
    "features = ['CO2 emissions (kt)_new',\n",
    "       'Methane emissions (kt of CO2 equivalent)_new',\n",
    "       'Nitrous oxide emissions (thousand metric tons of CO2 equivalent)_new',\n",
    "       'Population, total_new', 'Urban population_new','N_Temperature_m',\n",
    "       'N_Precipitation_Total', 'N_Relative_Humidity_m',\n",
    "       'N_Mean_Sea_Level_Pressure', 'N_Soil_Moisture_10cm']\n",
    "\n",
    "# Function that creates columns representing Nth prior measurements of feature\n",
    "# None values maintain the consistent rows length for each N\n",
    "def derive_nth_day_feature(dfy_rm, feature, N):  \n",
    "    rows = dfy_rm.shape[0]\n",
    "    nth_prior_measurements = [None]*N + [dfy_rm[feature][i-N] for i in range(N, rows)]\n",
    "    col_name = \"{}_{}\".format(feature, N)\n",
    "    dfy_rm[col_name] = nth_prior_measurements\n",
    "    \n",
    "# Call the above function using a loop through each feature\n",
    "for feature in features:  \n",
    "    if feature != 'DATE':\n",
    "        for N in range(1, 4):\n",
    "            derive_nth_day_feature(dfy_rm, feature, N)\n",
    "            \n",
    "dfy_rm = dfy_rm.dropna()"
   ]
  },
  {
   "cell_type": "code",
   "execution_count": 13,
   "id": "27ad1044-b154-49bd-9133-1c239f5d1249",
   "metadata": {},
   "outputs": [
    {
     "data": {
      "text/html": [
       "<div>\n",
       "<style scoped>\n",
       "    .dataframe tbody tr th:only-of-type {\n",
       "        vertical-align: middle;\n",
       "    }\n",
       "\n",
       "    .dataframe tbody tr th {\n",
       "        vertical-align: top;\n",
       "    }\n",
       "\n",
       "    .dataframe thead th {\n",
       "        text-align: right;\n",
       "    }\n",
       "</style>\n",
       "<table border=\"1\" class=\"dataframe\">\n",
       "  <thead>\n",
       "    <tr style=\"text-align: right;\">\n",
       "      <th></th>\n",
       "      <th>N_Temperature_m</th>\n",
       "      <th>CO2 emissions (kt)_new_1</th>\n",
       "      <th>CO2 emissions (kt)_new_2</th>\n",
       "      <th>CO2 emissions (kt)_new_3</th>\n",
       "      <th>Methane emissions (kt of CO2 equivalent)_new_1</th>\n",
       "      <th>Methane emissions (kt of CO2 equivalent)_new_2</th>\n",
       "      <th>Methane emissions (kt of CO2 equivalent)_new_3</th>\n",
       "      <th>Nitrous oxide emissions (thousand metric tons of CO2 equivalent)_new_1</th>\n",
       "      <th>Nitrous oxide emissions (thousand metric tons of CO2 equivalent)_new_2</th>\n",
       "      <th>Nitrous oxide emissions (thousand metric tons of CO2 equivalent)_new_3</th>\n",
       "      <th>...</th>\n",
       "      <th>N_Precipitation_Total_3</th>\n",
       "      <th>N_Relative_Humidity_m_1</th>\n",
       "      <th>N_Relative_Humidity_m_2</th>\n",
       "      <th>N_Relative_Humidity_m_3</th>\n",
       "      <th>N_Mean_Sea_Level_Pressure_1</th>\n",
       "      <th>N_Mean_Sea_Level_Pressure_2</th>\n",
       "      <th>N_Mean_Sea_Level_Pressure_3</th>\n",
       "      <th>N_Soil_Moisture_10cm_1</th>\n",
       "      <th>N_Soil_Moisture_10cm_2</th>\n",
       "      <th>N_Soil_Moisture_10cm_3</th>\n",
       "    </tr>\n",
       "    <tr>\n",
       "      <th>timestamp</th>\n",
       "      <th></th>\n",
       "      <th></th>\n",
       "      <th></th>\n",
       "      <th></th>\n",
       "      <th></th>\n",
       "      <th></th>\n",
       "      <th></th>\n",
       "      <th></th>\n",
       "      <th></th>\n",
       "      <th></th>\n",
       "      <th></th>\n",
       "      <th></th>\n",
       "      <th></th>\n",
       "      <th></th>\n",
       "      <th></th>\n",
       "      <th></th>\n",
       "      <th></th>\n",
       "      <th></th>\n",
       "      <th></th>\n",
       "      <th></th>\n",
       "      <th></th>\n",
       "    </tr>\n",
       "  </thead>\n",
       "  <tbody>\n",
       "    <tr>\n",
       "      <th>1985-09-04</th>\n",
       "      <td>70.79904</td>\n",
       "      <td>3768.274402</td>\n",
       "      <td>3770.763728</td>\n",
       "      <td>3768.928001</td>\n",
       "      <td>17656.693362</td>\n",
       "      <td>17656.019487</td>\n",
       "      <td>17657.099043</td>\n",
       "      <td>7956.062528</td>\n",
       "      <td>7956.316590</td>\n",
       "      <td>7957.632802</td>\n",
       "      <td>...</td>\n",
       "      <td>0.0</td>\n",
       "      <td>88.0</td>\n",
       "      <td>86.0</td>\n",
       "      <td>84.0</td>\n",
       "      <td>1018.3</td>\n",
       "      <td>1017.8</td>\n",
       "      <td>1017.5</td>\n",
       "      <td>0.193</td>\n",
       "      <td>0.172</td>\n",
       "      <td>0.172</td>\n",
       "    </tr>\n",
       "    <tr>\n",
       "      <th>1985-09-05</th>\n",
       "      <td>73.30104</td>\n",
       "      <td>3770.260578</td>\n",
       "      <td>3768.274402</td>\n",
       "      <td>3770.763728</td>\n",
       "      <td>17654.099834</td>\n",
       "      <td>17656.693362</td>\n",
       "      <td>17656.019487</td>\n",
       "      <td>7958.529672</td>\n",
       "      <td>7956.062528</td>\n",
       "      <td>7956.316590</td>\n",
       "      <td>...</td>\n",
       "      <td>0.0</td>\n",
       "      <td>85.0</td>\n",
       "      <td>88.0</td>\n",
       "      <td>86.0</td>\n",
       "      <td>1018.6</td>\n",
       "      <td>1018.3</td>\n",
       "      <td>1017.8</td>\n",
       "      <td>0.202</td>\n",
       "      <td>0.193</td>\n",
       "      <td>0.172</td>\n",
       "    </tr>\n",
       "    <tr>\n",
       "      <th>1985-09-06</th>\n",
       "      <td>74.68704</td>\n",
       "      <td>3771.964733</td>\n",
       "      <td>3770.260578</td>\n",
       "      <td>3768.274402</td>\n",
       "      <td>17655.083125</td>\n",
       "      <td>17654.099834</td>\n",
       "      <td>17656.693362</td>\n",
       "      <td>7956.609886</td>\n",
       "      <td>7958.529672</td>\n",
       "      <td>7956.062528</td>\n",
       "      <td>...</td>\n",
       "      <td>0.0</td>\n",
       "      <td>86.0</td>\n",
       "      <td>85.0</td>\n",
       "      <td>88.0</td>\n",
       "      <td>1017.1</td>\n",
       "      <td>1018.6</td>\n",
       "      <td>1018.3</td>\n",
       "      <td>0.202</td>\n",
       "      <td>0.202</td>\n",
       "      <td>0.193</td>\n",
       "    </tr>\n",
       "    <tr>\n",
       "      <th>1985-09-07</th>\n",
       "      <td>75.24504</td>\n",
       "      <td>3769.485727</td>\n",
       "      <td>3771.964733</td>\n",
       "      <td>3770.260578</td>\n",
       "      <td>17655.201195</td>\n",
       "      <td>17655.083125</td>\n",
       "      <td>17654.099834</td>\n",
       "      <td>7956.759090</td>\n",
       "      <td>7956.609886</td>\n",
       "      <td>7958.529672</td>\n",
       "      <td>...</td>\n",
       "      <td>0.0</td>\n",
       "      <td>79.0</td>\n",
       "      <td>86.0</td>\n",
       "      <td>85.0</td>\n",
       "      <td>1017.1</td>\n",
       "      <td>1017.1</td>\n",
       "      <td>1018.6</td>\n",
       "      <td>0.183</td>\n",
       "      <td>0.202</td>\n",
       "      <td>0.202</td>\n",
       "    </tr>\n",
       "    <tr>\n",
       "      <th>1985-09-08</th>\n",
       "      <td>71.53705</td>\n",
       "      <td>3769.517416</td>\n",
       "      <td>3769.485727</td>\n",
       "      <td>3771.964733</td>\n",
       "      <td>17655.769772</td>\n",
       "      <td>17655.201195</td>\n",
       "      <td>17655.083125</td>\n",
       "      <td>7957.627874</td>\n",
       "      <td>7956.759090</td>\n",
       "      <td>7956.609886</td>\n",
       "      <td>...</td>\n",
       "      <td>0.0</td>\n",
       "      <td>79.0</td>\n",
       "      <td>79.0</td>\n",
       "      <td>86.0</td>\n",
       "      <td>1018.0</td>\n",
       "      <td>1017.1</td>\n",
       "      <td>1017.1</td>\n",
       "      <td>0.179</td>\n",
       "      <td>0.183</td>\n",
       "      <td>0.202</td>\n",
       "    </tr>\n",
       "  </tbody>\n",
       "</table>\n",
       "<p>5 rows × 31 columns</p>\n",
       "</div>"
      ],
      "text/plain": [
       "            N_Temperature_m  CO2 emissions (kt)_new_1  \\\n",
       "timestamp                                               \n",
       "1985-09-04         70.79904               3768.274402   \n",
       "1985-09-05         73.30104               3770.260578   \n",
       "1985-09-06         74.68704               3771.964733   \n",
       "1985-09-07         75.24504               3769.485727   \n",
       "1985-09-08         71.53705               3769.517416   \n",
       "\n",
       "            CO2 emissions (kt)_new_2  CO2 emissions (kt)_new_3  \\\n",
       "timestamp                                                        \n",
       "1985-09-04               3770.763728               3768.928001   \n",
       "1985-09-05               3768.274402               3770.763728   \n",
       "1985-09-06               3770.260578               3768.274402   \n",
       "1985-09-07               3771.964733               3770.260578   \n",
       "1985-09-08               3769.485727               3771.964733   \n",
       "\n",
       "            Methane emissions (kt of CO2 equivalent)_new_1  \\\n",
       "timestamp                                                    \n",
       "1985-09-04                                    17656.693362   \n",
       "1985-09-05                                    17654.099834   \n",
       "1985-09-06                                    17655.083125   \n",
       "1985-09-07                                    17655.201195   \n",
       "1985-09-08                                    17655.769772   \n",
       "\n",
       "            Methane emissions (kt of CO2 equivalent)_new_2  \\\n",
       "timestamp                                                    \n",
       "1985-09-04                                    17656.019487   \n",
       "1985-09-05                                    17656.693362   \n",
       "1985-09-06                                    17654.099834   \n",
       "1985-09-07                                    17655.083125   \n",
       "1985-09-08                                    17655.201195   \n",
       "\n",
       "            Methane emissions (kt of CO2 equivalent)_new_3  \\\n",
       "timestamp                                                    \n",
       "1985-09-04                                    17657.099043   \n",
       "1985-09-05                                    17656.019487   \n",
       "1985-09-06                                    17656.693362   \n",
       "1985-09-07                                    17654.099834   \n",
       "1985-09-08                                    17655.083125   \n",
       "\n",
       "            Nitrous oxide emissions (thousand metric tons of CO2 equivalent)_new_1  \\\n",
       "timestamp                                                                            \n",
       "1985-09-04                                        7956.062528                        \n",
       "1985-09-05                                        7958.529672                        \n",
       "1985-09-06                                        7956.609886                        \n",
       "1985-09-07                                        7956.759090                        \n",
       "1985-09-08                                        7957.627874                        \n",
       "\n",
       "            Nitrous oxide emissions (thousand metric tons of CO2 equivalent)_new_2  \\\n",
       "timestamp                                                                            \n",
       "1985-09-04                                        7956.316590                        \n",
       "1985-09-05                                        7956.062528                        \n",
       "1985-09-06                                        7958.529672                        \n",
       "1985-09-07                                        7956.609886                        \n",
       "1985-09-08                                        7956.759090                        \n",
       "\n",
       "            Nitrous oxide emissions (thousand metric tons of CO2 equivalent)_new_3  \\\n",
       "timestamp                                                                            \n",
       "1985-09-04                                        7957.632802                        \n",
       "1985-09-05                                        7956.316590                        \n",
       "1985-09-06                                        7956.062528                        \n",
       "1985-09-07                                        7958.529672                        \n",
       "1985-09-08                                        7956.609886                        \n",
       "\n",
       "            ...  N_Precipitation_Total_3  N_Relative_Humidity_m_1  \\\n",
       "timestamp   ...                                                     \n",
       "1985-09-04  ...                      0.0                     88.0   \n",
       "1985-09-05  ...                      0.0                     85.0   \n",
       "1985-09-06  ...                      0.0                     86.0   \n",
       "1985-09-07  ...                      0.0                     79.0   \n",
       "1985-09-08  ...                      0.0                     79.0   \n",
       "\n",
       "            N_Relative_Humidity_m_2  N_Relative_Humidity_m_3  \\\n",
       "timestamp                                                      \n",
       "1985-09-04                     86.0                     84.0   \n",
       "1985-09-05                     88.0                     86.0   \n",
       "1985-09-06                     85.0                     88.0   \n",
       "1985-09-07                     86.0                     85.0   \n",
       "1985-09-08                     79.0                     86.0   \n",
       "\n",
       "            N_Mean_Sea_Level_Pressure_1  N_Mean_Sea_Level_Pressure_2  \\\n",
       "timestamp                                                              \n",
       "1985-09-04                       1018.3                       1017.8   \n",
       "1985-09-05                       1018.6                       1018.3   \n",
       "1985-09-06                       1017.1                       1018.6   \n",
       "1985-09-07                       1017.1                       1017.1   \n",
       "1985-09-08                       1018.0                       1017.1   \n",
       "\n",
       "            N_Mean_Sea_Level_Pressure_3  N_Soil_Moisture_10cm_1  \\\n",
       "timestamp                                                         \n",
       "1985-09-04                       1017.5                   0.193   \n",
       "1985-09-05                       1017.8                   0.202   \n",
       "1985-09-06                       1018.3                   0.202   \n",
       "1985-09-07                       1018.6                   0.183   \n",
       "1985-09-08                       1017.1                   0.179   \n",
       "\n",
       "            N_Soil_Moisture_10cm_2  N_Soil_Moisture_10cm_3  \n",
       "timestamp                                                   \n",
       "1985-09-04                   0.172                   0.172  \n",
       "1985-09-05                   0.193                   0.172  \n",
       "1985-09-06                   0.202                   0.193  \n",
       "1985-09-07                   0.202                   0.202  \n",
       "1985-09-08                   0.183                   0.202  \n",
       "\n",
       "[5 rows x 31 columns]"
      ]
     },
     "execution_count": 13,
     "metadata": {},
     "output_type": "execute_result"
    }
   ],
   "source": [
    "# Create new dataframe with features of interest\n",
    "predictors = ['CO2 emissions (kt)_new_1', 'CO2 emissions (kt)_new_2',\n",
    "       'CO2 emissions (kt)_new_3',\n",
    "       'Methane emissions (kt of CO2 equivalent)_new_1',\n",
    "       'Methane emissions (kt of CO2 equivalent)_new_2',\n",
    "       'Methane emissions (kt of CO2 equivalent)_new_3',\n",
    "       'Nitrous oxide emissions (thousand metric tons of CO2 equivalent)_new_1',\n",
    "       'Nitrous oxide emissions (thousand metric tons of CO2 equivalent)_new_2',\n",
    "       'Nitrous oxide emissions (thousand metric tons of CO2 equivalent)_new_3',\n",
    "       'Population, total_new_1', 'Population, total_new_2',\n",
    "       'Population, total_new_3', 'Urban population_new_1',\n",
    "       'Urban population_new_2', 'Urban population_new_3','N_Temperature_m_1', 'N_Temperature_m_2', 'N_Temperature_m_3',\n",
    "       'N_Precipitation_Total_1', 'N_Precipitation_Total_2',\n",
    "       'N_Precipitation_Total_3', 'N_Relative_Humidity_m_1',\n",
    "       'N_Relative_Humidity_m_2', 'N_Relative_Humidity_m_3',\n",
    "       'N_Mean_Sea_Level_Pressure_1', 'N_Mean_Sea_Level_Pressure_2',\n",
    "       'N_Mean_Sea_Level_Pressure_3', 'N_Soil_Moisture_10cm_1',\n",
    "       'N_Soil_Moisture_10cm_2', 'N_Soil_Moisture_10cm_3']\n",
    "new_clt_climate_df2 = dfy_rm[['N_Temperature_m'] + predictors] \n",
    "new_clt_climate_df2.head()"
   ]
  },
  {
   "cell_type": "code",
   "execution_count": 14,
   "id": "7db3e266-5492-4123-ab7d-c5e4825abb0d",
   "metadata": {},
   "outputs": [
    {
     "name": "stderr",
     "output_type": "stream",
     "text": [
      "C:\\Users\\mohamed.ziane\\Anaconda3\\lib\\site-packages\\statsmodels\\tsa\\tsatools.py:142: FutureWarning: In a future version of pandas all arguments of concat except for the argument 'objs' will be keyword-only\n",
      "  x = pd.concat(x[::order], 1)\n"
     ]
    },
    {
     "data": {
      "text/html": [
       "<div>\n",
       "<style scoped>\n",
       "    .dataframe tbody tr th:only-of-type {\n",
       "        vertical-align: middle;\n",
       "    }\n",
       "\n",
       "    .dataframe tbody tr th {\n",
       "        vertical-align: top;\n",
       "    }\n",
       "\n",
       "    .dataframe thead th {\n",
       "        text-align: right;\n",
       "    }\n",
       "</style>\n",
       "<table border=\"1\" class=\"dataframe\">\n",
       "  <thead>\n",
       "    <tr style=\"text-align: right;\">\n",
       "      <th></th>\n",
       "      <th>const</th>\n",
       "      <th>CO2 emissions (kt)_new_1</th>\n",
       "      <th>CO2 emissions (kt)_new_2</th>\n",
       "      <th>CO2 emissions (kt)_new_3</th>\n",
       "      <th>Methane emissions (kt of CO2 equivalent)_new_1</th>\n",
       "    </tr>\n",
       "    <tr>\n",
       "      <th>timestamp</th>\n",
       "      <th></th>\n",
       "      <th></th>\n",
       "      <th></th>\n",
       "      <th></th>\n",
       "      <th></th>\n",
       "    </tr>\n",
       "  </thead>\n",
       "  <tbody>\n",
       "    <tr>\n",
       "      <th>1985-09-04</th>\n",
       "      <td>1.0</td>\n",
       "      <td>3768.274402</td>\n",
       "      <td>3770.763728</td>\n",
       "      <td>3768.928001</td>\n",
       "      <td>17656.693362</td>\n",
       "    </tr>\n",
       "    <tr>\n",
       "      <th>1985-09-05</th>\n",
       "      <td>1.0</td>\n",
       "      <td>3770.260578</td>\n",
       "      <td>3768.274402</td>\n",
       "      <td>3770.763728</td>\n",
       "      <td>17654.099834</td>\n",
       "    </tr>\n",
       "    <tr>\n",
       "      <th>1985-09-06</th>\n",
       "      <td>1.0</td>\n",
       "      <td>3771.964733</td>\n",
       "      <td>3770.260578</td>\n",
       "      <td>3768.274402</td>\n",
       "      <td>17655.083125</td>\n",
       "    </tr>\n",
       "    <tr>\n",
       "      <th>1985-09-07</th>\n",
       "      <td>1.0</td>\n",
       "      <td>3769.485727</td>\n",
       "      <td>3771.964733</td>\n",
       "      <td>3770.260578</td>\n",
       "      <td>17655.201195</td>\n",
       "    </tr>\n",
       "    <tr>\n",
       "      <th>1985-09-08</th>\n",
       "      <td>1.0</td>\n",
       "      <td>3769.517416</td>\n",
       "      <td>3769.485727</td>\n",
       "      <td>3771.964733</td>\n",
       "      <td>17655.769772</td>\n",
       "    </tr>\n",
       "  </tbody>\n",
       "</table>\n",
       "</div>"
      ],
      "text/plain": [
       "            const  CO2 emissions (kt)_new_1  CO2 emissions (kt)_new_2  \\\n",
       "timestamp                                                               \n",
       "1985-09-04    1.0               3768.274402               3770.763728   \n",
       "1985-09-05    1.0               3770.260578               3768.274402   \n",
       "1985-09-06    1.0               3771.964733               3770.260578   \n",
       "1985-09-07    1.0               3769.485727               3771.964733   \n",
       "1985-09-08    1.0               3769.517416               3769.485727   \n",
       "\n",
       "            CO2 emissions (kt)_new_3  \\\n",
       "timestamp                              \n",
       "1985-09-04               3768.928001   \n",
       "1985-09-05               3770.763728   \n",
       "1985-09-06               3768.274402   \n",
       "1985-09-07               3770.260578   \n",
       "1985-09-08               3771.964733   \n",
       "\n",
       "            Methane emissions (kt of CO2 equivalent)_new_1  \n",
       "timestamp                                                   \n",
       "1985-09-04                                    17656.693362  \n",
       "1985-09-05                                    17654.099834  \n",
       "1985-09-06                                    17655.083125  \n",
       "1985-09-07                                    17655.201195  \n",
       "1985-09-08                                    17655.769772  "
      ]
     },
     "execution_count": 14,
     "metadata": {},
     "output_type": "execute_result"
    }
   ],
   "source": [
    "# Separate predictor variables (X) from the outcome variable y\n",
    "X = new_clt_climate_df2[predictors]  \n",
    "y = new_clt_climate_df2['N_Temperature_m']\n",
    "\n",
    "# Add a constant to the predictor variable set to represent the Bo intercept\n",
    "X = sm.add_constant(X)  \n",
    "X.iloc[:5, :5]  "
   ]
  },
  {
   "cell_type": "code",
   "execution_count": 15,
   "id": "cac5c21b-9855-4927-836c-fbf34cefee7c",
   "metadata": {},
   "outputs": [
    {
     "data": {
      "text/html": [
       "<table class=\"simpletable\">\n",
       "<caption>OLS Regression Results</caption>\n",
       "<tr>\n",
       "  <th>Dep. Variable:</th>     <td>N_Temperature_m</td> <th>  R-squared:         </th> <td>   0.623</td> \n",
       "</tr>\n",
       "<tr>\n",
       "  <th>Model:</th>                   <td>OLS</td>       <th>  Adj. R-squared:    </th> <td>   0.623</td> \n",
       "</tr>\n",
       "<tr>\n",
       "  <th>Method:</th>             <td>Least Squares</td>  <th>  F-statistic:       </th> <td>   690.3</td> \n",
       "</tr>\n",
       "<tr>\n",
       "  <th>Date:</th>             <td>Fri, 10 Dec 2021</td> <th>  Prob (F-statistic):</th>  <td>  0.00</td>  \n",
       "</tr>\n",
       "<tr>\n",
       "  <th>Time:</th>                 <td>23:42:46</td>     <th>  Log-Likelihood:    </th> <td> -29168.</td> \n",
       "</tr>\n",
       "<tr>\n",
       "  <th>No. Observations:</th>      <td> 12537</td>      <th>  AIC:               </th> <td>5.840e+04</td>\n",
       "</tr>\n",
       "<tr>\n",
       "  <th>Df Residuals:</th>          <td> 12506</td>      <th>  BIC:               </th> <td>5.863e+04</td>\n",
       "</tr>\n",
       "<tr>\n",
       "  <th>Df Model:</th>              <td>    30</td>      <th>                     </th>     <td> </td>    \n",
       "</tr>\n",
       "<tr>\n",
       "  <th>Covariance Type:</th>      <td>nonrobust</td>    <th>                     </th>     <td> </td>    \n",
       "</tr>\n",
       "</table>\n",
       "<table class=\"simpletable\">\n",
       "<tr>\n",
       "                                     <td></td>                                       <th>coef</th>     <th>std err</th>      <th>t</th>      <th>P>|t|</th>  <th>[0.025</th>    <th>0.975]</th>  \n",
       "</tr>\n",
       "<tr>\n",
       "  <th>const</th>                                                                  <td>  104.4173</td> <td>   18.272</td> <td>    5.715</td> <td> 0.000</td> <td>   68.601</td> <td>  140.234</td>\n",
       "</tr>\n",
       "<tr>\n",
       "  <th>CO2 emissions (kt)_new_1</th>                                               <td>   -0.0008</td> <td>    0.001</td> <td>   -1.405</td> <td> 0.160</td> <td>   -0.002</td> <td>    0.000</td>\n",
       "</tr>\n",
       "<tr>\n",
       "  <th>CO2 emissions (kt)_new_2</th>                                               <td>    0.0016</td> <td>    0.001</td> <td>    1.918</td> <td> 0.055</td> <td>-3.53e-05</td> <td>    0.003</td>\n",
       "</tr>\n",
       "<tr>\n",
       "  <th>CO2 emissions (kt)_new_3</th>                                               <td>   -0.0008</td> <td>    0.001</td> <td>   -1.324</td> <td> 0.185</td> <td>   -0.002</td> <td>    0.000</td>\n",
       "</tr>\n",
       "<tr>\n",
       "  <th>Methane emissions (kt of CO2 equivalent)_new_1</th>                         <td>    0.0008</td> <td>    0.001</td> <td>    0.807</td> <td> 0.420</td> <td>   -0.001</td> <td>    0.003</td>\n",
       "</tr>\n",
       "<tr>\n",
       "  <th>Methane emissions (kt of CO2 equivalent)_new_2</th>                         <td>    0.0001</td> <td>    0.001</td> <td>    0.079</td> <td> 0.937</td> <td>   -0.002</td> <td>    0.003</td>\n",
       "</tr>\n",
       "<tr>\n",
       "  <th>Methane emissions (kt of CO2 equivalent)_new_3</th>                         <td>   -0.0010</td> <td>    0.001</td> <td>   -1.051</td> <td> 0.293</td> <td>   -0.003</td> <td>    0.001</td>\n",
       "</tr>\n",
       "<tr>\n",
       "  <th>Nitrous oxide emissions (thousand metric tons of CO2 equivalent)_new_1</th> <td>   -0.0013</td> <td>    0.002</td> <td>   -0.757</td> <td> 0.449</td> <td>   -0.005</td> <td>    0.002</td>\n",
       "</tr>\n",
       "<tr>\n",
       "  <th>Nitrous oxide emissions (thousand metric tons of CO2 equivalent)_new_2</th> <td>   -0.0004</td> <td>    0.002</td> <td>   -0.166</td> <td> 0.868</td> <td>   -0.005</td> <td>    0.004</td>\n",
       "</tr>\n",
       "<tr>\n",
       "  <th>Nitrous oxide emissions (thousand metric tons of CO2 equivalent)_new_3</th> <td>    0.0019</td> <td>    0.002</td> <td>    1.111</td> <td> 0.267</td> <td>   -0.001</td> <td>    0.005</td>\n",
       "</tr>\n",
       "<tr>\n",
       "  <th>Population, total_new_1</th>                                                <td>-2.555e-06</td> <td> 2.12e-06</td> <td>   -1.204</td> <td> 0.228</td> <td>-6.71e-06</td> <td>  1.6e-06</td>\n",
       "</tr>\n",
       "<tr>\n",
       "  <th>Population, total_new_2</th>                                                <td> 1.579e-06</td> <td> 2.99e-06</td> <td>    0.528</td> <td> 0.598</td> <td>-4.29e-06</td> <td> 7.44e-06</td>\n",
       "</tr>\n",
       "<tr>\n",
       "  <th>Population, total_new_3</th>                                                <td> 9.118e-07</td> <td> 2.12e-06</td> <td>    0.430</td> <td> 0.667</td> <td>-3.25e-06</td> <td> 5.07e-06</td>\n",
       "</tr>\n",
       "<tr>\n",
       "  <th>Urban population_new_1</th>                                                 <td> 8.476e-06</td> <td> 5.86e-06</td> <td>    1.446</td> <td> 0.148</td> <td>-3.02e-06</td> <td>    2e-05</td>\n",
       "</tr>\n",
       "<tr>\n",
       "  <th>Urban population_new_2</th>                                                 <td>-7.743e-06</td> <td> 8.27e-06</td> <td>   -0.936</td> <td> 0.349</td> <td> -2.4e-05</td> <td> 8.47e-06</td>\n",
       "</tr>\n",
       "<tr>\n",
       "  <th>Urban population_new_3</th>                                                 <td>-3.739e-07</td> <td> 5.86e-06</td> <td>   -0.064</td> <td> 0.949</td> <td>-1.19e-05</td> <td> 1.11e-05</td>\n",
       "</tr>\n",
       "<tr>\n",
       "  <th>N_Temperature_m_1</th>                                                      <td>    0.5652</td> <td>    0.010</td> <td>   58.171</td> <td> 0.000</td> <td>    0.546</td> <td>    0.584</td>\n",
       "</tr>\n",
       "<tr>\n",
       "  <th>N_Temperature_m_2</th>                                                      <td>    0.0622</td> <td>    0.011</td> <td>    5.657</td> <td> 0.000</td> <td>    0.041</td> <td>    0.084</td>\n",
       "</tr>\n",
       "<tr>\n",
       "  <th>N_Temperature_m_3</th>                                                      <td>    0.0632</td> <td>    0.010</td> <td>    6.381</td> <td> 0.000</td> <td>    0.044</td> <td>    0.083</td>\n",
       "</tr>\n",
       "<tr>\n",
       "  <th>N_Precipitation_Total_1</th>                                                <td>    0.0013</td> <td>    0.254</td> <td>    0.005</td> <td> 0.996</td> <td>   -0.496</td> <td>    0.499</td>\n",
       "</tr>\n",
       "<tr>\n",
       "  <th>N_Precipitation_Total_2</th>                                                <td>   -0.2368</td> <td>    0.284</td> <td>   -0.833</td> <td> 0.405</td> <td>   -0.794</td> <td>    0.321</td>\n",
       "</tr>\n",
       "<tr>\n",
       "  <th>N_Precipitation_Total_3</th>                                                <td>    0.8773</td> <td>    0.242</td> <td>    3.624</td> <td> 0.000</td> <td>    0.403</td> <td>    1.352</td>\n",
       "</tr>\n",
       "<tr>\n",
       "  <th>N_Relative_Humidity_m_1</th>                                                <td>    0.0128</td> <td>    0.005</td> <td>    2.726</td> <td> 0.006</td> <td>    0.004</td> <td>    0.022</td>\n",
       "</tr>\n",
       "<tr>\n",
       "  <th>N_Relative_Humidity_m_2</th>                                                <td>    0.0081</td> <td>    0.005</td> <td>    1.574</td> <td> 0.116</td> <td>   -0.002</td> <td>    0.018</td>\n",
       "</tr>\n",
       "<tr>\n",
       "  <th>N_Relative_Humidity_m_3</th>                                                <td>    0.0010</td> <td>    0.005</td> <td>    0.219</td> <td> 0.827</td> <td>   -0.008</td> <td>    0.010</td>\n",
       "</tr>\n",
       "<tr>\n",
       "  <th>N_Mean_Sea_Level_Pressure_1</th>                                            <td>    0.0493</td> <td>    0.028</td> <td>    1.762</td> <td> 0.078</td> <td>   -0.006</td> <td>    0.104</td>\n",
       "</tr>\n",
       "<tr>\n",
       "  <th>N_Mean_Sea_Level_Pressure_2</th>                                            <td>    0.0742</td> <td>    0.038</td> <td>    1.951</td> <td> 0.051</td> <td>   -0.000</td> <td>    0.149</td>\n",
       "</tr>\n",
       "<tr>\n",
       "  <th>N_Mean_Sea_Level_Pressure_3</th>                                            <td>   -0.2025</td> <td>    0.028</td> <td>   -7.336</td> <td> 0.000</td> <td>   -0.257</td> <td>   -0.148</td>\n",
       "</tr>\n",
       "<tr>\n",
       "  <th>N_Soil_Moisture_10cm_1</th>                                                 <td>  -17.2820</td> <td>    1.733</td> <td>   -9.974</td> <td> 0.000</td> <td>  -20.678</td> <td>  -13.886</td>\n",
       "</tr>\n",
       "<tr>\n",
       "  <th>N_Soil_Moisture_10cm_2</th>                                                 <td>   11.1967</td> <td>    2.357</td> <td>    4.751</td> <td> 0.000</td> <td>    6.577</td> <td>   15.817</td>\n",
       "</tr>\n",
       "<tr>\n",
       "  <th>N_Soil_Moisture_10cm_3</th>                                                 <td>   -7.6473</td> <td>    1.658</td> <td>   -4.612</td> <td> 0.000</td> <td>  -10.897</td> <td>   -4.397</td>\n",
       "</tr>\n",
       "</table>\n",
       "<table class=\"simpletable\">\n",
       "<tr>\n",
       "  <th>Omnibus:</th>       <td>616.529</td> <th>  Durbin-Watson:     </th> <td>   2.017</td> \n",
       "</tr>\n",
       "<tr>\n",
       "  <th>Prob(Omnibus):</th> <td> 0.000</td>  <th>  Jarque-Bera (JB):  </th> <td> 795.115</td> \n",
       "</tr>\n",
       "<tr>\n",
       "  <th>Skew:</th>          <td>-0.495</td>  <th>  Prob(JB):          </th> <td>2.20e-173</td>\n",
       "</tr>\n",
       "<tr>\n",
       "  <th>Kurtosis:</th>      <td> 3.736</td>  <th>  Cond. No.          </th> <td>5.32e+10</td> \n",
       "</tr>\n",
       "</table><br/><br/>Notes:<br/>[1] Standard Errors assume that the covariance matrix of the errors is correctly specified.<br/>[2] The condition number is large, 5.32e+10. This might indicate that there are<br/>strong multicollinearity or other numerical problems."
      ],
      "text/plain": [
       "<class 'statsmodels.iolib.summary.Summary'>\n",
       "\"\"\"\n",
       "                            OLS Regression Results                            \n",
       "==============================================================================\n",
       "Dep. Variable:        N_Temperature_m   R-squared:                       0.623\n",
       "Model:                            OLS   Adj. R-squared:                  0.623\n",
       "Method:                 Least Squares   F-statistic:                     690.3\n",
       "Date:                Fri, 10 Dec 2021   Prob (F-statistic):               0.00\n",
       "Time:                        23:42:46   Log-Likelihood:                -29168.\n",
       "No. Observations:               12537   AIC:                         5.840e+04\n",
       "Df Residuals:                   12506   BIC:                         5.863e+04\n",
       "Df Model:                          30                                         \n",
       "Covariance Type:            nonrobust                                         \n",
       "==========================================================================================================================================\n",
       "                                                                             coef    std err          t      P>|t|      [0.025      0.975]\n",
       "------------------------------------------------------------------------------------------------------------------------------------------\n",
       "const                                                                    104.4173     18.272      5.715      0.000      68.601     140.234\n",
       "CO2 emissions (kt)_new_1                                                  -0.0008      0.001     -1.405      0.160      -0.002       0.000\n",
       "CO2 emissions (kt)_new_2                                                   0.0016      0.001      1.918      0.055   -3.53e-05       0.003\n",
       "CO2 emissions (kt)_new_3                                                  -0.0008      0.001     -1.324      0.185      -0.002       0.000\n",
       "Methane emissions (kt of CO2 equivalent)_new_1                             0.0008      0.001      0.807      0.420      -0.001       0.003\n",
       "Methane emissions (kt of CO2 equivalent)_new_2                             0.0001      0.001      0.079      0.937      -0.002       0.003\n",
       "Methane emissions (kt of CO2 equivalent)_new_3                            -0.0010      0.001     -1.051      0.293      -0.003       0.001\n",
       "Nitrous oxide emissions (thousand metric tons of CO2 equivalent)_new_1    -0.0013      0.002     -0.757      0.449      -0.005       0.002\n",
       "Nitrous oxide emissions (thousand metric tons of CO2 equivalent)_new_2    -0.0004      0.002     -0.166      0.868      -0.005       0.004\n",
       "Nitrous oxide emissions (thousand metric tons of CO2 equivalent)_new_3     0.0019      0.002      1.111      0.267      -0.001       0.005\n",
       "Population, total_new_1                                                -2.555e-06   2.12e-06     -1.204      0.228   -6.71e-06     1.6e-06\n",
       "Population, total_new_2                                                 1.579e-06   2.99e-06      0.528      0.598   -4.29e-06    7.44e-06\n",
       "Population, total_new_3                                                 9.118e-07   2.12e-06      0.430      0.667   -3.25e-06    5.07e-06\n",
       "Urban population_new_1                                                  8.476e-06   5.86e-06      1.446      0.148   -3.02e-06       2e-05\n",
       "Urban population_new_2                                                 -7.743e-06   8.27e-06     -0.936      0.349    -2.4e-05    8.47e-06\n",
       "Urban population_new_3                                                 -3.739e-07   5.86e-06     -0.064      0.949   -1.19e-05    1.11e-05\n",
       "N_Temperature_m_1                                                          0.5652      0.010     58.171      0.000       0.546       0.584\n",
       "N_Temperature_m_2                                                          0.0622      0.011      5.657      0.000       0.041       0.084\n",
       "N_Temperature_m_3                                                          0.0632      0.010      6.381      0.000       0.044       0.083\n",
       "N_Precipitation_Total_1                                                    0.0013      0.254      0.005      0.996      -0.496       0.499\n",
       "N_Precipitation_Total_2                                                   -0.2368      0.284     -0.833      0.405      -0.794       0.321\n",
       "N_Precipitation_Total_3                                                    0.8773      0.242      3.624      0.000       0.403       1.352\n",
       "N_Relative_Humidity_m_1                                                    0.0128      0.005      2.726      0.006       0.004       0.022\n",
       "N_Relative_Humidity_m_2                                                    0.0081      0.005      1.574      0.116      -0.002       0.018\n",
       "N_Relative_Humidity_m_3                                                    0.0010      0.005      0.219      0.827      -0.008       0.010\n",
       "N_Mean_Sea_Level_Pressure_1                                                0.0493      0.028      1.762      0.078      -0.006       0.104\n",
       "N_Mean_Sea_Level_Pressure_2                                                0.0742      0.038      1.951      0.051      -0.000       0.149\n",
       "N_Mean_Sea_Level_Pressure_3                                               -0.2025      0.028     -7.336      0.000      -0.257      -0.148\n",
       "N_Soil_Moisture_10cm_1                                                   -17.2820      1.733     -9.974      0.000     -20.678     -13.886\n",
       "N_Soil_Moisture_10cm_2                                                    11.1967      2.357      4.751      0.000       6.577      15.817\n",
       "N_Soil_Moisture_10cm_3                                                    -7.6473      1.658     -4.612      0.000     -10.897      -4.397\n",
       "==============================================================================\n",
       "Omnibus:                      616.529   Durbin-Watson:                   2.017\n",
       "Prob(Omnibus):                  0.000   Jarque-Bera (JB):              795.115\n",
       "Skew:                          -0.495   Prob(JB):                    2.20e-173\n",
       "Kurtosis:                       3.736   Cond. No.                     5.32e+10\n",
       "==============================================================================\n",
       "\n",
       "Notes:\n",
       "[1] Standard Errors assume that the covariance matrix of the errors is correctly specified.\n",
       "[2] The condition number is large, 5.32e+10. This might indicate that there are\n",
       "strong multicollinearity or other numerical problems.\n",
       "\"\"\""
      ]
     },
     "execution_count": 15,
     "metadata": {},
     "output_type": "execute_result"
    }
   ],
   "source": [
    "# Step 1 - Select a significance value\n",
    "alpha = 0.05\n",
    "\n",
    "# Step 2 - Fit the model\n",
    "model = sm.OLS(y, X).fit()\n",
    "\n",
    "# Step 3 - Evaluate the coefficients' p-values\n",
    "model.summary()"
   ]
  },
  {
   "cell_type": "code",
   "execution_count": 16,
   "id": "2d133915-6ee6-4e2b-9336-0ebf606f3329",
   "metadata": {},
   "outputs": [
    {
     "data": {
      "text/html": [
       "<table class=\"simpletable\">\n",
       "<caption>OLS Regression Results</caption>\n",
       "<tr>\n",
       "  <th>Dep. Variable:</th>     <td>N_Temperature_m</td> <th>  R-squared:         </th> <td>   0.623</td> \n",
       "</tr>\n",
       "<tr>\n",
       "  <th>Model:</th>                   <td>OLS</td>       <th>  Adj. R-squared:    </th> <td>   0.623</td> \n",
       "</tr>\n",
       "<tr>\n",
       "  <th>Method:</th>             <td>Least Squares</td>  <th>  F-statistic:       </th> <td>   714.2</td> \n",
       "</tr>\n",
       "<tr>\n",
       "  <th>Date:</th>             <td>Fri, 10 Dec 2021</td> <th>  Prob (F-statistic):</th>  <td>  0.00</td>  \n",
       "</tr>\n",
       "<tr>\n",
       "  <th>Time:</th>                 <td>23:42:47</td>     <th>  Log-Likelihood:    </th> <td> -29168.</td> \n",
       "</tr>\n",
       "<tr>\n",
       "  <th>No. Observations:</th>      <td> 12537</td>      <th>  AIC:               </th> <td>5.840e+04</td>\n",
       "</tr>\n",
       "<tr>\n",
       "  <th>Df Residuals:</th>          <td> 12507</td>      <th>  BIC:               </th> <td>5.862e+04</td>\n",
       "</tr>\n",
       "<tr>\n",
       "  <th>Df Model:</th>              <td>    29</td>      <th>                     </th>     <td> </td>    \n",
       "</tr>\n",
       "<tr>\n",
       "  <th>Covariance Type:</th>      <td>nonrobust</td>    <th>                     </th>     <td> </td>    \n",
       "</tr>\n",
       "</table>\n",
       "<table class=\"simpletable\">\n",
       "<tr>\n",
       "                                     <td></td>                                       <th>coef</th>     <th>std err</th>      <th>t</th>      <th>P>|t|</th>  <th>[0.025</th>    <th>0.975]</th>  \n",
       "</tr>\n",
       "<tr>\n",
       "  <th>const</th>                                                                  <td>  104.4269</td> <td>   18.272</td> <td>    5.715</td> <td> 0.000</td> <td>   68.612</td> <td>  140.242</td>\n",
       "</tr>\n",
       "<tr>\n",
       "  <th>CO2 emissions (kt)_new_1</th>                                               <td>   -0.0008</td> <td>    0.001</td> <td>   -1.425</td> <td> 0.154</td> <td>   -0.002</td> <td>    0.000</td>\n",
       "</tr>\n",
       "<tr>\n",
       "  <th>CO2 emissions (kt)_new_2</th>                                               <td>    0.0016</td> <td>    0.001</td> <td>    1.956</td> <td> 0.051</td> <td>-3.55e-06</td> <td>    0.003</td>\n",
       "</tr>\n",
       "<tr>\n",
       "  <th>CO2 emissions (kt)_new_3</th>                                               <td>   -0.0008</td> <td>    0.001</td> <td>   -1.346</td> <td> 0.178</td> <td>   -0.002</td> <td>    0.000</td>\n",
       "</tr>\n",
       "<tr>\n",
       "  <th>Methane emissions (kt of CO2 equivalent)_new_1</th>                         <td>    0.0009</td> <td>    0.001</td> <td>    1.250</td> <td> 0.211</td> <td>   -0.000</td> <td>    0.002</td>\n",
       "</tr>\n",
       "<tr>\n",
       "  <th>Methane emissions (kt of CO2 equivalent)_new_2</th>                         <td>   -0.0001</td> <td>    0.000</td> <td>   -0.360</td> <td> 0.719</td> <td>   -0.001</td> <td>    0.000</td>\n",
       "</tr>\n",
       "<tr>\n",
       "  <th>Methane emissions (kt of CO2 equivalent)_new_3</th>                         <td>   -0.0009</td> <td>    0.001</td> <td>   -1.275</td> <td> 0.202</td> <td>   -0.002</td> <td>    0.000</td>\n",
       "</tr>\n",
       "<tr>\n",
       "  <th>Nitrous oxide emissions (thousand metric tons of CO2 equivalent)_new_1</th> <td>   -0.0015</td> <td>    0.001</td> <td>   -1.215</td> <td> 0.224</td> <td>   -0.004</td> <td>    0.001</td>\n",
       "</tr>\n",
       "<tr>\n",
       "  <th>Nitrous oxide emissions (thousand metric tons of CO2 equivalent)_new_3</th> <td>    0.0017</td> <td>    0.001</td> <td>    1.386</td> <td> 0.166</td> <td>   -0.001</td> <td>    0.004</td>\n",
       "</tr>\n",
       "<tr>\n",
       "  <th>Population, total_new_1</th>                                                <td>-2.511e-06</td> <td>  2.1e-06</td> <td>   -1.193</td> <td> 0.233</td> <td>-6.64e-06</td> <td> 1.61e-06</td>\n",
       "</tr>\n",
       "<tr>\n",
       "  <th>Population, total_new_2</th>                                                <td>  1.49e-06</td> <td> 2.94e-06</td> <td>    0.506</td> <td> 0.613</td> <td>-4.28e-06</td> <td> 7.26e-06</td>\n",
       "</tr>\n",
       "<tr>\n",
       "  <th>Population, total_new_3</th>                                                <td>  9.57e-07</td> <td>  2.1e-06</td> <td>    0.455</td> <td> 0.649</td> <td>-3.17e-06</td> <td> 5.08e-06</td>\n",
       "</tr>\n",
       "<tr>\n",
       "  <th>Urban population_new_1</th>                                                 <td> 8.331e-06</td> <td>  5.8e-06</td> <td>    1.437</td> <td> 0.151</td> <td>-3.03e-06</td> <td> 1.97e-05</td>\n",
       "</tr>\n",
       "<tr>\n",
       "  <th>Urban population_new_2</th>                                                 <td> -7.45e-06</td> <td> 8.08e-06</td> <td>   -0.922</td> <td> 0.357</td> <td>-2.33e-05</td> <td> 8.39e-06</td>\n",
       "</tr>\n",
       "<tr>\n",
       "  <th>Urban population_new_3</th>                                                 <td>-5.221e-07</td> <td> 5.79e-06</td> <td>   -0.090</td> <td> 0.928</td> <td>-1.19e-05</td> <td> 1.08e-05</td>\n",
       "</tr>\n",
       "<tr>\n",
       "  <th>N_Temperature_m_1</th>                                                      <td>    0.5652</td> <td>    0.010</td> <td>   58.173</td> <td> 0.000</td> <td>    0.546</td> <td>    0.584</td>\n",
       "</tr>\n",
       "<tr>\n",
       "  <th>N_Temperature_m_2</th>                                                      <td>    0.0622</td> <td>    0.011</td> <td>    5.657</td> <td> 0.000</td> <td>    0.041</td> <td>    0.084</td>\n",
       "</tr>\n",
       "<tr>\n",
       "  <th>N_Temperature_m_3</th>                                                      <td>    0.0631</td> <td>    0.010</td> <td>    6.381</td> <td> 0.000</td> <td>    0.044</td> <td>    0.083</td>\n",
       "</tr>\n",
       "<tr>\n",
       "  <th>N_Precipitation_Total_1</th>                                                <td>    0.0011</td> <td>    0.254</td> <td>    0.004</td> <td> 0.997</td> <td>   -0.497</td> <td>    0.499</td>\n",
       "</tr>\n",
       "<tr>\n",
       "  <th>N_Precipitation_Total_2</th>                                                <td>   -0.2366</td> <td>    0.284</td> <td>   -0.832</td> <td> 0.405</td> <td>   -0.794</td> <td>    0.321</td>\n",
       "</tr>\n",
       "<tr>\n",
       "  <th>N_Precipitation_Total_3</th>                                                <td>    0.8772</td> <td>    0.242</td> <td>    3.624</td> <td> 0.000</td> <td>    0.403</td> <td>    1.352</td>\n",
       "</tr>\n",
       "<tr>\n",
       "  <th>N_Relative_Humidity_m_1</th>                                                <td>    0.0128</td> <td>    0.005</td> <td>    2.724</td> <td> 0.006</td> <td>    0.004</td> <td>    0.022</td>\n",
       "</tr>\n",
       "<tr>\n",
       "  <th>N_Relative_Humidity_m_2</th>                                                <td>    0.0081</td> <td>    0.005</td> <td>    1.573</td> <td> 0.116</td> <td>   -0.002</td> <td>    0.018</td>\n",
       "</tr>\n",
       "<tr>\n",
       "  <th>N_Relative_Humidity_m_3</th>                                                <td>    0.0010</td> <td>    0.005</td> <td>    0.221</td> <td> 0.825</td> <td>   -0.008</td> <td>    0.010</td>\n",
       "</tr>\n",
       "<tr>\n",
       "  <th>N_Mean_Sea_Level_Pressure_1</th>                                            <td>    0.0492</td> <td>    0.028</td> <td>    1.761</td> <td> 0.078</td> <td>   -0.006</td> <td>    0.104</td>\n",
       "</tr>\n",
       "<tr>\n",
       "  <th>N_Mean_Sea_Level_Pressure_2</th>                                            <td>    0.0743</td> <td>    0.038</td> <td>    1.954</td> <td> 0.051</td> <td>   -0.000</td> <td>    0.149</td>\n",
       "</tr>\n",
       "<tr>\n",
       "  <th>N_Mean_Sea_Level_Pressure_3</th>                                            <td>   -0.2025</td> <td>    0.028</td> <td>   -7.339</td> <td> 0.000</td> <td>   -0.257</td> <td>   -0.148</td>\n",
       "</tr>\n",
       "<tr>\n",
       "  <th>N_Soil_Moisture_10cm_1</th>                                                 <td>  -17.2801</td> <td>    1.733</td> <td>   -9.974</td> <td> 0.000</td> <td>  -20.676</td> <td>  -13.884</td>\n",
       "</tr>\n",
       "<tr>\n",
       "  <th>N_Soil_Moisture_10cm_2</th>                                                 <td>   11.1950</td> <td>    2.357</td> <td>    4.750</td> <td> 0.000</td> <td>    6.575</td> <td>   15.815</td>\n",
       "</tr>\n",
       "<tr>\n",
       "  <th>N_Soil_Moisture_10cm_3</th>                                                 <td>   -7.6473</td> <td>    1.658</td> <td>   -4.612</td> <td> 0.000</td> <td>  -10.897</td> <td>   -4.397</td>\n",
       "</tr>\n",
       "</table>\n",
       "<table class=\"simpletable\">\n",
       "<tr>\n",
       "  <th>Omnibus:</th>       <td>616.542</td> <th>  Durbin-Watson:     </th> <td>   2.017</td> \n",
       "</tr>\n",
       "<tr>\n",
       "  <th>Prob(Omnibus):</th> <td> 0.000</td>  <th>  Jarque-Bera (JB):  </th> <td> 795.150</td> \n",
       "</tr>\n",
       "<tr>\n",
       "  <th>Skew:</th>          <td>-0.495</td>  <th>  Prob(JB):          </th> <td>2.16e-173</td>\n",
       "</tr>\n",
       "<tr>\n",
       "  <th>Kurtosis:</th>      <td> 3.736</td>  <th>  Cond. No.          </th> <td>5.32e+10</td> \n",
       "</tr>\n",
       "</table><br/><br/>Notes:<br/>[1] Standard Errors assume that the covariance matrix of the errors is correctly specified.<br/>[2] The condition number is large, 5.32e+10. This might indicate that there are<br/>strong multicollinearity or other numerical problems."
      ],
      "text/plain": [
       "<class 'statsmodels.iolib.summary.Summary'>\n",
       "\"\"\"\n",
       "                            OLS Regression Results                            \n",
       "==============================================================================\n",
       "Dep. Variable:        N_Temperature_m   R-squared:                       0.623\n",
       "Model:                            OLS   Adj. R-squared:                  0.623\n",
       "Method:                 Least Squares   F-statistic:                     714.2\n",
       "Date:                Fri, 10 Dec 2021   Prob (F-statistic):               0.00\n",
       "Time:                        23:42:47   Log-Likelihood:                -29168.\n",
       "No. Observations:               12537   AIC:                         5.840e+04\n",
       "Df Residuals:                   12507   BIC:                         5.862e+04\n",
       "Df Model:                          29                                         \n",
       "Covariance Type:            nonrobust                                         \n",
       "==========================================================================================================================================\n",
       "                                                                             coef    std err          t      P>|t|      [0.025      0.975]\n",
       "------------------------------------------------------------------------------------------------------------------------------------------\n",
       "const                                                                    104.4269     18.272      5.715      0.000      68.612     140.242\n",
       "CO2 emissions (kt)_new_1                                                  -0.0008      0.001     -1.425      0.154      -0.002       0.000\n",
       "CO2 emissions (kt)_new_2                                                   0.0016      0.001      1.956      0.051   -3.55e-06       0.003\n",
       "CO2 emissions (kt)_new_3                                                  -0.0008      0.001     -1.346      0.178      -0.002       0.000\n",
       "Methane emissions (kt of CO2 equivalent)_new_1                             0.0009      0.001      1.250      0.211      -0.000       0.002\n",
       "Methane emissions (kt of CO2 equivalent)_new_2                            -0.0001      0.000     -0.360      0.719      -0.001       0.000\n",
       "Methane emissions (kt of CO2 equivalent)_new_3                            -0.0009      0.001     -1.275      0.202      -0.002       0.000\n",
       "Nitrous oxide emissions (thousand metric tons of CO2 equivalent)_new_1    -0.0015      0.001     -1.215      0.224      -0.004       0.001\n",
       "Nitrous oxide emissions (thousand metric tons of CO2 equivalent)_new_3     0.0017      0.001      1.386      0.166      -0.001       0.004\n",
       "Population, total_new_1                                                -2.511e-06    2.1e-06     -1.193      0.233   -6.64e-06    1.61e-06\n",
       "Population, total_new_2                                                  1.49e-06   2.94e-06      0.506      0.613   -4.28e-06    7.26e-06\n",
       "Population, total_new_3                                                  9.57e-07    2.1e-06      0.455      0.649   -3.17e-06    5.08e-06\n",
       "Urban population_new_1                                                  8.331e-06    5.8e-06      1.437      0.151   -3.03e-06    1.97e-05\n",
       "Urban population_new_2                                                  -7.45e-06   8.08e-06     -0.922      0.357   -2.33e-05    8.39e-06\n",
       "Urban population_new_3                                                 -5.221e-07   5.79e-06     -0.090      0.928   -1.19e-05    1.08e-05\n",
       "N_Temperature_m_1                                                          0.5652      0.010     58.173      0.000       0.546       0.584\n",
       "N_Temperature_m_2                                                          0.0622      0.011      5.657      0.000       0.041       0.084\n",
       "N_Temperature_m_3                                                          0.0631      0.010      6.381      0.000       0.044       0.083\n",
       "N_Precipitation_Total_1                                                    0.0011      0.254      0.004      0.997      -0.497       0.499\n",
       "N_Precipitation_Total_2                                                   -0.2366      0.284     -0.832      0.405      -0.794       0.321\n",
       "N_Precipitation_Total_3                                                    0.8772      0.242      3.624      0.000       0.403       1.352\n",
       "N_Relative_Humidity_m_1                                                    0.0128      0.005      2.724      0.006       0.004       0.022\n",
       "N_Relative_Humidity_m_2                                                    0.0081      0.005      1.573      0.116      -0.002       0.018\n",
       "N_Relative_Humidity_m_3                                                    0.0010      0.005      0.221      0.825      -0.008       0.010\n",
       "N_Mean_Sea_Level_Pressure_1                                                0.0492      0.028      1.761      0.078      -0.006       0.104\n",
       "N_Mean_Sea_Level_Pressure_2                                                0.0743      0.038      1.954      0.051      -0.000       0.149\n",
       "N_Mean_Sea_Level_Pressure_3                                               -0.2025      0.028     -7.339      0.000      -0.257      -0.148\n",
       "N_Soil_Moisture_10cm_1                                                   -17.2801      1.733     -9.974      0.000     -20.676     -13.884\n",
       "N_Soil_Moisture_10cm_2                                                    11.1950      2.357      4.750      0.000       6.575      15.815\n",
       "N_Soil_Moisture_10cm_3                                                    -7.6473      1.658     -4.612      0.000     -10.897      -4.397\n",
       "==============================================================================\n",
       "Omnibus:                      616.542   Durbin-Watson:                   2.017\n",
       "Prob(Omnibus):                  0.000   Jarque-Bera (JB):              795.150\n",
       "Skew:                          -0.495   Prob(JB):                    2.16e-173\n",
       "Kurtosis:                       3.736   Cond. No.                     5.32e+10\n",
       "==============================================================================\n",
       "\n",
       "Notes:\n",
       "[1] Standard Errors assume that the covariance matrix of the errors is correctly specified.\n",
       "[2] The condition number is large, 5.32e+10. This might indicate that there are\n",
       "strong multicollinearity or other numerical problems.\n",
       "\"\"\""
      ]
     },
     "execution_count": 16,
     "metadata": {},
     "output_type": "execute_result"
    }
   ],
   "source": [
    "# Step 3 (cont.) - Identify the predictor with the greatest p-value and assess if its greater than the selected alpha.\n",
    "# Based off the table, N_Precipitation_Total_1 has the greatest p-value and it is greater than alpha of 0.05\n",
    "\n",
    "# Step 4 - Use pandas drop function to remove this column from X\n",
    "X = X.drop('Nitrous oxide emissions (thousand metric tons of CO2 equivalent)_new_2', axis=1)\n",
    "\n",
    "# Step 5 - Fit the model \n",
    "model = sm.OLS(y, X).fit()\n",
    "model.summary() "
   ]
  },
  {
   "cell_type": "code",
   "execution_count": 17,
   "id": "73b80dc8-3115-4b97-8739-d7d79ea95d83",
   "metadata": {},
   "outputs": [
    {
     "data": {
      "text/html": [
       "<table class=\"simpletable\">\n",
       "<caption>OLS Regression Results</caption>\n",
       "<tr>\n",
       "  <th>Dep. Variable:</th>     <td>N_Temperature_m</td> <th>  R-squared:         </th> <td>   0.623</td> \n",
       "</tr>\n",
       "<tr>\n",
       "  <th>Model:</th>                   <td>OLS</td>       <th>  Adj. R-squared:    </th> <td>   0.623</td> \n",
       "</tr>\n",
       "<tr>\n",
       "  <th>Method:</th>             <td>Least Squares</td>  <th>  F-statistic:       </th> <td>   739.6</td> \n",
       "</tr>\n",
       "<tr>\n",
       "  <th>Date:</th>             <td>Fri, 10 Dec 2021</td> <th>  Prob (F-statistic):</th>  <td>  0.00</td>  \n",
       "</tr>\n",
       "<tr>\n",
       "  <th>Time:</th>                 <td>23:42:48</td>     <th>  Log-Likelihood:    </th> <td> -29169.</td> \n",
       "</tr>\n",
       "<tr>\n",
       "  <th>No. Observations:</th>      <td> 12537</td>      <th>  AIC:               </th> <td>5.840e+04</td>\n",
       "</tr>\n",
       "<tr>\n",
       "  <th>Df Residuals:</th>          <td> 12508</td>      <th>  BIC:               </th> <td>5.861e+04</td>\n",
       "</tr>\n",
       "<tr>\n",
       "  <th>Df Model:</th>              <td>    28</td>      <th>                     </th>     <td> </td>    \n",
       "</tr>\n",
       "<tr>\n",
       "  <th>Covariance Type:</th>      <td>nonrobust</td>    <th>                     </th>     <td> </td>    \n",
       "</tr>\n",
       "</table>\n",
       "<table class=\"simpletable\">\n",
       "<tr>\n",
       "                                     <td></td>                                       <th>coef</th>     <th>std err</th>      <th>t</th>      <th>P>|t|</th>  <th>[0.025</th>    <th>0.975]</th>  \n",
       "</tr>\n",
       "<tr>\n",
       "  <th>const</th>                                                                  <td>  104.1329</td> <td>   18.270</td> <td>    5.700</td> <td> 0.000</td> <td>   68.320</td> <td>  139.946</td>\n",
       "</tr>\n",
       "<tr>\n",
       "  <th>CO2 emissions (kt)_new_1</th>                                               <td>   -0.0008</td> <td>    0.001</td> <td>   -1.344</td> <td> 0.179</td> <td>   -0.002</td> <td>    0.000</td>\n",
       "</tr>\n",
       "<tr>\n",
       "  <th>CO2 emissions (kt)_new_2</th>                                               <td>    0.0016</td> <td>    0.001</td> <td>    1.976</td> <td> 0.048</td> <td>  1.3e-05</td> <td>    0.003</td>\n",
       "</tr>\n",
       "<tr>\n",
       "  <th>CO2 emissions (kt)_new_3</th>                                               <td>   -0.0009</td> <td>    0.001</td> <td>   -1.464</td> <td> 0.143</td> <td>   -0.002</td> <td>    0.000</td>\n",
       "</tr>\n",
       "<tr>\n",
       "  <th>Methane emissions (kt of CO2 equivalent)_new_2</th>                         <td> -2.72e-05</td> <td>    0.000</td> <td>   -0.091</td> <td> 0.927</td> <td>   -0.001</td> <td>    0.001</td>\n",
       "</tr>\n",
       "<tr>\n",
       "  <th>Methane emissions (kt of CO2 equivalent)_new_3</th>                         <td>   -0.0001</td> <td>    0.000</td> <td>   -0.342</td> <td> 0.733</td> <td>   -0.001</td> <td>    0.000</td>\n",
       "</tr>\n",
       "<tr>\n",
       "  <th>Nitrous oxide emissions (thousand metric tons of CO2 equivalent)_new_1</th> <td>-3.264e-05</td> <td>    0.000</td> <td>   -0.085</td> <td> 0.933</td> <td>   -0.001</td> <td>    0.001</td>\n",
       "</tr>\n",
       "<tr>\n",
       "  <th>Nitrous oxide emissions (thousand metric tons of CO2 equivalent)_new_3</th> <td>    0.0003</td> <td>    0.000</td> <td>    0.629</td> <td> 0.529</td> <td>   -0.001</td> <td>    0.001</td>\n",
       "</tr>\n",
       "<tr>\n",
       "  <th>Population, total_new_1</th>                                                <td>-2.786e-06</td> <td> 2.09e-06</td> <td>   -1.331</td> <td> 0.183</td> <td>-6.89e-06</td> <td> 1.32e-06</td>\n",
       "</tr>\n",
       "<tr>\n",
       "  <th>Population, total_new_2</th>                                                <td> 1.443e-06</td> <td> 2.94e-06</td> <td>    0.490</td> <td> 0.624</td> <td>-4.33e-06</td> <td> 7.21e-06</td>\n",
       "</tr>\n",
       "<tr>\n",
       "  <th>Population, total_new_3</th>                                                <td> 1.276e-06</td> <td> 2.09e-06</td> <td>    0.611</td> <td> 0.541</td> <td>-2.82e-06</td> <td> 5.37e-06</td>\n",
       "</tr>\n",
       "<tr>\n",
       "  <th>Urban population_new_1</th>                                                 <td> 9.455e-06</td> <td> 5.73e-06</td> <td>    1.651</td> <td> 0.099</td> <td>-1.77e-06</td> <td> 2.07e-05</td>\n",
       "</tr>\n",
       "<tr>\n",
       "  <th>Urban population_new_2</th>                                                 <td>-7.505e-06</td> <td> 8.08e-06</td> <td>   -0.929</td> <td> 0.353</td> <td>-2.33e-05</td> <td> 8.34e-06</td>\n",
       "</tr>\n",
       "<tr>\n",
       "  <th>Urban population_new_3</th>                                                 <td>-1.586e-06</td> <td> 5.73e-06</td> <td>   -0.277</td> <td> 0.782</td> <td>-1.28e-05</td> <td> 9.65e-06</td>\n",
       "</tr>\n",
       "<tr>\n",
       "  <th>N_Temperature_m_1</th>                                                      <td>    0.5653</td> <td>    0.010</td> <td>   58.186</td> <td> 0.000</td> <td>    0.546</td> <td>    0.584</td>\n",
       "</tr>\n",
       "<tr>\n",
       "  <th>N_Temperature_m_2</th>                                                      <td>    0.0621</td> <td>    0.011</td> <td>    5.650</td> <td> 0.000</td> <td>    0.041</td> <td>    0.084</td>\n",
       "</tr>\n",
       "<tr>\n",
       "  <th>N_Temperature_m_3</th>                                                      <td>    0.0631</td> <td>    0.010</td> <td>    6.380</td> <td> 0.000</td> <td>    0.044</td> <td>    0.083</td>\n",
       "</tr>\n",
       "<tr>\n",
       "  <th>N_Precipitation_Total_1</th>                                                <td>    0.0006</td> <td>    0.254</td> <td>    0.002</td> <td> 0.998</td> <td>   -0.497</td> <td>    0.498</td>\n",
       "</tr>\n",
       "<tr>\n",
       "  <th>N_Precipitation_Total_2</th>                                                <td>   -0.2344</td> <td>    0.284</td> <td>   -0.824</td> <td> 0.410</td> <td>   -0.792</td> <td>    0.323</td>\n",
       "</tr>\n",
       "<tr>\n",
       "  <th>N_Precipitation_Total_3</th>                                                <td>    0.8816</td> <td>    0.242</td> <td>    3.643</td> <td> 0.000</td> <td>    0.407</td> <td>    1.356</td>\n",
       "</tr>\n",
       "<tr>\n",
       "  <th>N_Relative_Humidity_m_1</th>                                                <td>    0.0128</td> <td>    0.005</td> <td>    2.709</td> <td> 0.007</td> <td>    0.004</td> <td>    0.022</td>\n",
       "</tr>\n",
       "<tr>\n",
       "  <th>N_Relative_Humidity_m_2</th>                                                <td>    0.0082</td> <td>    0.005</td> <td>    1.592</td> <td> 0.111</td> <td>   -0.002</td> <td>    0.018</td>\n",
       "</tr>\n",
       "<tr>\n",
       "  <th>N_Relative_Humidity_m_3</th>                                                <td>    0.0011</td> <td>    0.005</td> <td>    0.228</td> <td> 0.820</td> <td>   -0.008</td> <td>    0.010</td>\n",
       "</tr>\n",
       "<tr>\n",
       "  <th>N_Mean_Sea_Level_Pressure_1</th>                                            <td>    0.0497</td> <td>    0.028</td> <td>    1.777</td> <td> 0.076</td> <td>   -0.005</td> <td>    0.104</td>\n",
       "</tr>\n",
       "<tr>\n",
       "  <th>N_Mean_Sea_Level_Pressure_2</th>                                            <td>    0.0738</td> <td>    0.038</td> <td>    1.941</td> <td> 0.052</td> <td>   -0.001</td> <td>    0.148</td>\n",
       "</tr>\n",
       "<tr>\n",
       "  <th>N_Mean_Sea_Level_Pressure_3</th>                                            <td>   -0.2022</td> <td>    0.028</td> <td>   -7.327</td> <td> 0.000</td> <td>   -0.256</td> <td>   -0.148</td>\n",
       "</tr>\n",
       "<tr>\n",
       "  <th>N_Soil_Moisture_10cm_1</th>                                                 <td>  -17.2813</td> <td>    1.733</td> <td>   -9.974</td> <td> 0.000</td> <td>  -20.677</td> <td>  -13.885</td>\n",
       "</tr>\n",
       "<tr>\n",
       "  <th>N_Soil_Moisture_10cm_2</th>                                                 <td>   11.1656</td> <td>    2.357</td> <td>    4.738</td> <td> 0.000</td> <td>    6.546</td> <td>   15.785</td>\n",
       "</tr>\n",
       "<tr>\n",
       "  <th>N_Soil_Moisture_10cm_3</th>                                                 <td>   -7.6320</td> <td>    1.658</td> <td>   -4.603</td> <td> 0.000</td> <td>  -10.882</td> <td>   -4.382</td>\n",
       "</tr>\n",
       "</table>\n",
       "<table class=\"simpletable\">\n",
       "<tr>\n",
       "  <th>Omnibus:</th>       <td>615.846</td> <th>  Durbin-Watson:     </th> <td>   2.017</td> \n",
       "</tr>\n",
       "<tr>\n",
       "  <th>Prob(Omnibus):</th> <td> 0.000</td>  <th>  Jarque-Bera (JB):  </th> <td> 793.994</td> \n",
       "</tr>\n",
       "<tr>\n",
       "  <th>Skew:</th>          <td>-0.495</td>  <th>  Prob(JB):          </th> <td>3.86e-173</td>\n",
       "</tr>\n",
       "<tr>\n",
       "  <th>Kurtosis:</th>      <td> 3.735</td>  <th>  Cond. No.          </th> <td>5.32e+10</td> \n",
       "</tr>\n",
       "</table><br/><br/>Notes:<br/>[1] Standard Errors assume that the covariance matrix of the errors is correctly specified.<br/>[2] The condition number is large, 5.32e+10. This might indicate that there are<br/>strong multicollinearity or other numerical problems."
      ],
      "text/plain": [
       "<class 'statsmodels.iolib.summary.Summary'>\n",
       "\"\"\"\n",
       "                            OLS Regression Results                            \n",
       "==============================================================================\n",
       "Dep. Variable:        N_Temperature_m   R-squared:                       0.623\n",
       "Model:                            OLS   Adj. R-squared:                  0.623\n",
       "Method:                 Least Squares   F-statistic:                     739.6\n",
       "Date:                Fri, 10 Dec 2021   Prob (F-statistic):               0.00\n",
       "Time:                        23:42:48   Log-Likelihood:                -29169.\n",
       "No. Observations:               12537   AIC:                         5.840e+04\n",
       "Df Residuals:                   12508   BIC:                         5.861e+04\n",
       "Df Model:                          28                                         \n",
       "Covariance Type:            nonrobust                                         \n",
       "==========================================================================================================================================\n",
       "                                                                             coef    std err          t      P>|t|      [0.025      0.975]\n",
       "------------------------------------------------------------------------------------------------------------------------------------------\n",
       "const                                                                    104.1329     18.270      5.700      0.000      68.320     139.946\n",
       "CO2 emissions (kt)_new_1                                                  -0.0008      0.001     -1.344      0.179      -0.002       0.000\n",
       "CO2 emissions (kt)_new_2                                                   0.0016      0.001      1.976      0.048     1.3e-05       0.003\n",
       "CO2 emissions (kt)_new_3                                                  -0.0009      0.001     -1.464      0.143      -0.002       0.000\n",
       "Methane emissions (kt of CO2 equivalent)_new_2                          -2.72e-05      0.000     -0.091      0.927      -0.001       0.001\n",
       "Methane emissions (kt of CO2 equivalent)_new_3                            -0.0001      0.000     -0.342      0.733      -0.001       0.000\n",
       "Nitrous oxide emissions (thousand metric tons of CO2 equivalent)_new_1 -3.264e-05      0.000     -0.085      0.933      -0.001       0.001\n",
       "Nitrous oxide emissions (thousand metric tons of CO2 equivalent)_new_3     0.0003      0.000      0.629      0.529      -0.001       0.001\n",
       "Population, total_new_1                                                -2.786e-06   2.09e-06     -1.331      0.183   -6.89e-06    1.32e-06\n",
       "Population, total_new_2                                                 1.443e-06   2.94e-06      0.490      0.624   -4.33e-06    7.21e-06\n",
       "Population, total_new_3                                                 1.276e-06   2.09e-06      0.611      0.541   -2.82e-06    5.37e-06\n",
       "Urban population_new_1                                                  9.455e-06   5.73e-06      1.651      0.099   -1.77e-06    2.07e-05\n",
       "Urban population_new_2                                                 -7.505e-06   8.08e-06     -0.929      0.353   -2.33e-05    8.34e-06\n",
       "Urban population_new_3                                                 -1.586e-06   5.73e-06     -0.277      0.782   -1.28e-05    9.65e-06\n",
       "N_Temperature_m_1                                                          0.5653      0.010     58.186      0.000       0.546       0.584\n",
       "N_Temperature_m_2                                                          0.0621      0.011      5.650      0.000       0.041       0.084\n",
       "N_Temperature_m_3                                                          0.0631      0.010      6.380      0.000       0.044       0.083\n",
       "N_Precipitation_Total_1                                                    0.0006      0.254      0.002      0.998      -0.497       0.498\n",
       "N_Precipitation_Total_2                                                   -0.2344      0.284     -0.824      0.410      -0.792       0.323\n",
       "N_Precipitation_Total_3                                                    0.8816      0.242      3.643      0.000       0.407       1.356\n",
       "N_Relative_Humidity_m_1                                                    0.0128      0.005      2.709      0.007       0.004       0.022\n",
       "N_Relative_Humidity_m_2                                                    0.0082      0.005      1.592      0.111      -0.002       0.018\n",
       "N_Relative_Humidity_m_3                                                    0.0011      0.005      0.228      0.820      -0.008       0.010\n",
       "N_Mean_Sea_Level_Pressure_1                                                0.0497      0.028      1.777      0.076      -0.005       0.104\n",
       "N_Mean_Sea_Level_Pressure_2                                                0.0738      0.038      1.941      0.052      -0.001       0.148\n",
       "N_Mean_Sea_Level_Pressure_3                                               -0.2022      0.028     -7.327      0.000      -0.256      -0.148\n",
       "N_Soil_Moisture_10cm_1                                                   -17.2813      1.733     -9.974      0.000     -20.677     -13.885\n",
       "N_Soil_Moisture_10cm_2                                                    11.1656      2.357      4.738      0.000       6.546      15.785\n",
       "N_Soil_Moisture_10cm_3                                                    -7.6320      1.658     -4.603      0.000     -10.882      -4.382\n",
       "==============================================================================\n",
       "Omnibus:                      615.846   Durbin-Watson:                   2.017\n",
       "Prob(Omnibus):                  0.000   Jarque-Bera (JB):              793.994\n",
       "Skew:                          -0.495   Prob(JB):                    3.86e-173\n",
       "Kurtosis:                       3.735   Cond. No.                     5.32e+10\n",
       "==============================================================================\n",
       "\n",
       "Notes:\n",
       "[1] Standard Errors assume that the covariance matrix of the errors is correctly specified.\n",
       "[2] The condition number is large, 5.32e+10. This might indicate that there are\n",
       "strong multicollinearity or other numerical problems.\n",
       "\"\"\""
      ]
     },
     "execution_count": 17,
     "metadata": {},
     "output_type": "execute_result"
    }
   ],
   "source": [
    "# Step 3 (cont.) - Identify the predictor with the greatest p-value and assess if its greater than the selected alpha.\n",
    "# Based off the table, N_Precipitation_Total_1 has the greatest p-value and it is greater than alpha of 0.05\n",
    "\n",
    "# Step 4 - Use pandas drop function to remove this column from X\n",
    "X = X.drop('Methane emissions (kt of CO2 equivalent)_new_1', axis=1)\n",
    "\n",
    "# Step 5 - Fit the model \n",
    "model = sm.OLS(y, X).fit()\n",
    "model.summary() "
   ]
  },
  {
   "cell_type": "code",
   "execution_count": 18,
   "id": "b80a4249-a717-4363-8258-daecbfebf628",
   "metadata": {},
   "outputs": [
    {
     "data": {
      "text/html": [
       "<table class=\"simpletable\">\n",
       "<caption>OLS Regression Results</caption>\n",
       "<tr>\n",
       "  <th>Dep. Variable:</th>     <td>N_Temperature_m</td> <th>  R-squared:         </th> <td>   0.623</td> \n",
       "</tr>\n",
       "<tr>\n",
       "  <th>Model:</th>                   <td>OLS</td>       <th>  Adj. R-squared:    </th> <td>   0.623</td> \n",
       "</tr>\n",
       "<tr>\n",
       "  <th>Method:</th>             <td>Least Squares</td>  <th>  F-statistic:       </th> <td>   767.0</td> \n",
       "</tr>\n",
       "<tr>\n",
       "  <th>Date:</th>             <td>Fri, 10 Dec 2021</td> <th>  Prob (F-statistic):</th>  <td>  0.00</td>  \n",
       "</tr>\n",
       "<tr>\n",
       "  <th>Time:</th>                 <td>23:42:49</td>     <th>  Log-Likelihood:    </th> <td> -29169.</td> \n",
       "</tr>\n",
       "<tr>\n",
       "  <th>No. Observations:</th>      <td> 12537</td>      <th>  AIC:               </th> <td>5.839e+04</td>\n",
       "</tr>\n",
       "<tr>\n",
       "  <th>Df Residuals:</th>          <td> 12509</td>      <th>  BIC:               </th> <td>5.860e+04</td>\n",
       "</tr>\n",
       "<tr>\n",
       "  <th>Df Model:</th>              <td>    27</td>      <th>                     </th>     <td> </td>    \n",
       "</tr>\n",
       "<tr>\n",
       "  <th>Covariance Type:</th>      <td>nonrobust</td>    <th>                     </th>     <td> </td>    \n",
       "</tr>\n",
       "</table>\n",
       "<table class=\"simpletable\">\n",
       "<tr>\n",
       "                                     <td></td>                                       <th>coef</th>     <th>std err</th>      <th>t</th>      <th>P>|t|</th>  <th>[0.025</th>    <th>0.975]</th>  \n",
       "</tr>\n",
       "<tr>\n",
       "  <th>const</th>                                                                  <td>  104.1261</td> <td>   18.270</td> <td>    5.699</td> <td> 0.000</td> <td>   68.315</td> <td>  139.937</td>\n",
       "</tr>\n",
       "<tr>\n",
       "  <th>CO2 emissions (kt)_new_1</th>                                               <td>   -0.0008</td> <td>    0.001</td> <td>   -1.356</td> <td> 0.175</td> <td>   -0.002</td> <td>    0.000</td>\n",
       "</tr>\n",
       "<tr>\n",
       "  <th>CO2 emissions (kt)_new_2</th>                                               <td>    0.0016</td> <td>    0.001</td> <td>    1.992</td> <td> 0.046</td> <td> 2.59e-05</td> <td>    0.003</td>\n",
       "</tr>\n",
       "<tr>\n",
       "  <th>CO2 emissions (kt)_new_3</th>                                               <td>   -0.0009</td> <td>    0.001</td> <td>   -1.469</td> <td> 0.142</td> <td>   -0.002</td> <td>    0.000</td>\n",
       "</tr>\n",
       "<tr>\n",
       "  <th>Methane emissions (kt of CO2 equivalent)_new_3</th>                         <td>   -0.0001</td> <td> 6.12e-05</td> <td>   -2.143</td> <td> 0.032</td> <td>   -0.000</td> <td>-1.12e-05</td>\n",
       "</tr>\n",
       "<tr>\n",
       "  <th>Nitrous oxide emissions (thousand metric tons of CO2 equivalent)_new_1</th> <td>-5.684e-05</td> <td>    0.000</td> <td>   -0.203</td> <td> 0.839</td> <td>   -0.001</td> <td>    0.000</td>\n",
       "</tr>\n",
       "<tr>\n",
       "  <th>Nitrous oxide emissions (thousand metric tons of CO2 equivalent)_new_3</th> <td>    0.0003</td> <td>    0.000</td> <td>    0.919</td> <td> 0.358</td> <td>   -0.000</td> <td>    0.001</td>\n",
       "</tr>\n",
       "<tr>\n",
       "  <th>Population, total_new_1</th>                                                <td>-2.771e-06</td> <td> 2.09e-06</td> <td>   -1.328</td> <td> 0.184</td> <td>-6.86e-06</td> <td> 1.32e-06</td>\n",
       "</tr>\n",
       "<tr>\n",
       "  <th>Population, total_new_2</th>                                                <td> 1.424e-06</td> <td> 2.94e-06</td> <td>    0.485</td> <td> 0.628</td> <td>-4.33e-06</td> <td> 7.18e-06</td>\n",
       "</tr>\n",
       "<tr>\n",
       "  <th>Population, total_new_3</th>                                                <td> 1.281e-06</td> <td> 2.09e-06</td> <td>    0.614</td> <td> 0.539</td> <td>-2.81e-06</td> <td> 5.37e-06</td>\n",
       "</tr>\n",
       "<tr>\n",
       "  <th>Urban population_new_1</th>                                                 <td> 9.442e-06</td> <td> 5.73e-06</td> <td>    1.649</td> <td> 0.099</td> <td>-1.78e-06</td> <td> 2.07e-05</td>\n",
       "</tr>\n",
       "<tr>\n",
       "  <th>Urban population_new_2</th>                                                 <td>-7.514e-06</td> <td> 8.08e-06</td> <td>   -0.930</td> <td> 0.352</td> <td>-2.34e-05</td> <td> 8.32e-06</td>\n",
       "</tr>\n",
       "<tr>\n",
       "  <th>Urban population_new_3</th>                                                 <td>-1.564e-06</td> <td> 5.73e-06</td> <td>   -0.273</td> <td> 0.785</td> <td>-1.28e-05</td> <td> 9.66e-06</td>\n",
       "</tr>\n",
       "<tr>\n",
       "  <th>N_Temperature_m_1</th>                                                      <td>    0.5654</td> <td>    0.010</td> <td>   58.192</td> <td> 0.000</td> <td>    0.546</td> <td>    0.584</td>\n",
       "</tr>\n",
       "<tr>\n",
       "  <th>N_Temperature_m_2</th>                                                      <td>    0.0621</td> <td>    0.011</td> <td>    5.649</td> <td> 0.000</td> <td>    0.041</td> <td>    0.084</td>\n",
       "</tr>\n",
       "<tr>\n",
       "  <th>N_Temperature_m_3</th>                                                      <td>    0.0632</td> <td>    0.010</td> <td>    6.381</td> <td> 0.000</td> <td>    0.044</td> <td>    0.083</td>\n",
       "</tr>\n",
       "<tr>\n",
       "  <th>N_Precipitation_Total_1</th>                                                <td>    0.0002</td> <td>    0.254</td> <td>    0.001</td> <td> 0.999</td> <td>   -0.497</td> <td>    0.498</td>\n",
       "</tr>\n",
       "<tr>\n",
       "  <th>N_Precipitation_Total_2</th>                                                <td>   -0.2341</td> <td>    0.284</td> <td>   -0.823</td> <td> 0.410</td> <td>   -0.791</td> <td>    0.323</td>\n",
       "</tr>\n",
       "<tr>\n",
       "  <th>N_Precipitation_Total_3</th>                                                <td>    0.8819</td> <td>    0.242</td> <td>    3.645</td> <td> 0.000</td> <td>    0.408</td> <td>    1.356</td>\n",
       "</tr>\n",
       "<tr>\n",
       "  <th>N_Relative_Humidity_m_1</th>                                                <td>    0.0128</td> <td>    0.005</td> <td>    2.710</td> <td> 0.007</td> <td>    0.004</td> <td>    0.022</td>\n",
       "</tr>\n",
       "<tr>\n",
       "  <th>N_Relative_Humidity_m_2</th>                                                <td>    0.0082</td> <td>    0.005</td> <td>    1.592</td> <td> 0.111</td> <td>   -0.002</td> <td>    0.018</td>\n",
       "</tr>\n",
       "<tr>\n",
       "  <th>N_Relative_Humidity_m_3</th>                                                <td>    0.0011</td> <td>    0.005</td> <td>    0.227</td> <td> 0.820</td> <td>   -0.008</td> <td>    0.010</td>\n",
       "</tr>\n",
       "<tr>\n",
       "  <th>N_Mean_Sea_Level_Pressure_1</th>                                            <td>    0.0497</td> <td>    0.028</td> <td>    1.777</td> <td> 0.076</td> <td>   -0.005</td> <td>    0.104</td>\n",
       "</tr>\n",
       "<tr>\n",
       "  <th>N_Mean_Sea_Level_Pressure_2</th>                                            <td>    0.0738</td> <td>    0.038</td> <td>    1.940</td> <td> 0.052</td> <td>   -0.001</td> <td>    0.148</td>\n",
       "</tr>\n",
       "<tr>\n",
       "  <th>N_Mean_Sea_Level_Pressure_3</th>                                            <td>   -0.2021</td> <td>    0.028</td> <td>   -7.327</td> <td> 0.000</td> <td>   -0.256</td> <td>   -0.148</td>\n",
       "</tr>\n",
       "<tr>\n",
       "  <th>N_Soil_Moisture_10cm_1</th>                                                 <td>  -17.2780</td> <td>    1.732</td> <td>   -9.975</td> <td> 0.000</td> <td>  -20.673</td> <td>  -13.883</td>\n",
       "</tr>\n",
       "<tr>\n",
       "  <th>N_Soil_Moisture_10cm_2</th>                                                 <td>   11.1602</td> <td>    2.356</td> <td>    4.737</td> <td> 0.000</td> <td>    6.542</td> <td>   15.778</td>\n",
       "</tr>\n",
       "<tr>\n",
       "  <th>N_Soil_Moisture_10cm_3</th>                                                 <td>   -7.6297</td> <td>    1.658</td> <td>   -4.603</td> <td> 0.000</td> <td>  -10.879</td> <td>   -4.380</td>\n",
       "</tr>\n",
       "</table>\n",
       "<table class=\"simpletable\">\n",
       "<tr>\n",
       "  <th>Omnibus:</th>       <td>615.811</td> <th>  Durbin-Watson:     </th> <td>   2.017</td> \n",
       "</tr>\n",
       "<tr>\n",
       "  <th>Prob(Omnibus):</th> <td> 0.000</td>  <th>  Jarque-Bera (JB):  </th> <td> 793.943</td> \n",
       "</tr>\n",
       "<tr>\n",
       "  <th>Skew:</th>          <td>-0.495</td>  <th>  Prob(JB):          </th> <td>3.96e-173</td>\n",
       "</tr>\n",
       "<tr>\n",
       "  <th>Kurtosis:</th>      <td> 3.735</td>  <th>  Cond. No.          </th> <td>5.32e+10</td> \n",
       "</tr>\n",
       "</table><br/><br/>Notes:<br/>[1] Standard Errors assume that the covariance matrix of the errors is correctly specified.<br/>[2] The condition number is large, 5.32e+10. This might indicate that there are<br/>strong multicollinearity or other numerical problems."
      ],
      "text/plain": [
       "<class 'statsmodels.iolib.summary.Summary'>\n",
       "\"\"\"\n",
       "                            OLS Regression Results                            \n",
       "==============================================================================\n",
       "Dep. Variable:        N_Temperature_m   R-squared:                       0.623\n",
       "Model:                            OLS   Adj. R-squared:                  0.623\n",
       "Method:                 Least Squares   F-statistic:                     767.0\n",
       "Date:                Fri, 10 Dec 2021   Prob (F-statistic):               0.00\n",
       "Time:                        23:42:49   Log-Likelihood:                -29169.\n",
       "No. Observations:               12537   AIC:                         5.839e+04\n",
       "Df Residuals:                   12509   BIC:                         5.860e+04\n",
       "Df Model:                          27                                         \n",
       "Covariance Type:            nonrobust                                         \n",
       "==========================================================================================================================================\n",
       "                                                                             coef    std err          t      P>|t|      [0.025      0.975]\n",
       "------------------------------------------------------------------------------------------------------------------------------------------\n",
       "const                                                                    104.1261     18.270      5.699      0.000      68.315     139.937\n",
       "CO2 emissions (kt)_new_1                                                  -0.0008      0.001     -1.356      0.175      -0.002       0.000\n",
       "CO2 emissions (kt)_new_2                                                   0.0016      0.001      1.992      0.046    2.59e-05       0.003\n",
       "CO2 emissions (kt)_new_3                                                  -0.0009      0.001     -1.469      0.142      -0.002       0.000\n",
       "Methane emissions (kt of CO2 equivalent)_new_3                            -0.0001   6.12e-05     -2.143      0.032      -0.000   -1.12e-05\n",
       "Nitrous oxide emissions (thousand metric tons of CO2 equivalent)_new_1 -5.684e-05      0.000     -0.203      0.839      -0.001       0.000\n",
       "Nitrous oxide emissions (thousand metric tons of CO2 equivalent)_new_3     0.0003      0.000      0.919      0.358      -0.000       0.001\n",
       "Population, total_new_1                                                -2.771e-06   2.09e-06     -1.328      0.184   -6.86e-06    1.32e-06\n",
       "Population, total_new_2                                                 1.424e-06   2.94e-06      0.485      0.628   -4.33e-06    7.18e-06\n",
       "Population, total_new_3                                                 1.281e-06   2.09e-06      0.614      0.539   -2.81e-06    5.37e-06\n",
       "Urban population_new_1                                                  9.442e-06   5.73e-06      1.649      0.099   -1.78e-06    2.07e-05\n",
       "Urban population_new_2                                                 -7.514e-06   8.08e-06     -0.930      0.352   -2.34e-05    8.32e-06\n",
       "Urban population_new_3                                                 -1.564e-06   5.73e-06     -0.273      0.785   -1.28e-05    9.66e-06\n",
       "N_Temperature_m_1                                                          0.5654      0.010     58.192      0.000       0.546       0.584\n",
       "N_Temperature_m_2                                                          0.0621      0.011      5.649      0.000       0.041       0.084\n",
       "N_Temperature_m_3                                                          0.0632      0.010      6.381      0.000       0.044       0.083\n",
       "N_Precipitation_Total_1                                                    0.0002      0.254      0.001      0.999      -0.497       0.498\n",
       "N_Precipitation_Total_2                                                   -0.2341      0.284     -0.823      0.410      -0.791       0.323\n",
       "N_Precipitation_Total_3                                                    0.8819      0.242      3.645      0.000       0.408       1.356\n",
       "N_Relative_Humidity_m_1                                                    0.0128      0.005      2.710      0.007       0.004       0.022\n",
       "N_Relative_Humidity_m_2                                                    0.0082      0.005      1.592      0.111      -0.002       0.018\n",
       "N_Relative_Humidity_m_3                                                    0.0011      0.005      0.227      0.820      -0.008       0.010\n",
       "N_Mean_Sea_Level_Pressure_1                                                0.0497      0.028      1.777      0.076      -0.005       0.104\n",
       "N_Mean_Sea_Level_Pressure_2                                                0.0738      0.038      1.940      0.052      -0.001       0.148\n",
       "N_Mean_Sea_Level_Pressure_3                                               -0.2021      0.028     -7.327      0.000      -0.256      -0.148\n",
       "N_Soil_Moisture_10cm_1                                                   -17.2780      1.732     -9.975      0.000     -20.673     -13.883\n",
       "N_Soil_Moisture_10cm_2                                                    11.1602      2.356      4.737      0.000       6.542      15.778\n",
       "N_Soil_Moisture_10cm_3                                                    -7.6297      1.658     -4.603      0.000     -10.879      -4.380\n",
       "==============================================================================\n",
       "Omnibus:                      615.811   Durbin-Watson:                   2.017\n",
       "Prob(Omnibus):                  0.000   Jarque-Bera (JB):              793.943\n",
       "Skew:                          -0.495   Prob(JB):                    3.96e-173\n",
       "Kurtosis:                       3.735   Cond. No.                     5.32e+10\n",
       "==============================================================================\n",
       "\n",
       "Notes:\n",
       "[1] Standard Errors assume that the covariance matrix of the errors is correctly specified.\n",
       "[2] The condition number is large, 5.32e+10. This might indicate that there are\n",
       "strong multicollinearity or other numerical problems.\n",
       "\"\"\""
      ]
     },
     "execution_count": 18,
     "metadata": {},
     "output_type": "execute_result"
    }
   ],
   "source": [
    "# Step 3 (cont.) - Identify the predictor with the greatest p-value and assess if its greater than the selected alpha.\n",
    "# Based off the table, N_Precipitation_Total_1 has the greatest p-value and it is greater than alpha of 0.05\n",
    "\n",
    "# Step 4 - Use pandas drop function to remove this column from X\n",
    "X = X.drop('Methane emissions (kt of CO2 equivalent)_new_2', axis=1)\n",
    "\n",
    "# Step 5 - Fit the model \n",
    "model = sm.OLS(y, X).fit()\n",
    "model.summary() "
   ]
  },
  {
   "cell_type": "code",
   "execution_count": 19,
   "id": "7524087f-f171-4d03-8275-dd53bef49408",
   "metadata": {},
   "outputs": [
    {
     "data": {
      "text/html": [
       "<table class=\"simpletable\">\n",
       "<caption>OLS Regression Results</caption>\n",
       "<tr>\n",
       "  <th>Dep. Variable:</th>     <td>N_Temperature_m</td> <th>  R-squared:         </th> <td>   0.623</td> \n",
       "</tr>\n",
       "<tr>\n",
       "  <th>Model:</th>                   <td>OLS</td>       <th>  Adj. R-squared:    </th> <td>   0.623</td> \n",
       "</tr>\n",
       "<tr>\n",
       "  <th>Method:</th>             <td>Least Squares</td>  <th>  F-statistic:       </th> <td>   796.6</td> \n",
       "</tr>\n",
       "<tr>\n",
       "  <th>Date:</th>             <td>Fri, 10 Dec 2021</td> <th>  Prob (F-statistic):</th>  <td>  0.00</td>  \n",
       "</tr>\n",
       "<tr>\n",
       "  <th>Time:</th>                 <td>23:42:49</td>     <th>  Log-Likelihood:    </th> <td> -29169.</td> \n",
       "</tr>\n",
       "<tr>\n",
       "  <th>No. Observations:</th>      <td> 12537</td>      <th>  AIC:               </th> <td>5.839e+04</td>\n",
       "</tr>\n",
       "<tr>\n",
       "  <th>Df Residuals:</th>          <td> 12510</td>      <th>  BIC:               </th> <td>5.859e+04</td>\n",
       "</tr>\n",
       "<tr>\n",
       "  <th>Df Model:</th>              <td>    26</td>      <th>                     </th>     <td> </td>    \n",
       "</tr>\n",
       "<tr>\n",
       "  <th>Covariance Type:</th>      <td>nonrobust</td>    <th>                     </th>     <td> </td>    \n",
       "</tr>\n",
       "</table>\n",
       "<table class=\"simpletable\">\n",
       "<tr>\n",
       "                                     <td></td>                                       <th>coef</th>     <th>std err</th>      <th>t</th>      <th>P>|t|</th>  <th>[0.025</th>    <th>0.975]</th>  \n",
       "</tr>\n",
       "<tr>\n",
       "  <th>const</th>                                                                  <td>  104.5117</td> <td>   18.190</td> <td>    5.746</td> <td> 0.000</td> <td>   68.857</td> <td>  140.167</td>\n",
       "</tr>\n",
       "<tr>\n",
       "  <th>CO2 emissions (kt)_new_1</th>                                               <td>   -0.0008</td> <td>    0.001</td> <td>   -1.356</td> <td> 0.175</td> <td>   -0.002</td> <td>    0.000</td>\n",
       "</tr>\n",
       "<tr>\n",
       "  <th>CO2 emissions (kt)_new_2</th>                                               <td>    0.0016</td> <td>    0.001</td> <td>    1.992</td> <td> 0.046</td> <td> 2.61e-05</td> <td>    0.003</td>\n",
       "</tr>\n",
       "<tr>\n",
       "  <th>CO2 emissions (kt)_new_3</th>                                               <td>   -0.0009</td> <td>    0.001</td> <td>   -1.469</td> <td> 0.142</td> <td>   -0.002</td> <td>    0.000</td>\n",
       "</tr>\n",
       "<tr>\n",
       "  <th>Methane emissions (kt of CO2 equivalent)_new_3</th>                         <td>   -0.0001</td> <td> 6.12e-05</td> <td>   -2.140</td> <td> 0.032</td> <td>   -0.000</td> <td> -1.1e-05</td>\n",
       "</tr>\n",
       "<tr>\n",
       "  <th>Nitrous oxide emissions (thousand metric tons of CO2 equivalent)_new_1</th> <td>-5.674e-05</td> <td>    0.000</td> <td>   -0.203</td> <td> 0.839</td> <td>   -0.001</td> <td>    0.000</td>\n",
       "</tr>\n",
       "<tr>\n",
       "  <th>Nitrous oxide emissions (thousand metric tons of CO2 equivalent)_new_3</th> <td>    0.0003</td> <td>    0.000</td> <td>    0.918</td> <td> 0.359</td> <td>   -0.000</td> <td>    0.001</td>\n",
       "</tr>\n",
       "<tr>\n",
       "  <th>Population, total_new_1</th>                                                <td>-2.776e-06</td> <td> 2.09e-06</td> <td>   -1.330</td> <td> 0.184</td> <td>-6.87e-06</td> <td> 1.31e-06</td>\n",
       "</tr>\n",
       "<tr>\n",
       "  <th>Population, total_new_2</th>                                                <td> 1.429e-06</td> <td> 2.94e-06</td> <td>    0.487</td> <td> 0.626</td> <td>-4.32e-06</td> <td> 7.18e-06</td>\n",
       "</tr>\n",
       "<tr>\n",
       "  <th>Population, total_new_3</th>                                                <td> 1.281e-06</td> <td> 2.09e-06</td> <td>    0.614</td> <td> 0.539</td> <td>-2.81e-06</td> <td> 5.37e-06</td>\n",
       "</tr>\n",
       "<tr>\n",
       "  <th>Urban population_new_1</th>                                                 <td> 9.461e-06</td> <td> 5.72e-06</td> <td>    1.653</td> <td> 0.098</td> <td>-1.76e-06</td> <td> 2.07e-05</td>\n",
       "</tr>\n",
       "<tr>\n",
       "  <th>Urban population_new_2</th>                                                 <td>-7.527e-06</td> <td> 8.08e-06</td> <td>   -0.932</td> <td> 0.352</td> <td>-2.34e-05</td> <td> 8.31e-06</td>\n",
       "</tr>\n",
       "<tr>\n",
       "  <th>Urban population_new_3</th>                                                 <td> -1.57e-06</td> <td> 5.72e-06</td> <td>   -0.274</td> <td> 0.784</td> <td>-1.28e-05</td> <td> 9.65e-06</td>\n",
       "</tr>\n",
       "<tr>\n",
       "  <th>N_Temperature_m_1</th>                                                      <td>    0.5654</td> <td>    0.010</td> <td>   58.195</td> <td> 0.000</td> <td>    0.546</td> <td>    0.584</td>\n",
       "</tr>\n",
       "<tr>\n",
       "  <th>N_Temperature_m_2</th>                                                      <td>    0.0621</td> <td>    0.011</td> <td>    5.653</td> <td> 0.000</td> <td>    0.041</td> <td>    0.084</td>\n",
       "</tr>\n",
       "<tr>\n",
       "  <th>N_Temperature_m_3</th>                                                      <td>    0.0631</td> <td>    0.010</td> <td>    6.379</td> <td> 0.000</td> <td>    0.044</td> <td>    0.083</td>\n",
       "</tr>\n",
       "<tr>\n",
       "  <th>N_Precipitation_Total_1</th>                                                <td> 4.626e-06</td> <td>    0.254</td> <td> 1.82e-05</td> <td> 1.000</td> <td>   -0.498</td> <td>    0.498</td>\n",
       "</tr>\n",
       "<tr>\n",
       "  <th>N_Precipitation_Total_2</th>                                                <td>   -0.2337</td> <td>    0.284</td> <td>   -0.822</td> <td> 0.411</td> <td>   -0.791</td> <td>    0.324</td>\n",
       "</tr>\n",
       "<tr>\n",
       "  <th>N_Precipitation_Total_3</th>                                                <td>    0.8808</td> <td>    0.242</td> <td>    3.641</td> <td> 0.000</td> <td>    0.407</td> <td>    1.355</td>\n",
       "</tr>\n",
       "<tr>\n",
       "  <th>N_Relative_Humidity_m_1</th>                                                <td>    0.0130</td> <td>    0.005</td> <td>    2.804</td> <td> 0.005</td> <td>    0.004</td> <td>    0.022</td>\n",
       "</tr>\n",
       "<tr>\n",
       "  <th>N_Relative_Humidity_m_2</th>                                                <td>    0.0087</td> <td>    0.005</td> <td>    1.870</td> <td> 0.062</td> <td>   -0.000</td> <td>    0.018</td>\n",
       "</tr>\n",
       "<tr>\n",
       "  <th>N_Mean_Sea_Level_Pressure_1</th>                                            <td>    0.0494</td> <td>    0.028</td> <td>    1.769</td> <td> 0.077</td> <td>   -0.005</td> <td>    0.104</td>\n",
       "</tr>\n",
       "<tr>\n",
       "  <th>N_Mean_Sea_Level_Pressure_2</th>                                            <td>    0.0733</td> <td>    0.038</td> <td>    1.930</td> <td> 0.054</td> <td>   -0.001</td> <td>    0.148</td>\n",
       "</tr>\n",
       "<tr>\n",
       "  <th>N_Mean_Sea_Level_Pressure_3</th>                                            <td>   -0.2017</td> <td>    0.028</td> <td>   -7.329</td> <td> 0.000</td> <td>   -0.256</td> <td>   -0.148</td>\n",
       "</tr>\n",
       "<tr>\n",
       "  <th>N_Soil_Moisture_10cm_1</th>                                                 <td>  -17.2926</td> <td>    1.731</td> <td>   -9.990</td> <td> 0.000</td> <td>  -20.685</td> <td>  -13.900</td>\n",
       "</tr>\n",
       "<tr>\n",
       "  <th>N_Soil_Moisture_10cm_2</th>                                                 <td>   11.1369</td> <td>    2.354</td> <td>    4.732</td> <td> 0.000</td> <td>    6.523</td> <td>   15.750</td>\n",
       "</tr>\n",
       "<tr>\n",
       "  <th>N_Soil_Moisture_10cm_3</th>                                                 <td>   -7.5711</td> <td>    1.637</td> <td>   -4.624</td> <td> 0.000</td> <td>  -10.781</td> <td>   -4.361</td>\n",
       "</tr>\n",
       "</table>\n",
       "<table class=\"simpletable\">\n",
       "<tr>\n",
       "  <th>Omnibus:</th>       <td>616.010</td> <th>  Durbin-Watson:     </th> <td>   2.017</td> \n",
       "</tr>\n",
       "<tr>\n",
       "  <th>Prob(Omnibus):</th> <td> 0.000</td>  <th>  Jarque-Bera (JB):  </th> <td> 794.209</td> \n",
       "</tr>\n",
       "<tr>\n",
       "  <th>Skew:</th>          <td>-0.495</td>  <th>  Prob(JB):          </th> <td>3.47e-173</td>\n",
       "</tr>\n",
       "<tr>\n",
       "  <th>Kurtosis:</th>      <td> 3.735</td>  <th>  Cond. No.          </th> <td>5.30e+10</td> \n",
       "</tr>\n",
       "</table><br/><br/>Notes:<br/>[1] Standard Errors assume that the covariance matrix of the errors is correctly specified.<br/>[2] The condition number is large, 5.3e+10. This might indicate that there are<br/>strong multicollinearity or other numerical problems."
      ],
      "text/plain": [
       "<class 'statsmodels.iolib.summary.Summary'>\n",
       "\"\"\"\n",
       "                            OLS Regression Results                            \n",
       "==============================================================================\n",
       "Dep. Variable:        N_Temperature_m   R-squared:                       0.623\n",
       "Model:                            OLS   Adj. R-squared:                  0.623\n",
       "Method:                 Least Squares   F-statistic:                     796.6\n",
       "Date:                Fri, 10 Dec 2021   Prob (F-statistic):               0.00\n",
       "Time:                        23:42:49   Log-Likelihood:                -29169.\n",
       "No. Observations:               12537   AIC:                         5.839e+04\n",
       "Df Residuals:                   12510   BIC:                         5.859e+04\n",
       "Df Model:                          26                                         \n",
       "Covariance Type:            nonrobust                                         \n",
       "==========================================================================================================================================\n",
       "                                                                             coef    std err          t      P>|t|      [0.025      0.975]\n",
       "------------------------------------------------------------------------------------------------------------------------------------------\n",
       "const                                                                    104.5117     18.190      5.746      0.000      68.857     140.167\n",
       "CO2 emissions (kt)_new_1                                                  -0.0008      0.001     -1.356      0.175      -0.002       0.000\n",
       "CO2 emissions (kt)_new_2                                                   0.0016      0.001      1.992      0.046    2.61e-05       0.003\n",
       "CO2 emissions (kt)_new_3                                                  -0.0009      0.001     -1.469      0.142      -0.002       0.000\n",
       "Methane emissions (kt of CO2 equivalent)_new_3                            -0.0001   6.12e-05     -2.140      0.032      -0.000    -1.1e-05\n",
       "Nitrous oxide emissions (thousand metric tons of CO2 equivalent)_new_1 -5.674e-05      0.000     -0.203      0.839      -0.001       0.000\n",
       "Nitrous oxide emissions (thousand metric tons of CO2 equivalent)_new_3     0.0003      0.000      0.918      0.359      -0.000       0.001\n",
       "Population, total_new_1                                                -2.776e-06   2.09e-06     -1.330      0.184   -6.87e-06    1.31e-06\n",
       "Population, total_new_2                                                 1.429e-06   2.94e-06      0.487      0.626   -4.32e-06    7.18e-06\n",
       "Population, total_new_3                                                 1.281e-06   2.09e-06      0.614      0.539   -2.81e-06    5.37e-06\n",
       "Urban population_new_1                                                  9.461e-06   5.72e-06      1.653      0.098   -1.76e-06    2.07e-05\n",
       "Urban population_new_2                                                 -7.527e-06   8.08e-06     -0.932      0.352   -2.34e-05    8.31e-06\n",
       "Urban population_new_3                                                  -1.57e-06   5.72e-06     -0.274      0.784   -1.28e-05    9.65e-06\n",
       "N_Temperature_m_1                                                          0.5654      0.010     58.195      0.000       0.546       0.584\n",
       "N_Temperature_m_2                                                          0.0621      0.011      5.653      0.000       0.041       0.084\n",
       "N_Temperature_m_3                                                          0.0631      0.010      6.379      0.000       0.044       0.083\n",
       "N_Precipitation_Total_1                                                 4.626e-06      0.254   1.82e-05      1.000      -0.498       0.498\n",
       "N_Precipitation_Total_2                                                   -0.2337      0.284     -0.822      0.411      -0.791       0.324\n",
       "N_Precipitation_Total_3                                                    0.8808      0.242      3.641      0.000       0.407       1.355\n",
       "N_Relative_Humidity_m_1                                                    0.0130      0.005      2.804      0.005       0.004       0.022\n",
       "N_Relative_Humidity_m_2                                                    0.0087      0.005      1.870      0.062      -0.000       0.018\n",
       "N_Mean_Sea_Level_Pressure_1                                                0.0494      0.028      1.769      0.077      -0.005       0.104\n",
       "N_Mean_Sea_Level_Pressure_2                                                0.0733      0.038      1.930      0.054      -0.001       0.148\n",
       "N_Mean_Sea_Level_Pressure_3                                               -0.2017      0.028     -7.329      0.000      -0.256      -0.148\n",
       "N_Soil_Moisture_10cm_1                                                   -17.2926      1.731     -9.990      0.000     -20.685     -13.900\n",
       "N_Soil_Moisture_10cm_2                                                    11.1369      2.354      4.732      0.000       6.523      15.750\n",
       "N_Soil_Moisture_10cm_3                                                    -7.5711      1.637     -4.624      0.000     -10.781      -4.361\n",
       "==============================================================================\n",
       "Omnibus:                      616.010   Durbin-Watson:                   2.017\n",
       "Prob(Omnibus):                  0.000   Jarque-Bera (JB):              794.209\n",
       "Skew:                          -0.495   Prob(JB):                    3.47e-173\n",
       "Kurtosis:                       3.735   Cond. No.                     5.30e+10\n",
       "==============================================================================\n",
       "\n",
       "Notes:\n",
       "[1] Standard Errors assume that the covariance matrix of the errors is correctly specified.\n",
       "[2] The condition number is large, 5.3e+10. This might indicate that there are\n",
       "strong multicollinearity or other numerical problems.\n",
       "\"\"\""
      ]
     },
     "execution_count": 19,
     "metadata": {},
     "output_type": "execute_result"
    }
   ],
   "source": [
    "# Step 3 (cont.) - Identify the predictor with the greatest p-value and assess if its greater than the selected alpha.\n",
    "# Based off the table, N_Precipitation_Total_1 has the greatest p-value and it is greater than alpha of 0.05\n",
    "\n",
    "# Step 4 - Use pandas drop function to remove this column from X\n",
    "X = X.drop('N_Relative_Humidity_m_3', axis=1)\n",
    "\n",
    "# Step 5 - Fit the model \n",
    "model = sm.OLS(y, X).fit()\n",
    "model.summary() "
   ]
  },
  {
   "cell_type": "code",
   "execution_count": 20,
   "id": "4cf62193-0fe4-4214-a6bf-244061657c7c",
   "metadata": {},
   "outputs": [
    {
     "data": {
      "text/html": [
       "<table class=\"simpletable\">\n",
       "<caption>OLS Regression Results</caption>\n",
       "<tr>\n",
       "  <th>Dep. Variable:</th>     <td>N_Temperature_m</td> <th>  R-squared:         </th> <td>   0.623</td> \n",
       "</tr>\n",
       "<tr>\n",
       "  <th>Model:</th>                   <td>OLS</td>       <th>  Adj. R-squared:    </th> <td>   0.623</td> \n",
       "</tr>\n",
       "<tr>\n",
       "  <th>Method:</th>             <td>Least Squares</td>  <th>  F-statistic:       </th> <td>   828.5</td> \n",
       "</tr>\n",
       "<tr>\n",
       "  <th>Date:</th>             <td>Fri, 10 Dec 2021</td> <th>  Prob (F-statistic):</th>  <td>  0.00</td>  \n",
       "</tr>\n",
       "<tr>\n",
       "  <th>Time:</th>                 <td>23:42:50</td>     <th>  Log-Likelihood:    </th> <td> -29169.</td> \n",
       "</tr>\n",
       "<tr>\n",
       "  <th>No. Observations:</th>      <td> 12537</td>      <th>  AIC:               </th> <td>5.839e+04</td>\n",
       "</tr>\n",
       "<tr>\n",
       "  <th>Df Residuals:</th>          <td> 12511</td>      <th>  BIC:               </th> <td>5.858e+04</td>\n",
       "</tr>\n",
       "<tr>\n",
       "  <th>Df Model:</th>              <td>    25</td>      <th>                     </th>     <td> </td>    \n",
       "</tr>\n",
       "<tr>\n",
       "  <th>Covariance Type:</th>      <td>nonrobust</td>    <th>                     </th>     <td> </td>    \n",
       "</tr>\n",
       "</table>\n",
       "<table class=\"simpletable\">\n",
       "<tr>\n",
       "                                     <td></td>                                       <th>coef</th>     <th>std err</th>      <th>t</th>      <th>P>|t|</th>  <th>[0.025</th>    <th>0.975]</th>  \n",
       "</tr>\n",
       "<tr>\n",
       "  <th>const</th>                                                                  <td>  104.5358</td> <td>   18.189</td> <td>    5.747</td> <td> 0.000</td> <td>   68.883</td> <td>  140.189</td>\n",
       "</tr>\n",
       "<tr>\n",
       "  <th>CO2 emissions (kt)_new_1</th>                                               <td>   -0.0008</td> <td>    0.001</td> <td>   -1.357</td> <td> 0.175</td> <td>   -0.002</td> <td>    0.000</td>\n",
       "</tr>\n",
       "<tr>\n",
       "  <th>CO2 emissions (kt)_new_2</th>                                               <td>    0.0017</td> <td>    0.001</td> <td>    2.014</td> <td> 0.044</td> <td> 4.43e-05</td> <td>    0.003</td>\n",
       "</tr>\n",
       "<tr>\n",
       "  <th>CO2 emissions (kt)_new_3</th>                                               <td>   -0.0009</td> <td>    0.001</td> <td>   -1.499</td> <td> 0.134</td> <td>   -0.002</td> <td>    0.000</td>\n",
       "</tr>\n",
       "<tr>\n",
       "  <th>Methane emissions (kt of CO2 equivalent)_new_3</th>                         <td>   -0.0001</td> <td> 6.12e-05</td> <td>   -2.144</td> <td> 0.032</td> <td>   -0.000</td> <td>-1.13e-05</td>\n",
       "</tr>\n",
       "<tr>\n",
       "  <th>Nitrous oxide emissions (thousand metric tons of CO2 equivalent)_new_1</th> <td>-5.879e-05</td> <td>    0.000</td> <td>   -0.210</td> <td> 0.833</td> <td>   -0.001</td> <td>    0.000</td>\n",
       "</tr>\n",
       "<tr>\n",
       "  <th>Nitrous oxide emissions (thousand metric tons of CO2 equivalent)_new_3</th> <td>    0.0003</td> <td>    0.000</td> <td>    0.927</td> <td> 0.354</td> <td>   -0.000</td> <td>    0.001</td>\n",
       "</tr>\n",
       "<tr>\n",
       "  <th>Population, total_new_1</th>                                                <td>-2.773e-06</td> <td> 2.09e-06</td> <td>   -1.329</td> <td> 0.184</td> <td>-6.86e-06</td> <td> 1.32e-06</td>\n",
       "</tr>\n",
       "<tr>\n",
       "  <th>Population, total_new_2</th>                                                <td>  1.98e-06</td> <td> 2.14e-06</td> <td>    0.924</td> <td> 0.355</td> <td>-2.22e-06</td> <td> 6.18e-06</td>\n",
       "</tr>\n",
       "<tr>\n",
       "  <th>Population, total_new_3</th>                                                <td> 7.275e-07</td> <td>  5.3e-07</td> <td>    1.374</td> <td> 0.170</td> <td>-3.11e-07</td> <td> 1.77e-06</td>\n",
       "</tr>\n",
       "<tr>\n",
       "  <th>Urban population_new_1</th>                                                 <td> 9.455e-06</td> <td> 5.72e-06</td> <td>    1.652</td> <td> 0.099</td> <td>-1.77e-06</td> <td> 2.07e-05</td>\n",
       "</tr>\n",
       "<tr>\n",
       "  <th>Urban population_new_2</th>                                                 <td>-9.091e-06</td> <td> 5.72e-06</td> <td>   -1.588</td> <td> 0.112</td> <td>-2.03e-05</td> <td> 2.13e-06</td>\n",
       "</tr>\n",
       "<tr>\n",
       "  <th>N_Temperature_m_1</th>                                                      <td>    0.5654</td> <td>    0.010</td> <td>   58.203</td> <td> 0.000</td> <td>    0.546</td> <td>    0.584</td>\n",
       "</tr>\n",
       "<tr>\n",
       "  <th>N_Temperature_m_2</th>                                                      <td>    0.0621</td> <td>    0.011</td> <td>    5.654</td> <td> 0.000</td> <td>    0.041</td> <td>    0.084</td>\n",
       "</tr>\n",
       "<tr>\n",
       "  <th>N_Temperature_m_3</th>                                                      <td>    0.0631</td> <td>    0.010</td> <td>    6.378</td> <td> 0.000</td> <td>    0.044</td> <td>    0.083</td>\n",
       "</tr>\n",
       "<tr>\n",
       "  <th>N_Precipitation_Total_1</th>                                                <td> 6.327e-05</td> <td>    0.254</td> <td>    0.000</td> <td> 1.000</td> <td>   -0.498</td> <td>    0.498</td>\n",
       "</tr>\n",
       "<tr>\n",
       "  <th>N_Precipitation_Total_2</th>                                                <td>   -0.2342</td> <td>    0.284</td> <td>   -0.824</td> <td> 0.410</td> <td>   -0.791</td> <td>    0.323</td>\n",
       "</tr>\n",
       "<tr>\n",
       "  <th>N_Precipitation_Total_3</th>                                                <td>    0.8810</td> <td>    0.242</td> <td>    3.642</td> <td> 0.000</td> <td>    0.407</td> <td>    1.355</td>\n",
       "</tr>\n",
       "<tr>\n",
       "  <th>N_Relative_Humidity_m_1</th>                                                <td>    0.0129</td> <td>    0.005</td> <td>    2.802</td> <td> 0.005</td> <td>    0.004</td> <td>    0.022</td>\n",
       "</tr>\n",
       "<tr>\n",
       "  <th>N_Relative_Humidity_m_2</th>                                                <td>    0.0087</td> <td>    0.005</td> <td>    1.866</td> <td> 0.062</td> <td>   -0.000</td> <td>    0.018</td>\n",
       "</tr>\n",
       "<tr>\n",
       "  <th>N_Mean_Sea_Level_Pressure_1</th>                                            <td>    0.0494</td> <td>    0.028</td> <td>    1.769</td> <td> 0.077</td> <td>   -0.005</td> <td>    0.104</td>\n",
       "</tr>\n",
       "<tr>\n",
       "  <th>N_Mean_Sea_Level_Pressure_2</th>                                            <td>    0.0734</td> <td>    0.038</td> <td>    1.932</td> <td> 0.053</td> <td>   -0.001</td> <td>    0.148</td>\n",
       "</tr>\n",
       "<tr>\n",
       "  <th>N_Mean_Sea_Level_Pressure_3</th>                                            <td>   -0.2018</td> <td>    0.028</td> <td>   -7.331</td> <td> 0.000</td> <td>   -0.256</td> <td>   -0.148</td>\n",
       "</tr>\n",
       "<tr>\n",
       "  <th>N_Soil_Moisture_10cm_1</th>                                                 <td>  -17.2952</td> <td>    1.731</td> <td>   -9.992</td> <td> 0.000</td> <td>  -20.688</td> <td>  -13.903</td>\n",
       "</tr>\n",
       "<tr>\n",
       "  <th>N_Soil_Moisture_10cm_2</th>                                                 <td>   11.1458</td> <td>    2.353</td> <td>    4.736</td> <td> 0.000</td> <td>    6.533</td> <td>   15.759</td>\n",
       "</tr>\n",
       "<tr>\n",
       "  <th>N_Soil_Moisture_10cm_3</th>                                                 <td>   -7.5746</td> <td>    1.637</td> <td>   -4.626</td> <td> 0.000</td> <td>  -10.784</td> <td>   -4.365</td>\n",
       "</tr>\n",
       "</table>\n",
       "<table class=\"simpletable\">\n",
       "<tr>\n",
       "  <th>Omnibus:</th>       <td>616.099</td> <th>  Durbin-Watson:     </th> <td>   2.017</td> \n",
       "</tr>\n",
       "<tr>\n",
       "  <th>Prob(Omnibus):</th> <td> 0.000</td>  <th>  Jarque-Bera (JB):  </th> <td> 794.385</td> \n",
       "</tr>\n",
       "<tr>\n",
       "  <th>Skew:</th>          <td>-0.495</td>  <th>  Prob(JB):          </th> <td>3.17e-173</td>\n",
       "</tr>\n",
       "<tr>\n",
       "  <th>Kurtosis:</th>      <td> 3.735</td>  <th>  Cond. No.          </th> <td>5.25e+10</td> \n",
       "</tr>\n",
       "</table><br/><br/>Notes:<br/>[1] Standard Errors assume that the covariance matrix of the errors is correctly specified.<br/>[2] The condition number is large, 5.25e+10. This might indicate that there are<br/>strong multicollinearity or other numerical problems."
      ],
      "text/plain": [
       "<class 'statsmodels.iolib.summary.Summary'>\n",
       "\"\"\"\n",
       "                            OLS Regression Results                            \n",
       "==============================================================================\n",
       "Dep. Variable:        N_Temperature_m   R-squared:                       0.623\n",
       "Model:                            OLS   Adj. R-squared:                  0.623\n",
       "Method:                 Least Squares   F-statistic:                     828.5\n",
       "Date:                Fri, 10 Dec 2021   Prob (F-statistic):               0.00\n",
       "Time:                        23:42:50   Log-Likelihood:                -29169.\n",
       "No. Observations:               12537   AIC:                         5.839e+04\n",
       "Df Residuals:                   12511   BIC:                         5.858e+04\n",
       "Df Model:                          25                                         \n",
       "Covariance Type:            nonrobust                                         \n",
       "==========================================================================================================================================\n",
       "                                                                             coef    std err          t      P>|t|      [0.025      0.975]\n",
       "------------------------------------------------------------------------------------------------------------------------------------------\n",
       "const                                                                    104.5358     18.189      5.747      0.000      68.883     140.189\n",
       "CO2 emissions (kt)_new_1                                                  -0.0008      0.001     -1.357      0.175      -0.002       0.000\n",
       "CO2 emissions (kt)_new_2                                                   0.0017      0.001      2.014      0.044    4.43e-05       0.003\n",
       "CO2 emissions (kt)_new_3                                                  -0.0009      0.001     -1.499      0.134      -0.002       0.000\n",
       "Methane emissions (kt of CO2 equivalent)_new_3                            -0.0001   6.12e-05     -2.144      0.032      -0.000   -1.13e-05\n",
       "Nitrous oxide emissions (thousand metric tons of CO2 equivalent)_new_1 -5.879e-05      0.000     -0.210      0.833      -0.001       0.000\n",
       "Nitrous oxide emissions (thousand metric tons of CO2 equivalent)_new_3     0.0003      0.000      0.927      0.354      -0.000       0.001\n",
       "Population, total_new_1                                                -2.773e-06   2.09e-06     -1.329      0.184   -6.86e-06    1.32e-06\n",
       "Population, total_new_2                                                  1.98e-06   2.14e-06      0.924      0.355   -2.22e-06    6.18e-06\n",
       "Population, total_new_3                                                 7.275e-07    5.3e-07      1.374      0.170   -3.11e-07    1.77e-06\n",
       "Urban population_new_1                                                  9.455e-06   5.72e-06      1.652      0.099   -1.77e-06    2.07e-05\n",
       "Urban population_new_2                                                 -9.091e-06   5.72e-06     -1.588      0.112   -2.03e-05    2.13e-06\n",
       "N_Temperature_m_1                                                          0.5654      0.010     58.203      0.000       0.546       0.584\n",
       "N_Temperature_m_2                                                          0.0621      0.011      5.654      0.000       0.041       0.084\n",
       "N_Temperature_m_3                                                          0.0631      0.010      6.378      0.000       0.044       0.083\n",
       "N_Precipitation_Total_1                                                 6.327e-05      0.254      0.000      1.000      -0.498       0.498\n",
       "N_Precipitation_Total_2                                                   -0.2342      0.284     -0.824      0.410      -0.791       0.323\n",
       "N_Precipitation_Total_3                                                    0.8810      0.242      3.642      0.000       0.407       1.355\n",
       "N_Relative_Humidity_m_1                                                    0.0129      0.005      2.802      0.005       0.004       0.022\n",
       "N_Relative_Humidity_m_2                                                    0.0087      0.005      1.866      0.062      -0.000       0.018\n",
       "N_Mean_Sea_Level_Pressure_1                                                0.0494      0.028      1.769      0.077      -0.005       0.104\n",
       "N_Mean_Sea_Level_Pressure_2                                                0.0734      0.038      1.932      0.053      -0.001       0.148\n",
       "N_Mean_Sea_Level_Pressure_3                                               -0.2018      0.028     -7.331      0.000      -0.256      -0.148\n",
       "N_Soil_Moisture_10cm_1                                                   -17.2952      1.731     -9.992      0.000     -20.688     -13.903\n",
       "N_Soil_Moisture_10cm_2                                                    11.1458      2.353      4.736      0.000       6.533      15.759\n",
       "N_Soil_Moisture_10cm_3                                                    -7.5746      1.637     -4.626      0.000     -10.784      -4.365\n",
       "==============================================================================\n",
       "Omnibus:                      616.099   Durbin-Watson:                   2.017\n",
       "Prob(Omnibus):                  0.000   Jarque-Bera (JB):              794.385\n",
       "Skew:                          -0.495   Prob(JB):                    3.17e-173\n",
       "Kurtosis:                       3.735   Cond. No.                     5.25e+10\n",
       "==============================================================================\n",
       "\n",
       "Notes:\n",
       "[1] Standard Errors assume that the covariance matrix of the errors is correctly specified.\n",
       "[2] The condition number is large, 5.25e+10. This might indicate that there are\n",
       "strong multicollinearity or other numerical problems.\n",
       "\"\"\""
      ]
     },
     "execution_count": 20,
     "metadata": {},
     "output_type": "execute_result"
    }
   ],
   "source": [
    "# Step 3 (cont.) - Identify the predictor with the greatest p-value and assess if its greater than the selected alpha.\n",
    "# Based off the table, N_Precipitation_Total_1 has the greatest p-value and it is greater than alpha of 0.05\n",
    "\n",
    "# Step 4 - Use pandas drop function to remove this column from X\n",
    "X = X.drop('Urban population_new_3', axis=1)\n",
    "\n",
    "# Step 5 - Fit the model \n",
    "model = sm.OLS(y, X).fit()\n",
    "model.summary() "
   ]
  },
  {
   "cell_type": "code",
   "execution_count": 21,
   "id": "d31d14d6-022f-4ec8-bc4a-f4dae12f3f31",
   "metadata": {},
   "outputs": [],
   "source": [
    "# A random_state of 12 is assigned to ensure getting the right random selection of data. \n",
    "# This random_state parameter is very useful for reproducibility of results.\n",
    "X_train, X_test, y_train, y_test = train_test_split(X, y, test_size=0.2, random_state=12)  "
   ]
  },
  {
   "cell_type": "code",
   "execution_count": 22,
   "id": "cf436dea-941e-4aba-9b10-5b377a505c72",
   "metadata": {},
   "outputs": [
    {
     "data": {
      "text/plain": [
       "LinearRegression()"
      ]
     },
     "execution_count": 22,
     "metadata": {},
     "output_type": "execute_result"
    },
    {
     "name": "stdout",
     "output_type": "stream",
     "text": [
      "Accuracy of Linear Regression: 0.61\n",
      "The Mean Absolute Error: 1.94 degrees fahrenheit\n",
      "The Median Absolute Error: 1.60 degrees fahrenheit\n"
     ]
    }
   ],
   "source": [
    "# Instantiate the regressor class\n",
    "regressor = LinearRegression()\n",
    "\n",
    "# Fit and build the model by fitting the regressor to the training data\n",
    "regressor.fit(X_train, y_train)\n",
    "\n",
    "# Make a prediction set using the test set\n",
    "prediction = regressor.predict(X_test)\n",
    "\n",
    "# Evaluate the prediction accuracy of the model\n",
    "print(\"Accuracy of Linear Regression: %.2f\" % regressor.score(X_test, y_test))  \n",
    "print(\"The Mean Absolute Error: %.2f degrees fahrenheit\" % mean_absolute_error(y_test, prediction))  \n",
    "print(\"The Median Absolute Error: %.2f degrees fahrenheit\" % median_absolute_error(y_test, prediction))"
   ]
  },
  {
   "cell_type": "code",
   "execution_count": 23,
   "id": "79d94a17-d41b-4e45-b418-12005914190b",
   "metadata": {},
   "outputs": [
    {
     "name": "stdout",
     "output_type": "stream",
     "text": [
      "Length of X_forecast_out: 3650 & Length of X : 8887\n"
     ]
    }
   ],
   "source": [
    "# 3650 days will be the number of forecast days\n",
    "forecast_out = int(3650)\n",
    "\n",
    "# X contains the last 'n=forecast_out' rows for which we don't have label data\n",
    "# Put those rows in a different Matrix X_forecast_out by X_forecast_out = X[end-forecast_out:end]\n",
    "X_forecast_out = X[-forecast_out:]\n",
    "X = X[:-forecast_out]\n",
    "print (\"Length of X_forecast_out:\", len(X_forecast_out), \"& Length of X :\", len(X))"
   ]
  },
  {
   "cell_type": "code",
   "execution_count": 24,
   "id": "fa01c03c-775d-4291-b226-10f3a859920a",
   "metadata": {},
   "outputs": [
    {
     "name": "stdout",
     "output_type": "stream",
     "text": [
      "[72.37885282 72.93442197 71.44071353 ... 71.978714   74.70157807\n",
      " 74.03246296]\n"
     ]
    }
   ],
   "source": [
    "# Predict average temp for the next 3650 days using our Model\n",
    "forecast_prediction = regressor.predict(X_forecast_out)\n",
    "print(forecast_prediction)"
   ]
  },
  {
   "cell_type": "code",
   "execution_count": null,
   "id": "f8cdb0e1-6d87-48cb-8b3a-531ee67ed5bc",
   "metadata": {},
   "outputs": [],
   "source": []
  },
  {
   "cell_type": "code",
   "execution_count": null,
   "id": "32ea5f0f-a760-4099-aca3-0a8077043df0",
   "metadata": {},
   "outputs": [],
   "source": []
  },
  {
   "cell_type": "markdown",
   "id": "90bdfba0-7bcb-41d5-849f-2e26df764cdd",
   "metadata": {},
   "source": [
    "## Random Forest Regressor"
   ]
  },
  {
   "cell_type": "code",
   "execution_count": 25,
   "id": "2c3bf793-4306-4736-8673-c4b5aea3c4f5",
   "metadata": {},
   "outputs": [
    {
     "data": {
      "text/html": [
       "<div>\n",
       "<style scoped>\n",
       "    .dataframe tbody tr th:only-of-type {\n",
       "        vertical-align: middle;\n",
       "    }\n",
       "\n",
       "    .dataframe tbody tr th {\n",
       "        vertical-align: top;\n",
       "    }\n",
       "\n",
       "    .dataframe thead th {\n",
       "        text-align: right;\n",
       "    }\n",
       "</style>\n",
       "<table border=\"1\" class=\"dataframe\">\n",
       "  <thead>\n",
       "    <tr style=\"text-align: right;\">\n",
       "      <th></th>\n",
       "      <th>Year_extract</th>\n",
       "      <th>CO2 emissions from liquid fuel consumption (kt)_new</th>\n",
       "      <th>Energy related methane emissions (% of total)_new</th>\n",
       "      <th>Fuel exports (% of merchandise exports)_new</th>\n",
       "      <th>Fuel imports (% of merchandise imports)_new</th>\n",
       "      <th>Methane emissions in energy sector (thousand metric tons of CO2 equivalent)_new</th>\n",
       "      <th>Mineral rents (% of GDP)_new</th>\n",
       "      <th>Nitrous oxide emissions in energy sector (thousand metric tons of CO2 equivalent)_new</th>\n",
       "      <th>Ores and metals exports (% of merchandise exports)_new</th>\n",
       "      <th>Total natural resources rents (% of GDP)_new</th>\n",
       "      <th>...</th>\n",
       "      <th>N_Precipitation_Total_3</th>\n",
       "      <th>N_Relative_Humidity_m_1</th>\n",
       "      <th>N_Relative_Humidity_m_2</th>\n",
       "      <th>N_Relative_Humidity_m_3</th>\n",
       "      <th>N_Mean_Sea_Level_Pressure_1</th>\n",
       "      <th>N_Mean_Sea_Level_Pressure_2</th>\n",
       "      <th>N_Mean_Sea_Level_Pressure_3</th>\n",
       "      <th>N_Soil_Moisture_10cm_1</th>\n",
       "      <th>N_Soil_Moisture_10cm_2</th>\n",
       "      <th>N_Soil_Moisture_10cm_3</th>\n",
       "    </tr>\n",
       "    <tr>\n",
       "      <th>timestamp</th>\n",
       "      <th></th>\n",
       "      <th></th>\n",
       "      <th></th>\n",
       "      <th></th>\n",
       "      <th></th>\n",
       "      <th></th>\n",
       "      <th></th>\n",
       "      <th></th>\n",
       "      <th></th>\n",
       "      <th></th>\n",
       "      <th></th>\n",
       "      <th></th>\n",
       "      <th></th>\n",
       "      <th></th>\n",
       "      <th></th>\n",
       "      <th></th>\n",
       "      <th></th>\n",
       "      <th></th>\n",
       "      <th></th>\n",
       "      <th></th>\n",
       "      <th></th>\n",
       "    </tr>\n",
       "  </thead>\n",
       "  <tbody>\n",
       "    <tr>\n",
       "      <th>1985-09-01</th>\n",
       "      <td>1985</td>\n",
       "      <td>3115.498132</td>\n",
       "      <td>24.162338</td>\n",
       "      <td>16.476346</td>\n",
       "      <td>28.932601</td>\n",
       "      <td>4279.666073</td>\n",
       "      <td>1.365497</td>\n",
       "      <td>362.545871</td>\n",
       "      <td>1.829561</td>\n",
       "      <td>4.292895</td>\n",
       "      <td>...</td>\n",
       "      <td>NaN</td>\n",
       "      <td>NaN</td>\n",
       "      <td>NaN</td>\n",
       "      <td>NaN</td>\n",
       "      <td>NaN</td>\n",
       "      <td>NaN</td>\n",
       "      <td>NaN</td>\n",
       "      <td>NaN</td>\n",
       "      <td>NaN</td>\n",
       "      <td>NaN</td>\n",
       "    </tr>\n",
       "    <tr>\n",
       "      <th>1985-09-02</th>\n",
       "      <td>1985</td>\n",
       "      <td>3118.855606</td>\n",
       "      <td>21.529548</td>\n",
       "      <td>18.765827</td>\n",
       "      <td>31.529024</td>\n",
       "      <td>4274.313711</td>\n",
       "      <td>0.703036</td>\n",
       "      <td>362.384262</td>\n",
       "      <td>2.517605</td>\n",
       "      <td>4.807012</td>\n",
       "      <td>...</td>\n",
       "      <td>NaN</td>\n",
       "      <td>84.0</td>\n",
       "      <td>NaN</td>\n",
       "      <td>NaN</td>\n",
       "      <td>1017.5</td>\n",
       "      <td>NaN</td>\n",
       "      <td>NaN</td>\n",
       "      <td>0.172</td>\n",
       "      <td>NaN</td>\n",
       "      <td>NaN</td>\n",
       "    </tr>\n",
       "    <tr>\n",
       "      <th>1985-09-03</th>\n",
       "      <td>1985</td>\n",
       "      <td>3119.868040</td>\n",
       "      <td>26.957457</td>\n",
       "      <td>12.745660</td>\n",
       "      <td>31.855229</td>\n",
       "      <td>4280.127290</td>\n",
       "      <td>-3.874296</td>\n",
       "      <td>361.687885</td>\n",
       "      <td>-1.140219</td>\n",
       "      <td>0.649032</td>\n",
       "      <td>...</td>\n",
       "      <td>NaN</td>\n",
       "      <td>86.0</td>\n",
       "      <td>84.0</td>\n",
       "      <td>NaN</td>\n",
       "      <td>1017.8</td>\n",
       "      <td>1017.5</td>\n",
       "      <td>NaN</td>\n",
       "      <td>0.172</td>\n",
       "      <td>0.172</td>\n",
       "      <td>NaN</td>\n",
       "    </tr>\n",
       "    <tr>\n",
       "      <th>1985-09-04</th>\n",
       "      <td>1985</td>\n",
       "      <td>3122.340297</td>\n",
       "      <td>22.117795</td>\n",
       "      <td>15.393883</td>\n",
       "      <td>30.340974</td>\n",
       "      <td>4279.056049</td>\n",
       "      <td>0.019061</td>\n",
       "      <td>364.689648</td>\n",
       "      <td>6.203908</td>\n",
       "      <td>6.455491</td>\n",
       "      <td>...</td>\n",
       "      <td>0.0</td>\n",
       "      <td>88.0</td>\n",
       "      <td>86.0</td>\n",
       "      <td>84.0</td>\n",
       "      <td>1018.3</td>\n",
       "      <td>1017.8</td>\n",
       "      <td>1017.5</td>\n",
       "      <td>0.193</td>\n",
       "      <td>0.172</td>\n",
       "      <td>0.172</td>\n",
       "    </tr>\n",
       "    <tr>\n",
       "      <th>1985-09-05</th>\n",
       "      <td>1985</td>\n",
       "      <td>3119.501944</td>\n",
       "      <td>20.538729</td>\n",
       "      <td>13.529428</td>\n",
       "      <td>30.462148</td>\n",
       "      <td>4279.879428</td>\n",
       "      <td>-1.444538</td>\n",
       "      <td>361.369231</td>\n",
       "      <td>0.028296</td>\n",
       "      <td>0.878724</td>\n",
       "      <td>...</td>\n",
       "      <td>0.0</td>\n",
       "      <td>85.0</td>\n",
       "      <td>88.0</td>\n",
       "      <td>86.0</td>\n",
       "      <td>1018.6</td>\n",
       "      <td>1018.3</td>\n",
       "      <td>1017.8</td>\n",
       "      <td>0.202</td>\n",
       "      <td>0.193</td>\n",
       "      <td>0.172</td>\n",
       "    </tr>\n",
       "  </tbody>\n",
       "</table>\n",
       "<p>5 rows × 93 columns</p>\n",
       "</div>"
      ],
      "text/plain": [
       "            Year_extract  CO2 emissions from liquid fuel consumption (kt)_new  \\\n",
       "timestamp                                                                       \n",
       "1985-09-01          1985                                        3115.498132     \n",
       "1985-09-02          1985                                        3118.855606     \n",
       "1985-09-03          1985                                        3119.868040     \n",
       "1985-09-04          1985                                        3122.340297     \n",
       "1985-09-05          1985                                        3119.501944     \n",
       "\n",
       "            Energy related methane emissions (% of total)_new  \\\n",
       "timestamp                                                       \n",
       "1985-09-01                                          24.162338   \n",
       "1985-09-02                                          21.529548   \n",
       "1985-09-03                                          26.957457   \n",
       "1985-09-04                                          22.117795   \n",
       "1985-09-05                                          20.538729   \n",
       "\n",
       "            Fuel exports (% of merchandise exports)_new  \\\n",
       "timestamp                                                 \n",
       "1985-09-01                                    16.476346   \n",
       "1985-09-02                                    18.765827   \n",
       "1985-09-03                                    12.745660   \n",
       "1985-09-04                                    15.393883   \n",
       "1985-09-05                                    13.529428   \n",
       "\n",
       "            Fuel imports (% of merchandise imports)_new  \\\n",
       "timestamp                                                 \n",
       "1985-09-01                                    28.932601   \n",
       "1985-09-02                                    31.529024   \n",
       "1985-09-03                                    31.855229   \n",
       "1985-09-04                                    30.340974   \n",
       "1985-09-05                                    30.462148   \n",
       "\n",
       "            Methane emissions in energy sector (thousand metric tons of CO2 equivalent)_new  \\\n",
       "timestamp                                                                                     \n",
       "1985-09-01                                        4279.666073                                 \n",
       "1985-09-02                                        4274.313711                                 \n",
       "1985-09-03                                        4280.127290                                 \n",
       "1985-09-04                                        4279.056049                                 \n",
       "1985-09-05                                        4279.879428                                 \n",
       "\n",
       "            Mineral rents (% of GDP)_new  \\\n",
       "timestamp                                  \n",
       "1985-09-01                      1.365497   \n",
       "1985-09-02                      0.703036   \n",
       "1985-09-03                     -3.874296   \n",
       "1985-09-04                      0.019061   \n",
       "1985-09-05                     -1.444538   \n",
       "\n",
       "            Nitrous oxide emissions in energy sector (thousand metric tons of CO2 equivalent)_new  \\\n",
       "timestamp                                                                                           \n",
       "1985-09-01                                         362.545871                                       \n",
       "1985-09-02                                         362.384262                                       \n",
       "1985-09-03                                         361.687885                                       \n",
       "1985-09-04                                         364.689648                                       \n",
       "1985-09-05                                         361.369231                                       \n",
       "\n",
       "            Ores and metals exports (% of merchandise exports)_new  \\\n",
       "timestamp                                                            \n",
       "1985-09-01                                           1.829561        \n",
       "1985-09-02                                           2.517605        \n",
       "1985-09-03                                          -1.140219        \n",
       "1985-09-04                                           6.203908        \n",
       "1985-09-05                                           0.028296        \n",
       "\n",
       "            Total natural resources rents (% of GDP)_new  ...  \\\n",
       "timestamp                                                 ...   \n",
       "1985-09-01                                      4.292895  ...   \n",
       "1985-09-02                                      4.807012  ...   \n",
       "1985-09-03                                      0.649032  ...   \n",
       "1985-09-04                                      6.455491  ...   \n",
       "1985-09-05                                      0.878724  ...   \n",
       "\n",
       "            N_Precipitation_Total_3  N_Relative_Humidity_m_1  \\\n",
       "timestamp                                                      \n",
       "1985-09-01                      NaN                      NaN   \n",
       "1985-09-02                      NaN                     84.0   \n",
       "1985-09-03                      NaN                     86.0   \n",
       "1985-09-04                      0.0                     88.0   \n",
       "1985-09-05                      0.0                     85.0   \n",
       "\n",
       "            N_Relative_Humidity_m_2  N_Relative_Humidity_m_3  \\\n",
       "timestamp                                                      \n",
       "1985-09-01                      NaN                      NaN   \n",
       "1985-09-02                      NaN                      NaN   \n",
       "1985-09-03                     84.0                      NaN   \n",
       "1985-09-04                     86.0                     84.0   \n",
       "1985-09-05                     88.0                     86.0   \n",
       "\n",
       "            N_Mean_Sea_Level_Pressure_1  N_Mean_Sea_Level_Pressure_2  \\\n",
       "timestamp                                                              \n",
       "1985-09-01                          NaN                          NaN   \n",
       "1985-09-02                       1017.5                          NaN   \n",
       "1985-09-03                       1017.8                       1017.5   \n",
       "1985-09-04                       1018.3                       1017.8   \n",
       "1985-09-05                       1018.6                       1018.3   \n",
       "\n",
       "            N_Mean_Sea_Level_Pressure_3  N_Soil_Moisture_10cm_1  \\\n",
       "timestamp                                                         \n",
       "1985-09-01                          NaN                     NaN   \n",
       "1985-09-02                          NaN                   0.172   \n",
       "1985-09-03                          NaN                   0.172   \n",
       "1985-09-04                       1017.5                   0.193   \n",
       "1985-09-05                       1017.8                   0.202   \n",
       "\n",
       "            N_Soil_Moisture_10cm_2  N_Soil_Moisture_10cm_3  \n",
       "timestamp                                                   \n",
       "1985-09-01                     NaN                     NaN  \n",
       "1985-09-02                     NaN                     NaN  \n",
       "1985-09-03                   0.172                     NaN  \n",
       "1985-09-04                   0.172                   0.172  \n",
       "1985-09-05                   0.193                   0.172  \n",
       "\n",
       "[5 rows x 93 columns]"
      ]
     },
     "execution_count": 25,
     "metadata": {},
     "output_type": "execute_result"
    },
    {
     "data": {
      "text/plain": [
       "Index(['Year_extract', 'CO2 emissions from liquid fuel consumption (kt)_new',\n",
       "       'Energy related methane emissions (% of total)_new',\n",
       "       'Fuel exports (% of merchandise exports)_new',\n",
       "       'Fuel imports (% of merchandise imports)_new',\n",
       "       'Methane emissions in energy sector (thousand metric tons of CO2 equivalent)_new',\n",
       "       'Mineral rents (% of GDP)_new',\n",
       "       'Nitrous oxide emissions in energy sector (thousand metric tons of CO2 equivalent)_new',\n",
       "       'Ores and metals exports (% of merchandise exports)_new',\n",
       "       'Total natural resources rents (% of GDP)_new',\n",
       "       'Agricultural land (% of land area)_new',\n",
       "       'Agricultural land (sq. km)_new',\n",
       "       'Agriculture, forestry, and fishing, value added (% of GDP)_new',\n",
       "       'Arable land (% of land area)_new', 'CO2 emissions (kt)_new',\n",
       "       'CO2 emissions (metric tons per capita)_new',\n",
       "       'Foreign direct investment, net inflows (% of GDP)_new',\n",
       "       'Methane emissions (kt of CO2 equivalent)_new',\n",
       "       'Mortality rate, under-5 (per 1,000 live births)_new',\n",
       "       'Nitrous oxide emissions (thousand metric tons of CO2 equivalent)_new',\n",
       "       'Population growth (annual %)_new',\n",
       "       'Population in urban agglomerations of more than 1 million (% of total population)_new',\n",
       "       'Population, total_new',\n",
       "       'Total greenhouse gas emissions (kt of CO2 equivalent)_new',\n",
       "       'Urban population_new', 'N_Temperature_m', 'N_Precipitation_Total',\n",
       "       'N_Snowfall_Amount', 'N_Relative_Humidity_m', 'N_Wind_Speed_10m',\n",
       "       'N_Cloud_Cover_Total', 'N_Sunshine_Duration', 'N_Shortwave_Radiation',\n",
       "       'N_Mean_Sea_Level_Pressure', 'N_Soil_Temperature_10cm',\n",
       "       'N_Soil_Moisture_10cm', 'N_Wind_Direction_Dominant_10m',\n",
       "       'Year_extract_x', 'A_Temperature_m', 'A_Precipitation_Total',\n",
       "       'A_Snowfall_Amount', 'A_Relative_Humidity_m', 'A_Wind_Speed_10m',\n",
       "       'A_Cloud_Cover_Total', 'A_Sunshine_Duration', 'A_Shortwave_Radiation',\n",
       "       'A_Mean_Sea_Level_Pressure', 'A_Soil_Temperature_10cm',\n",
       "       'A_Soil_Moisture_10cm', 'A_Wind_Direction_Dominant_10m',\n",
       "       'CT_Temperature_m', 'CT_Precipitation_Total', 'CT_Snowfall_Amount',\n",
       "       'CT_Relative_Humidity_m', 'CT_Wind_Speed_10m', 'CT_Cloud_Cover_Total',\n",
       "       'CT_Sunshine_Duration', 'CT_Shortwave_Radiation',\n",
       "       'CT_Mean_Sea_Level_Pressure', 'CT_Soil_Temperature_10cm',\n",
       "       'CT_Soil_Moisture_10cm', 'CT_Wind_Direction_Dominant_10m',\n",
       "       'Year_extract_y', 'CO2 emissions (kt)_new_1',\n",
       "       'CO2 emissions (kt)_new_2', 'CO2 emissions (kt)_new_3',\n",
       "       'Methane emissions (kt of CO2 equivalent)_new_1',\n",
       "       'Methane emissions (kt of CO2 equivalent)_new_2',\n",
       "       'Methane emissions (kt of CO2 equivalent)_new_3',\n",
       "       'Nitrous oxide emissions (thousand metric tons of CO2 equivalent)_new_1',\n",
       "       'Nitrous oxide emissions (thousand metric tons of CO2 equivalent)_new_2',\n",
       "       'Nitrous oxide emissions (thousand metric tons of CO2 equivalent)_new_3',\n",
       "       'Population, total_new_1', 'Population, total_new_2',\n",
       "       'Population, total_new_3', 'Urban population_new_1',\n",
       "       'Urban population_new_2', 'Urban population_new_3', 'N_Temperature_m_1',\n",
       "       'N_Temperature_m_2', 'N_Temperature_m_3', 'N_Precipitation_Total_1',\n",
       "       'N_Precipitation_Total_2', 'N_Precipitation_Total_3',\n",
       "       'N_Relative_Humidity_m_1', 'N_Relative_Humidity_m_2',\n",
       "       'N_Relative_Humidity_m_3', 'N_Mean_Sea_Level_Pressure_1',\n",
       "       'N_Mean_Sea_Level_Pressure_2', 'N_Mean_Sea_Level_Pressure_3',\n",
       "       'N_Soil_Moisture_10cm_1', 'N_Soil_Moisture_10cm_2',\n",
       "       'N_Soil_Moisture_10cm_3'],\n",
       "      dtype='object')"
      ]
     },
     "execution_count": 25,
     "metadata": {},
     "output_type": "execute_result"
    }
   ],
   "source": [
    "df_original.head();\n",
    "df_original.columns.unique()"
   ]
  },
  {
   "cell_type": "code",
   "execution_count": 26,
   "id": "efdd84a1-be99-4bc8-85cf-b21448b440ad",
   "metadata": {},
   "outputs": [],
   "source": [
    "from sklearn.model_selection import train_test_split\n",
    "\n",
    "# Let's define our features:\n",
    "features = ['CO2 emissions from liquid fuel consumption (kt)_new',\n",
    "       'Fuel exports (% of merchandise exports)_new',\n",
    "       'Fuel imports (% of merchandise imports)_new',\n",
    "       'Nitrous oxide emissions in energy sector (thousand metric tons of CO2 equivalent)_new',\n",
    "       'Ores and metals exports (% of merchandise exports)_new',\n",
    "       'Agricultural land (sq. km)_new',\n",
    "       'Foreign direct investment, net inflows (% of GDP)_new',\n",
    "       'Methane emissions (kt of CO2 equivalent)_new',\n",
    "       'Population growth (annual %)_new',\n",
    "       'Population in urban agglomerations of more than 1 million (% of total population)_new',\n",
    "       'Total greenhouse gas emissions (kt of CO2 equivalent)_new',\n",
    "       'Urban population_new', 'N_Precipitation_Total',\n",
    "       'N_Snowfall_Amount', 'N_Relative_Humidity_m', 'N_Wind_Speed_10m',\n",
    "       'N_Cloud_Cover_Total', 'N_Sunshine_Duration', 'N_Shortwave_Radiation',\n",
    "       'N_Mean_Sea_Level_Pressure', 'N_Soil_Temperature_10cm',\n",
    "       'N_Soil_Moisture_10cm', 'N_Wind_Direction_Dominant_10m']\n"
   ]
  },
  {
   "cell_type": "markdown",
   "id": "17e0d684-90de-43cd-a6a1-67e9772d537f",
   "metadata": {},
   "source": [
    "### Predicting Temperatures"
   ]
  },
  {
   "cell_type": "code",
   "execution_count": 27,
   "id": "53dbe94d-7c81-49b3-a212-dfa30425e990",
   "metadata": {},
   "outputs": [],
   "source": [
    "X = df_original[features]\n",
    "y = df_original['N_Temperature_m']\n",
    "X_train, X_test, y_train, y_test = train_test_split(X, y, test_size=.2, random_state=1)"
   ]
  },
  {
   "cell_type": "code",
   "execution_count": 28,
   "id": "1b6030c0-5c29-409e-add2-d799e011e5a9",
   "metadata": {},
   "outputs": [
    {
     "data": {
      "text/plain": [
       "74.0091538949358"
      ]
     },
     "execution_count": 28,
     "metadata": {},
     "output_type": "execute_result"
    }
   ],
   "source": [
    "train_mean = y_train.mean()\n",
    "train_mean"
   ]
  },
  {
   "cell_type": "markdown",
   "id": "112aed4c-a895-49d5-a42f-98359c0553d4",
   "metadata": {},
   "source": [
    "### A good place to start is to see how good the mean is as a predictor"
   ]
  },
  {
   "cell_type": "code",
   "execution_count": 29,
   "id": "7f91aa1e-f833-45a0-a325-2bb4133d912e",
   "metadata": {},
   "outputs": [
    {
     "data": {
      "text/plain": [
       "DummyRegressor()"
      ]
     },
     "execution_count": 29,
     "metadata": {},
     "output_type": "execute_result"
    },
    {
     "data": {
      "text/plain": [
       "array([[74.00915389]])"
      ]
     },
     "execution_count": 29,
     "metadata": {},
     "output_type": "execute_result"
    }
   ],
   "source": [
    "#Fit the dummy regressor on the training data\n",
    "#Let's call its `.fit()` method with `X_train` and `y_train` as arguments\n",
    "#Then print the object's `constant_` attribute and verify it's the same as the mean above\n",
    "dumb_reg = DummyRegressor(strategy='mean')\n",
    "dumb_reg.fit(X_train, y_train)\n",
    "dumb_reg.constant_"
   ]
  },
  {
   "cell_type": "markdown",
   "id": "c0665dd7-7f24-4cef-8653-61457593642e",
   "metadata": {},
   "source": [
    "Metrics\n",
    "R-squared, or coefficient of determination"
   ]
  },
  {
   "cell_type": "code",
   "execution_count": 30,
   "id": "1ecd156d-8674-4c43-aa37-ae216cdcf49b",
   "metadata": {},
   "outputs": [],
   "source": [
    "#Calculate the R^2\n",
    "def r_squared(y, ypred):\n",
    "    \"\"\"R-squared score.\n",
    "    \n",
    "    Calculate the R-squared, or coefficient of determination, of the input.\n",
    "    \n",
    "    Arguments:\n",
    "    y -- the observed values\n",
    "    ypred -- the predicted values\n",
    "    \"\"\"\n",
    "    ybar = np.sum(y) / len(y) #yes, we could use np.mean(y)\n",
    "    sum_sq_tot = np.sum((y - ybar)**2) #total sum of squares error\n",
    "    sum_sq_res = np.sum((y - ypred)**2) #residual sum of squares error\n",
    "    R2 = 1.0 - sum_sq_res / sum_sq_tot\n",
    "    return R2"
   ]
  },
  {
   "cell_type": "code",
   "execution_count": 31,
   "id": "25bad9eb-5346-4180-949c-59b2c27f5ca2",
   "metadata": {},
   "outputs": [],
   "source": [
    "#Making predictions by creating an array of length the size of the training set with the single value of the mean."
   ]
  },
  {
   "cell_type": "code",
   "execution_count": 32,
   "id": "12b7215c-67a0-4bad-b205-ce65fe5d9371",
   "metadata": {},
   "outputs": [
    {
     "data": {
      "text/plain": [
       "array([74.00915389, 74.00915389, 74.00915389, 74.00915389, 74.00915389])"
      ]
     },
     "execution_count": 32,
     "metadata": {},
     "output_type": "execute_result"
    }
   ],
   "source": [
    "y_tr_pred_ = train_mean * np.ones(len(y_train))\n",
    "y_tr_pred_[:5]"
   ]
  },
  {
   "cell_type": "code",
   "execution_count": 33,
   "id": "e10679e9-d7ac-4048-bf2a-bc6defbc53d8",
   "metadata": {},
   "outputs": [
    {
     "data": {
      "text/plain": [
       "array([74.00915389, 74.00915389, 74.00915389, 74.00915389, 74.00915389])"
      ]
     },
     "execution_count": 33,
     "metadata": {},
     "output_type": "execute_result"
    }
   ],
   "source": [
    "#Remember the sklearn dummy regressor?\n",
    "y_tr_pred = dumb_reg.predict(X_train)\n",
    "y_tr_pred[:5]"
   ]
  },
  {
   "cell_type": "markdown",
   "id": "2f37bc83-e65a-4c7f-aa5c-43fd82bf914c",
   "metadata": {},
   "source": [
    "#### You can see that DummyRegressor produces exactly the same results and saves you having to mess about broadcasting the mean (or whichever other statistic we used)\n",
    "#### to an array of the appropriate length. It also gives you an object with fit() and predict() methods as well so you can use them as conveniently as any other sklearn estimator."
   ]
  },
  {
   "cell_type": "code",
   "execution_count": 35,
   "id": "d9b02bfc-86f7-4abe-bb46-85a78c04d90f",
   "metadata": {},
   "outputs": [
    {
     "data": {
      "text/plain": [
       "0.0"
      ]
     },
     "execution_count": 35,
     "metadata": {},
     "output_type": "execute_result"
    }
   ],
   "source": [
    "r_squared(y_train, y_tr_pred)"
   ]
  },
  {
   "cell_type": "markdown",
   "id": "20305699-d618-4d16-99ff-6f3cbdfa1631",
   "metadata": {},
   "source": [
    "Exactly as expected, if you use the average value as your prediction, you get an R^2 of zero on our training set. \n",
    "What if we use this \"model\" to predict unseen values from the test set? \n",
    "Remember, of course, that the \"model\" is trained on the training set; we still use the training set mean as our prediction.\n",
    "Making predictions by creating an array of length the size of the test set with the single value of the (training) mean."
   ]
  },
  {
   "cell_type": "code",
   "execution_count": 36,
   "id": "1ca35cd7-0672-43ce-babb-dffe654fd283",
   "metadata": {},
   "outputs": [
    {
     "data": {
      "text/plain": [
       "-0.00014638396938693177"
      ]
     },
     "execution_count": 36,
     "metadata": {},
     "output_type": "execute_result"
    }
   ],
   "source": [
    "y_te_pred = train_mean * np.ones(len(y_test))\n",
    "r_squared(y_test, y_te_pred)"
   ]
  },
  {
   "cell_type": "markdown",
   "id": "24ca5332-8434-42b9-b0dc-d180f283e01a",
   "metadata": {},
   "source": [
    "Generally, we can expect performance on a test set to be slightly worse than on the training set. \n",
    "As you are getting an R^2 of zero on the training set, there's nowhere to go but negative!\n",
    "\n",
    "R^2 is a common metric, and interpretable in terms of the amount of variance explained, it's less appealing if we want an idea of how \"close\" our predictions are to the true values. \n",
    "Metrics that summarise the difference between predicted and actual values are mean absolute error and mean squared error"
   ]
  },
  {
   "cell_type": "markdown",
   "id": "cf4a9931-80d0-4a63-bdbd-79ebecefbc81",
   "metadata": {},
   "source": [
    "### Mean Absolute Error"
   ]
  },
  {
   "cell_type": "code",
   "execution_count": 37,
   "id": "751e702c-ee52-4b72-9b00-11b2c8c9428c",
   "metadata": {},
   "outputs": [],
   "source": [
    "# This is very simply the average of the absolute errors:"
   ]
  },
  {
   "cell_type": "code",
   "execution_count": 38,
   "id": "be6c138d-8282-444b-a1f9-e624fcbb23e2",
   "metadata": {},
   "outputs": [],
   "source": [
    "#Calculate the MAE as defined above\n",
    "def mae(y, ypred):\n",
    "    \"\"\"Mean absolute error.\n",
    "    \n",
    "    Calculate the mean absolute error of the arguments\n",
    "\n",
    "    Arguments:\n",
    "    y -- the observed values\n",
    "    ypred -- the predicted values\n",
    "    \"\"\"\n",
    "    abs_error = np.abs(y - ypred)\n",
    "    mae = np.mean(abs_error)\n",
    "    return mae"
   ]
  },
  {
   "cell_type": "code",
   "execution_count": 39,
   "id": "8e9baac5-35c1-434b-9d2a-0c79be24dc96",
   "metadata": {},
   "outputs": [
    {
     "data": {
      "text/plain": [
       "3.26292226315488"
      ]
     },
     "execution_count": 39,
     "metadata": {},
     "output_type": "execute_result"
    }
   ],
   "source": [
    "mae(y_train, y_tr_pred)"
   ]
  },
  {
   "cell_type": "markdown",
   "id": "ca0725f5-9518-4571-a440-ef586d8e9bf1",
   "metadata": {},
   "source": [
    "### Mean absolute error is arguably the most intuitive of all the metrics, this essentially tells us that, on average, we might expect to be off by around 3 DegF if we guessed teh temperature based on an average of known values."
   ]
  },
  {
   "cell_type": "code",
   "execution_count": 40,
   "id": "acd352b4-07f1-4994-9533-22af87b6fa6e",
   "metadata": {},
   "outputs": [],
   "source": [
    "#Calculate the MSE as defined above\n",
    "def mse(y, ypred):\n",
    "    \"\"\"Mean square error.\n",
    "    \n",
    "    Calculate the mean square error of the arguments\n",
    "\n",
    "    Arguments:\n",
    "    y -- the observed values\n",
    "    ypred -- the predicted values\n",
    "    \"\"\"\n",
    "    sq_error = (y - ypred)**2\n",
    "    mse = np.mean(sq_error)\n",
    "    return mse"
   ]
  },
  {
   "cell_type": "code",
   "execution_count": 41,
   "id": "7fcf19cd-dc7b-4aff-a6b7-43074a494c36",
   "metadata": {},
   "outputs": [
    {
     "data": {
      "text/plain": [
       "16.301527900270038"
      ]
     },
     "execution_count": 41,
     "metadata": {},
     "output_type": "execute_result"
    }
   ],
   "source": [
    "mse(y_train, y_tr_pred)"
   ]
  },
  {
   "cell_type": "code",
   "execution_count": 42,
   "id": "1cf96878-92ae-40e1-b920-5053220803f8",
   "metadata": {},
   "outputs": [
    {
     "data": {
      "text/plain": [
       "16.356137044312504"
      ]
     },
     "execution_count": 42,
     "metadata": {},
     "output_type": "execute_result"
    }
   ],
   "source": [
    "mse(y_test, y_te_pred)"
   ]
  },
  {
   "cell_type": "markdown",
   "id": "20e5ac19-18b3-4a08-a86b-8264aee9a959",
   "metadata": {},
   "source": [
    "##### And what does a squared error mean anyway? To convert this back to our measurement space, we often take the square root, to form the root mean square error thus:"
   ]
  },
  {
   "cell_type": "code",
   "execution_count": 43,
   "id": "25b2f64e-5b42-4803-bc90-344ae7cd4683",
   "metadata": {},
   "outputs": [
    {
     "data": {
      "text/plain": [
       "array([4.03751507, 4.04427213])"
      ]
     },
     "execution_count": 43,
     "metadata": {},
     "output_type": "execute_result"
    }
   ],
   "source": [
    "np.sqrt([mse(y_train, y_tr_pred), mse(y_test, y_te_pred)])"
   ]
  },
  {
   "cell_type": "markdown",
   "id": "b8216125-7727-4a7b-b4c8-1c619c7d446b",
   "metadata": {},
   "source": [
    "## sklearn metrics"
   ]
  },
  {
   "cell_type": "code",
   "execution_count": 44,
   "id": "aa7d7369-8eac-4053-8f5f-22b986a8836a",
   "metadata": {},
   "outputs": [
    {
     "data": {
      "text/plain": [
       "(0.0, -0.00014638396938693177)"
      ]
     },
     "execution_count": 44,
     "metadata": {},
     "output_type": "execute_result"
    }
   ],
   "source": [
    "# R-squared\n",
    "r2_score(y_train, y_tr_pred), r2_score(y_test, y_te_pred)"
   ]
  },
  {
   "cell_type": "code",
   "execution_count": 45,
   "id": "7eb9c751-f12f-4bc3-8593-da454a1021a3",
   "metadata": {},
   "outputs": [
    {
     "data": {
      "text/plain": [
       "(3.2629222631548744, 3.274824123543889)"
      ]
     },
     "execution_count": 45,
     "metadata": {},
     "output_type": "execute_result"
    }
   ],
   "source": [
    "# Mean absolute error\n",
    "mean_absolute_error(y_train, y_tr_pred), mean_absolute_error(y_test, y_te_pred)"
   ]
  },
  {
   "cell_type": "code",
   "execution_count": 46,
   "id": "6459ec89-69d3-440d-b218-cc09e9f59b8c",
   "metadata": {},
   "outputs": [
    {
     "data": {
      "text/plain": [
       "(16.30152790026995, 16.356137044312522)"
      ]
     },
     "execution_count": 46,
     "metadata": {},
     "output_type": "execute_result"
    }
   ],
   "source": [
    "#  Mean squared error\n",
    "mean_squared_error(y_train, y_tr_pred), mean_squared_error(y_test, y_te_pred)"
   ]
  },
  {
   "cell_type": "code",
   "execution_count": 47,
   "id": "5aa424c7-df29-4ea9-a6b4-3112b096730e",
   "metadata": {},
   "outputs": [
    {
     "data": {
      "text/plain": [
       "(0.0, -8.072125635708761e+28)"
      ]
     },
     "execution_count": 47,
     "metadata": {},
     "output_type": "execute_result"
    }
   ],
   "source": [
    "# correct order, incorrect order\n",
    "r2_score(y_train, y_tr_pred), r2_score(y_tr_pred, y_train)"
   ]
  },
  {
   "cell_type": "code",
   "execution_count": 48,
   "id": "a90e8c84-7ed2-4f59-bf36-998ea09bec76",
   "metadata": {},
   "outputs": [
    {
     "data": {
      "text/plain": [
       "(-0.00014638396938693177, 0.0)"
      ]
     },
     "execution_count": 48,
     "metadata": {},
     "output_type": "execute_result"
    }
   ],
   "source": [
    "# correct order, incorrect order\n",
    "r2_score(y_test, y_te_pred), r2_score(y_te_pred, y_test)"
   ]
  },
  {
   "cell_type": "code",
   "execution_count": 49,
   "id": "93da43a3-1b13-46ef-96fd-c9f503ebe74d",
   "metadata": {},
   "outputs": [
    {
     "name": "stderr",
     "output_type": "stream",
     "text": [
      "<ipython-input-30-99d1d08e1e39>:14: RuntimeWarning: divide by zero encountered in double_scalars\n",
      "  R2 = 1.0 - sum_sq_res / sum_sq_tot\n"
     ]
    },
    {
     "data": {
      "text/plain": [
       "(-0.00014638396938693177, -inf)"
      ]
     },
     "execution_count": 49,
     "metadata": {},
     "output_type": "execute_result"
    }
   ],
   "source": [
    "# correct order, incorrect order\n",
    "r_squared(y_test, y_te_pred), r_squared(y_te_pred, y_test)"
   ]
  },
  {
   "cell_type": "markdown",
   "id": "0dc616b9-b73e-4242-83fb-c163e3db6791",
   "metadata": {},
   "source": [
    "Remember:\n",
    "\n",
    "argument order matters !\n"
   ]
  },
  {
   "cell_type": "markdown",
   "id": "950f9604-993a-4611-a46e-72e584b0a923",
   "metadata": {},
   "source": [
    "## Imputing missing feature (predictor) values\n",
    "#### Impute missing values with median\n"
   ]
  },
  {
   "cell_type": "code",
   "execution_count": 50,
   "id": "68a5c3c0-fd64-4120-9955-b11fd1a164e6",
   "metadata": {},
   "outputs": [
    {
     "data": {
      "text/plain": [
       "CO2 emissions from liquid fuel consumption (kt)_new                                      8.072755e+03\n",
       "Fuel exports (% of merchandise exports)_new                                              7.487857e+00\n",
       "Fuel imports (% of merchandise imports)_new                                              1.980256e+01\n",
       "Nitrous oxide emissions in energy sector (thousand metric tons of CO2 equivalent)_new    7.921492e+02\n",
       "Ores and metals exports (% of merchandise exports)_new                                   2.966648e+00\n",
       "Agricultural land (sq. km)_new                                                           2.705325e+05\n",
       "Foreign direct investment, net inflows (% of GDP)_new                                    8.336035e-01\n",
       "Methane emissions (kt of CO2 equivalent)_new                                             2.240299e+04\n",
       "Population growth (annual %)_new                                                         2.863826e+00\n",
       "Population in urban agglomerations of more than 1 million (% of total population)_new    9.212751e+00\n",
       "Total greenhouse gas emissions (kt of CO2 equivalent)_new                                4.073241e+04\n",
       "Urban population_new                                                                     6.949825e+06\n",
       "N_Precipitation_Total                                                                    0.000000e+00\n",
       "N_Snowfall_Amount                                                                        0.000000e+00\n",
       "N_Relative_Humidity_m                                                                    9.200000e+01\n",
       "N_Wind_Speed_10m                                                                         1.012816e+01\n",
       "N_Cloud_Cover_Total                                                                      5.716667e+01\n",
       "N_Sunshine_Duration                                                                      3.746794e+02\n",
       "N_Shortwave_Radiation                                                                    4.791760e+03\n",
       "N_Mean_Sea_Level_Pressure                                                                1.017000e+03\n",
       "N_Soil_Temperature_10cm                                                                  7.687399e+01\n",
       "N_Soil_Moisture_10cm                                                                     2.050000e-01\n",
       "N_Wind_Direction_Dominant_10m                                                            9.393336e+01\n",
       "dtype: float64"
      ]
     },
     "execution_count": 50,
     "metadata": {},
     "output_type": "execute_result"
    }
   ],
   "source": [
    "# These are the values we'll use to fill in any missing values\n",
    "X_defaults_median = X_train.median()\n",
    "X_defaults_median"
   ]
  },
  {
   "cell_type": "code",
   "execution_count": 51,
   "id": "313b1d98-1981-4196-a9c1-3e00b9b84d83",
   "metadata": {},
   "outputs": [],
   "source": [
    "# Apply the imputation to both train and test splits\n",
    "#Call `X_train` and `X_test`'s `fillna()` method, passing `X_defaults_median` as the values to use\n",
    "#Assign the results to `X_tr` and `X_te`, respectively\n",
    "X_tr = X_train.fillna(X_defaults_median)\n",
    "X_te = X_test.fillna(X_defaults_median)"
   ]
  },
  {
   "cell_type": "code",
   "execution_count": 52,
   "id": "ee291f2a-8679-406f-a14b-fac60a720020",
   "metadata": {},
   "outputs": [
    {
     "data": {
      "text/plain": [
       "StandardScaler()"
      ]
     },
     "execution_count": 52,
     "metadata": {},
     "output_type": "execute_result"
    }
   ],
   "source": [
    "# Scale the data\n",
    "#Call the StandardScaler`s fit method on `X_tr` to fit the scaler\n",
    "#then use it's `transform()` method to apply the scaling to both the train and test split\n",
    "#data (`X_tr` and `X_te`), naming the results `X_tr_scaled` and `X_te_scaled`, respectively\n",
    "scaler = StandardScaler()\n",
    "scaler.fit(X_tr)\n",
    "X_tr_scaled = scaler.transform(X_tr)\n",
    "X_te_scaled = scaler.transform(X_te)"
   ]
  },
  {
   "cell_type": "code",
   "execution_count": 53,
   "id": "b481190e-5323-4434-93c0-2c3e7011163f",
   "metadata": {},
   "outputs": [],
   "source": [
    "# Train the model on the train split\n",
    "lm = LinearRegression().fit(X_tr_scaled, y_train)"
   ]
  },
  {
   "cell_type": "code",
   "execution_count": 54,
   "id": "b30aa12d-f911-4c3c-98b0-8e6a0c5c045d",
   "metadata": {},
   "outputs": [],
   "source": [
    "# Make predictions using the model on both train and test splits\n",
    "#Call the `predict()` method of the model (`lm`) on both the (scaled) train and test data\n",
    "#Assign the predictions to `y_tr_pred` and `y_te_pred`, respectively\n",
    "y_tr_pred = lm.predict(X_tr_scaled)\n",
    "y_te_pred = lm.predict(X_te_scaled)"
   ]
  },
  {
   "cell_type": "code",
   "execution_count": 55,
   "id": "283b4239-0abe-4364-8d69-fb81189e437d",
   "metadata": {},
   "outputs": [
    {
     "data": {
      "text/plain": [
       "(0.9080994846901665, 0.9086142381587717)"
      ]
     },
     "execution_count": 55,
     "metadata": {},
     "output_type": "execute_result"
    }
   ],
   "source": [
    "# r^2 - train, test\n",
    "median_r2 = r2_score(y_train, y_tr_pred), r2_score(y_test, y_te_pred)\n",
    "median_r2"
   ]
  },
  {
   "cell_type": "code",
   "execution_count": 56,
   "id": "11e80425-fefb-4adf-9eed-b94272f6a788",
   "metadata": {},
   "outputs": [
    {
     "data": {
      "text/plain": [
       "(0.9677951092255234, 0.9582399477626847)"
      ]
     },
     "execution_count": 56,
     "metadata": {},
     "output_type": "execute_result"
    }
   ],
   "source": [
    "#Now calculate the mean absolute error scores using `sklearn`'s `mean_absolute_error` function\n",
    "# as we did above for R^2\n",
    "# MAE - train, test\n",
    "median_mae = mean_absolute_error(y_train, y_tr_pred), mean_absolute_error(y_test, y_te_pred)\n",
    "median_mae"
   ]
  },
  {
   "cell_type": "code",
   "execution_count": 57,
   "id": "30fd2284-edc3-41fd-9cc7-57b6928a97ef",
   "metadata": {},
   "outputs": [],
   "source": [
    "## Using this model, then, on average you'd expect to estimateof the temperature within 2.8 Deg F or so of the real Temperature. \n",
    "## This is better than the 3 Deg F from just guessing using the average. There may be something to this machine learning lark after all!"
   ]
  },
  {
   "cell_type": "code",
   "execution_count": 58,
   "id": "1f210ac7-632d-442a-85e4-0d7c3626b522",
   "metadata": {},
   "outputs": [
    {
     "data": {
      "text/plain": [
       "(1.4981188143724353, 1.4944992738380845)"
      ]
     },
     "execution_count": 58,
     "metadata": {},
     "output_type": "execute_result"
    }
   ],
   "source": [
    "#And also do the same using `sklearn`'s `mean_squared_error`\n",
    "# MSE - train, test\n",
    "median_mse = mean_squared_error(y_train, y_tr_pred), mean_squared_error(y_test, y_te_pred)\n",
    "median_mse"
   ]
  },
  {
   "cell_type": "code",
   "execution_count": 59,
   "id": "e57c0bf5-e61f-440e-b8e6-042d7c820896",
   "metadata": {},
   "outputs": [
    {
     "data": {
      "text/plain": [
       "CO2 emissions from liquid fuel consumption (kt)_new                                      8.005256e+03\n",
       "Fuel exports (% of merchandise exports)_new                                              7.981261e+00\n",
       "Fuel imports (% of merchandise imports)_new                                              1.977099e+01\n",
       "Nitrous oxide emissions in energy sector (thousand metric tons of CO2 equivalent)_new    8.745321e+02\n",
       "Ores and metals exports (% of merchandise exports)_new                                   3.023254e+00\n",
       "Agricultural land (sq. km)_new                                                           2.707447e+05\n",
       "Foreign direct investment, net inflows (% of GDP)_new                                    8.446157e-01\n",
       "Methane emissions (kt of CO2 equivalent)_new                                             2.720115e+04\n",
       "Population growth (annual %)_new                                                         2.862195e+00\n",
       "Population in urban agglomerations of more than 1 million (% of total population)_new    9.194948e+00\n",
       "Total greenhouse gas emissions (kt of CO2 equivalent)_new                                5.070525e+04\n",
       "Urban population_new                                                                     7.709886e+06\n",
       "N_Precipitation_Total                                                                    3.909144e-02\n",
       "N_Snowfall_Amount                                                                        0.000000e+00\n",
       "N_Relative_Humidity_m                                                                    9.056639e+01\n",
       "N_Wind_Speed_10m                                                                         1.006989e+01\n",
       "N_Cloud_Cover_Total                                                                      5.657121e+01\n",
       "N_Sunshine_Duration                                                                      3.639272e+02\n",
       "N_Shortwave_Radiation                                                                    4.718164e+03\n",
       "N_Mean_Sea_Level_Pressure                                                                1.017010e+03\n",
       "N_Soil_Temperature_10cm                                                                  7.727521e+01\n",
       "N_Soil_Moisture_10cm                                                                     2.080309e-01\n",
       "N_Wind_Direction_Dominant_10m                                                            9.227893e+01\n",
       "dtype: float64"
      ]
     },
     "execution_count": 59,
     "metadata": {},
     "output_type": "execute_result"
    }
   ],
   "source": [
    "#As we did for the median above, calculate mean values for imputing missing values\n",
    "# These are the values we'll use to fill in any missing values\n",
    "X_defaults_mean = X_train.mean()\n",
    "X_defaults_mean"
   ]
  },
  {
   "cell_type": "code",
   "execution_count": 60,
   "id": "b617cca5-0156-4f7a-bc4b-9e9ceb2ba7ca",
   "metadata": {},
   "outputs": [],
   "source": [
    "# Apply the imputation to both train and test splits\n",
    "X_tr = X_train.fillna(X_defaults_mean)\n",
    "X_te = X_test.fillna(X_defaults_mean)"
   ]
  },
  {
   "cell_type": "code",
   "execution_count": 61,
   "id": "2bab77ad-0987-437f-89ef-79437c04578d",
   "metadata": {},
   "outputs": [
    {
     "data": {
      "text/plain": [
       "StandardScaler()"
      ]
     },
     "execution_count": 61,
     "metadata": {},
     "output_type": "execute_result"
    }
   ],
   "source": [
    "# Scale the data\n",
    "scaler = StandardScaler()\n",
    "scaler.fit(X_tr)\n",
    "X_tr_scaled = scaler.transform(X_tr)\n",
    "X_te_scaled = scaler.transform(X_te)"
   ]
  },
  {
   "cell_type": "code",
   "execution_count": 62,
   "id": "47a8a1f8-e4fa-44c2-bb2a-751b7a80dd50",
   "metadata": {},
   "outputs": [],
   "source": [
    "# Train the model on the train split\n",
    "lm = LinearRegression().fit(X_tr_scaled, y_train)"
   ]
  },
  {
   "cell_type": "code",
   "execution_count": 63,
   "id": "c91a422b-633e-4a92-8a8d-27054fd1645f",
   "metadata": {},
   "outputs": [],
   "source": [
    "#Make predictions using the model on both train and test splits\n",
    "y_tr_pred = lm.predict(X_tr_scaled)\n",
    "y_te_pred = lm.predict(X_te_scaled)"
   ]
  },
  {
   "cell_type": "code",
   "execution_count": 64,
   "id": "4b3f827a-a30d-4c1b-89e1-ab9ffaa63856",
   "metadata": {},
   "outputs": [
    {
     "data": {
      "text/plain": [
       "(0.9080994846901665, 0.9086142381587717)"
      ]
     },
     "execution_count": 64,
     "metadata": {},
     "output_type": "execute_result"
    }
   ],
   "source": [
    "#Assess model performance\n",
    "r2_score(y_train, y_tr_pred), r2_score(y_test, y_te_pred)"
   ]
  },
  {
   "cell_type": "code",
   "execution_count": 65,
   "id": "640cdb4a-0aaa-440a-a449-59f68aeeb586",
   "metadata": {},
   "outputs": [
    {
     "data": {
      "text/plain": [
       "(0.9677951092255234, 0.9582399477626847)"
      ]
     },
     "execution_count": 65,
     "metadata": {},
     "output_type": "execute_result"
    }
   ],
   "source": [
    "mean_absolute_error(y_train, y_tr_pred), mean_absolute_error(y_test, y_te_pred)"
   ]
  },
  {
   "cell_type": "code",
   "execution_count": 66,
   "id": "1073f6eb-6b44-4d23-a816-7d0bc9c88bae",
   "metadata": {},
   "outputs": [
    {
     "data": {
      "text/plain": [
       "(1.4981188143724353, 1.4944992738380845)"
      ]
     },
     "execution_count": 66,
     "metadata": {},
     "output_type": "execute_result"
    }
   ],
   "source": [
    "mean_squared_error(y_train, y_tr_pred), mean_squared_error(y_test, y_te_pred)"
   ]
  },
  {
   "cell_type": "markdown",
   "id": "a8599d1e-b429-49ff-9ed2-a2f9bb3fbaef",
   "metadata": {},
   "source": [
    "### These results don't seem very different to when we used the median for imputing missing values. \n",
    "### Perhaps it doesn't make much difference here. \n",
    "### Maybe our overtraining dominates. Maybe other feature transformations, such as taking the log, would help. We could try with just a subset of features rather than using all of them as inputs.\n",
    "\n",
    "##### To perform the median/mean comparison, I copied and pasted a lot of code just to change the function for imputing missing values. It would make more sense to write a function that performed the sequence of steps:\n",
    "\n",
    "- impute missing values\n",
    "- scale the features\n",
    "- train a model\n",
    "- calculate model performance\n",
    "- But these are common steps and sklearn provides something much better than writing custom functions."
   ]
  },
  {
   "cell_type": "markdown",
   "id": "b0661220-c4f6-438d-81f6-1251acbd86d9",
   "metadata": {},
   "source": [
    "### Pipelines"
   ]
  },
  {
   "cell_type": "markdown",
   "id": "81d0ef07-85c0-4bad-9b51-c25583b1ba9f",
   "metadata": {},
   "source": [
    "One of the most important and useful components of sklearn is the pipeline. In place of panda's fillna DataFrame method, there is sklearn's SimpleImputer. \n",
    "\n",
    "Remember the first linear model above performed the steps:\n",
    "\n",
    "- replace missing values with the median for each feature\n",
    "- scale the data to zero mean and unit variance\n",
    "- train a linear regression model\n",
    "\n",
    "and all these steps were trained on the train split and then applied to the test split for assessment.\n",
    "\n",
    "The pipeline below defines exactly those same steps. Crucially, the resultant Pipeline object has a fit() method and a predict() method, just like the LinearRegression() object itself. Just as you might create a linear regression model and train it with .fit() and predict with .predict(), you can wrap the entire process of imputing and feature scaling and regression in a single object you can train with .fit() and predict with .predict(). And that's basically a pipeline: a model on steroids."
   ]
  },
  {
   "cell_type": "code",
   "execution_count": 67,
   "id": "39e0e150-69e4-4ae0-b089-cc2bed6c5622",
   "metadata": {},
   "outputs": [],
   "source": [
    "# Define the pipeline\n",
    "pipe = make_pipeline(\n",
    "    SimpleImputer(strategy='median'), \n",
    "    StandardScaler(), \n",
    "    LinearRegression()\n",
    ")"
   ]
  },
  {
   "cell_type": "code",
   "execution_count": 68,
   "id": "b01d7d23-3fe1-4861-aa4f-3668bd9808eb",
   "metadata": {},
   "outputs": [
    {
     "data": {
      "text/plain": [
       "sklearn.pipeline.Pipeline"
      ]
     },
     "execution_count": 68,
     "metadata": {},
     "output_type": "execute_result"
    }
   ],
   "source": [
    "type(pipe)"
   ]
  },
  {
   "cell_type": "code",
   "execution_count": 69,
   "id": "7b5dfe0a-ecc6-467d-8cc9-68a5b2c8f106",
   "metadata": {},
   "outputs": [
    {
     "data": {
      "text/plain": [
       "(True, True)"
      ]
     },
     "execution_count": 69,
     "metadata": {},
     "output_type": "execute_result"
    }
   ],
   "source": [
    "hasattr(pipe, 'fit'), hasattr(pipe, 'predict')"
   ]
  },
  {
   "cell_type": "code",
   "execution_count": 70,
   "id": "bfbb52a4-a99e-4330-a962-504e8fd00351",
   "metadata": {},
   "outputs": [
    {
     "data": {
      "text/plain": [
       "Pipeline(steps=[('simpleimputer', SimpleImputer(strategy='median')),\n",
       "                ('standardscaler', StandardScaler()),\n",
       "                ('linearregression', LinearRegression())])"
      ]
     },
     "execution_count": 70,
     "metadata": {},
     "output_type": "execute_result"
    }
   ],
   "source": [
    "#Call the pipe's `fit()` method with `X_train` and `y_train` as arguments\n",
    "pipe.fit(X_train, y_train)"
   ]
  },
  {
   "cell_type": "code",
   "execution_count": 71,
   "id": "8f0a01e7-0f81-4b90-a90c-3957bfc86cab",
   "metadata": {},
   "outputs": [],
   "source": [
    "# Make predictions on the train and test sets\n",
    "y_tr_pred = pipe.predict(X_train)\n",
    "y_te_pred = pipe.predict(X_test)"
   ]
  },
  {
   "cell_type": "code",
   "execution_count": 72,
   "id": "ea9b8516-525a-4b09-9b45-30bee86ed88e",
   "metadata": {},
   "outputs": [
    {
     "data": {
      "text/plain": [
       "(0.9080994846901665, 0.9086142381587717)"
      ]
     },
     "execution_count": 72,
     "metadata": {},
     "output_type": "execute_result"
    }
   ],
   "source": [
    "# Assess performance\n",
    "r2_score(y_train, y_tr_pred), r2_score(y_test, y_te_pred)"
   ]
  },
  {
   "cell_type": "code",
   "execution_count": 73,
   "id": "09e318df-40b6-4804-aa1f-5fd244a8ae18",
   "metadata": {},
   "outputs": [
    {
     "data": {
      "text/plain": [
       "(0.9080994846901665, 0.9086142381587717)"
      ]
     },
     "execution_count": 73,
     "metadata": {},
     "output_type": "execute_result"
    }
   ],
   "source": [
    "median_r2"
   ]
  },
  {
   "cell_type": "code",
   "execution_count": 74,
   "id": "e9c43321-fdad-4919-b689-112dc8cc92ba",
   "metadata": {},
   "outputs": [
    {
     "data": {
      "text/plain": [
       "(0.9677951092255234, 0.9582399477626847)"
      ]
     },
     "execution_count": 74,
     "metadata": {},
     "output_type": "execute_result"
    }
   ],
   "source": [
    "mean_absolute_error(y_train, y_tr_pred), mean_absolute_error(y_test, y_te_pred)"
   ]
  },
  {
   "cell_type": "code",
   "execution_count": 75,
   "id": "579229ff-c943-4216-ba3d-558968126119",
   "metadata": {},
   "outputs": [
    {
     "data": {
      "text/plain": [
       "(0.9677951092255234, 0.9582399477626847)"
      ]
     },
     "execution_count": 75,
     "metadata": {},
     "output_type": "execute_result"
    },
    {
     "data": {
      "text/plain": [
       "(1.4981188143724353, 1.4944992738380845)"
      ]
     },
     "execution_count": 75,
     "metadata": {},
     "output_type": "execute_result"
    },
    {
     "data": {
      "text/plain": [
       "(1.4981188143724353, 1.4944992738380845)"
      ]
     },
     "execution_count": 75,
     "metadata": {},
     "output_type": "execute_result"
    }
   ],
   "source": [
    "#Compare with earlier results:\n",
    "median_mae;\n",
    "mean_squared_error(y_train, y_tr_pred), mean_squared_error(y_test, y_te_pred);\n",
    "median_mse"
   ]
  },
  {
   "cell_type": "markdown",
   "id": "93b24cf5-233a-40a5-994a-29c35c011f20",
   "metadata": {},
   "source": [
    "### Refining The Linear Model"
   ]
  },
  {
   "cell_type": "markdown",
   "id": "a40cf21a-9648-4f8e-83af-2559de445a94",
   "metadata": {
    "tags": []
   },
   "source": [
    "### I suspect the model is overfitting. This is no real surprise given the number of features I blindly used. It's likely a judicious subset of features would generalize better. \n",
    "### sklearn has a number of feature selection functions available. The one I'll use here is SelectKBest which, as you might guess, selects the k best features. \n",
    "### f_regression is just the score function we're using because we're performing regression. It's important to choose an appropriate one for your machine learning task."
   ]
  },
  {
   "cell_type": "code",
   "execution_count": 76,
   "id": "abf16094-70a4-48f0-b2e2-6b795b491b91",
   "metadata": {},
   "outputs": [],
   "source": [
    "#Define the pipeline\n",
    "#Add `SelectKBest` as a step in the pipeline between `StandardScaler()` and `LinearRegression()`\n",
    "#Don't forget to tell it to use `f_regression` as its score function\n",
    "pipe = make_pipeline(\n",
    "    SimpleImputer(strategy='median'), \n",
    "    StandardScaler(),\n",
    "    SelectKBest(f_regression),\n",
    "    LinearRegression()\n",
    ")"
   ]
  },
  {
   "cell_type": "code",
   "execution_count": 77,
   "id": "7c6d1e7b-4c4a-4862-9baf-ff66ca2e5f59",
   "metadata": {},
   "outputs": [
    {
     "name": "stderr",
     "output_type": "stream",
     "text": [
      "C:\\Users\\mohamed.ziane\\Anaconda3\\lib\\site-packages\\sklearn\\feature_selection\\_univariate_selection.py:302: RuntimeWarning: invalid value encountered in true_divide\n",
      "  corr /= X_norms\n"
     ]
    },
    {
     "data": {
      "text/plain": [
       "Pipeline(steps=[('simpleimputer', SimpleImputer(strategy='median')),\n",
       "                ('standardscaler', StandardScaler()),\n",
       "                ('selectkbest',\n",
       "                 SelectKBest(score_func=<function f_regression at 0x00000242264A30D0>)),\n",
       "                ('linearregression', LinearRegression())])"
      ]
     },
     "execution_count": 77,
     "metadata": {},
     "output_type": "execute_result"
    }
   ],
   "source": [
    "pipe.fit(X_train, y_train)"
   ]
  },
  {
   "cell_type": "code",
   "execution_count": 78,
   "id": "de40d4f6-98fa-48c0-9527-20bc10cbf0fd",
   "metadata": {},
   "outputs": [],
   "source": [
    "y_tr_pred = pipe.predict(X_train)\n",
    "y_te_pred = pipe.predict(X_test)"
   ]
  },
  {
   "cell_type": "code",
   "execution_count": 79,
   "id": "33a85677-2b1e-40fb-bff8-157453660a13",
   "metadata": {},
   "outputs": [
    {
     "data": {
      "text/plain": [
       "(0.9002683718363422, 0.9010252948152524)"
      ]
     },
     "execution_count": 79,
     "metadata": {},
     "output_type": "execute_result"
    }
   ],
   "source": [
    "r2_score(y_train, y_tr_pred), r2_score(y_test, y_te_pred)"
   ]
  },
  {
   "cell_type": "code",
   "execution_count": 80,
   "id": "5a7cf033-3d2b-407e-9440-5a38ef353a5c",
   "metadata": {},
   "outputs": [],
   "source": [
    "#Modify the `SelectKBest` step to use a value of 15 for k\n",
    "pipe15 = make_pipeline(\n",
    "    SimpleImputer(strategy='median'), \n",
    "    StandardScaler(),\n",
    "    SelectKBest(f_regression, k=15),\n",
    "    LinearRegression()\n",
    ")"
   ]
  },
  {
   "cell_type": "code",
   "execution_count": 81,
   "id": "284b5f18-7493-4d7b-9652-b930a3236985",
   "metadata": {},
   "outputs": [
    {
     "name": "stderr",
     "output_type": "stream",
     "text": [
      "C:\\Users\\mohamed.ziane\\Anaconda3\\lib\\site-packages\\sklearn\\feature_selection\\_univariate_selection.py:302: RuntimeWarning: invalid value encountered in true_divide\n",
      "  corr /= X_norms\n"
     ]
    },
    {
     "data": {
      "text/plain": [
       "Pipeline(steps=[('simpleimputer', SimpleImputer(strategy='median')),\n",
       "                ('standardscaler', StandardScaler()),\n",
       "                ('selectkbest',\n",
       "                 SelectKBest(k=15,\n",
       "                             score_func=<function f_regression at 0x00000242264A30D0>)),\n",
       "                ('linearregression', LinearRegression())])"
      ]
     },
     "execution_count": 81,
     "metadata": {},
     "output_type": "execute_result"
    }
   ],
   "source": [
    "pipe15.fit(X_train, y_train)"
   ]
  },
  {
   "cell_type": "code",
   "execution_count": 82,
   "id": "db82ee7a-174a-47ee-b6a2-02177e4090e6",
   "metadata": {},
   "outputs": [],
   "source": [
    "y_tr_pred = pipe15.predict(X_train)\n",
    "y_te_pred = pipe15.predict(X_test)"
   ]
  },
  {
   "cell_type": "code",
   "execution_count": 83,
   "id": "419328bb-6d59-43b2-a70b-d7c592466b2e",
   "metadata": {},
   "outputs": [
    {
     "data": {
      "text/plain": [
       "(0.9076305206597384, 0.9085149032404496)"
      ]
     },
     "execution_count": 83,
     "metadata": {},
     "output_type": "execute_result"
    }
   ],
   "source": [
    "r2_score(y_train, y_tr_pred), r2_score(y_test, y_te_pred)"
   ]
  },
  {
   "cell_type": "code",
   "execution_count": 84,
   "id": "dee2ead9-b9f6-494a-9740-abe4a397cd98",
   "metadata": {},
   "outputs": [
    {
     "data": {
      "text/plain": [
       "(0.9698170046525842, 0.9599999004444679)"
      ]
     },
     "execution_count": 84,
     "metadata": {},
     "output_type": "execute_result"
    }
   ],
   "source": [
    "mean_absolute_error(y_train, y_tr_pred), mean_absolute_error(y_test, y_te_pred)"
   ]
  },
  {
   "cell_type": "markdown",
   "id": "4866b382-31a9-4e61-a2e3-1340f670a209",
   "metadata": {},
   "source": [
    "### Assessing performance using cross-validation"
   ]
  },
  {
   "cell_type": "code",
   "execution_count": 85,
   "id": "a17349eb-2ad3-4adf-a5aa-49d84a9b4d2a",
   "metadata": {},
   "outputs": [
    {
     "name": "stderr",
     "output_type": "stream",
     "text": [
      "C:\\Users\\mohamed.ziane\\Anaconda3\\lib\\site-packages\\sklearn\\feature_selection\\_univariate_selection.py:302: RuntimeWarning: invalid value encountered in true_divide\n",
      "  corr /= X_norms\n",
      "C:\\Users\\mohamed.ziane\\Anaconda3\\lib\\site-packages\\sklearn\\feature_selection\\_univariate_selection.py:302: RuntimeWarning: invalid value encountered in true_divide\n",
      "  corr /= X_norms\n",
      "C:\\Users\\mohamed.ziane\\Anaconda3\\lib\\site-packages\\sklearn\\feature_selection\\_univariate_selection.py:302: RuntimeWarning: invalid value encountered in true_divide\n",
      "  corr /= X_norms\n",
      "C:\\Users\\mohamed.ziane\\Anaconda3\\lib\\site-packages\\sklearn\\feature_selection\\_univariate_selection.py:302: RuntimeWarning: invalid value encountered in true_divide\n",
      "  corr /= X_norms\n",
      "C:\\Users\\mohamed.ziane\\Anaconda3\\lib\\site-packages\\sklearn\\feature_selection\\_univariate_selection.py:302: RuntimeWarning: invalid value encountered in true_divide\n",
      "  corr /= X_norms\n"
     ]
    }
   ],
   "source": [
    "cv_results = cross_validate(pipe15, X_train, y_train, cv=5)"
   ]
  },
  {
   "cell_type": "code",
   "execution_count": 86,
   "id": "7d6f8820-ab6b-46a7-8d5d-af957eb6103d",
   "metadata": {},
   "outputs": [
    {
     "data": {
      "text/plain": [
       "array([0.90628522, 0.9085296 , 0.90361411, 0.91074911, 0.90700526])"
      ]
     },
     "execution_count": 86,
     "metadata": {},
     "output_type": "execute_result"
    }
   ],
   "source": [
    "cv_scores = cv_results['test_score']\n",
    "cv_scores"
   ]
  },
  {
   "cell_type": "code",
   "execution_count": 87,
   "id": "7d5a31e3-29a8-4bdc-ba0f-f5e9452e8022",
   "metadata": {},
   "outputs": [
    {
     "data": {
      "text/plain": [
       "(0.9072366568203462, 0.0023702604955575628)"
      ]
     },
     "execution_count": 87,
     "metadata": {},
     "output_type": "execute_result"
    }
   ],
   "source": [
    "np.mean(cv_scores), np.std(cv_scores)"
   ]
  },
  {
   "cell_type": "code",
   "execution_count": 88,
   "id": "7be61330-ebad-465c-b832-b36d62b30d15",
   "metadata": {},
   "outputs": [
    {
     "data": {
      "text/plain": [
       "array([0.9 , 0.91])"
      ]
     },
     "execution_count": 88,
     "metadata": {},
     "output_type": "execute_result"
    }
   ],
   "source": [
    "np.round((np.mean(cv_scores) - 2 * np.std(cv_scores), np.mean(cv_scores) + 2 * np.std(cv_scores)), 2)"
   ]
  },
  {
   "cell_type": "markdown",
   "id": "d1167ca7-8b39-48fd-bcf3-5a3baf62bbb9",
   "metadata": {},
   "source": [
    "### Hyperparameter search using GridSearchCV"
   ]
  },
  {
   "cell_type": "markdown",
   "id": "a0a8b2ea-6b4c-47de-a257-030e3203f6fc",
   "metadata": {},
   "source": [
    "Pulling the above together, we have a pipeline that\n",
    "- imputes missing values\n",
    "- scales the data\n",
    "- selects the k best features\n",
    "- trains a linear regression model\n",
    "- a technique (cross-validation) for estimating model performance\n",
    "\n",
    "Now we want to use cross-validation for multiple values of k and use cross-validation to pick the value of k that gives the best performance. make_pipeline automatically names each step as the lowercase name of the step and the parameters of the step are then accessed by appending a double underscore followed by the parameter name. You know the name of the step will be 'selectkbest' and you know the parameter is 'k'."
   ]
  },
  {
   "cell_type": "code",
   "execution_count": 89,
   "id": "cd032686-ca59-4371-aaec-7442fbdf9a68",
   "metadata": {},
   "outputs": [
    {
     "data": {
      "text/plain": [
       "dict_keys(['memory', 'steps', 'verbose', 'simpleimputer', 'standardscaler', 'selectkbest', 'linearregression', 'simpleimputer__add_indicator', 'simpleimputer__copy', 'simpleimputer__fill_value', 'simpleimputer__missing_values', 'simpleimputer__strategy', 'simpleimputer__verbose', 'standardscaler__copy', 'standardscaler__with_mean', 'standardscaler__with_std', 'selectkbest__k', 'selectkbest__score_func', 'linearregression__copy_X', 'linearregression__fit_intercept', 'linearregression__n_jobs', 'linearregression__normalize', 'linearregression__positive'])"
      ]
     },
     "execution_count": 89,
     "metadata": {},
     "output_type": "execute_result"
    }
   ],
   "source": [
    "#Call `pipe`'s `get_params()` method to get a dict of available parameters and print their names\n",
    "#using dict's `keys()` method\n",
    "pipe.get_params().keys()"
   ]
  },
  {
   "cell_type": "code",
   "execution_count": 90,
   "id": "4b172ef1-ac10-4560-89c9-30da9ca56467",
   "metadata": {},
   "outputs": [],
   "source": [
    "k = [k+1 for k in range(len(X_train.columns))]\n",
    "grid_params = {'selectkbest__k': k}"
   ]
  },
  {
   "cell_type": "markdown",
   "id": "45898fb0-14ba-4900-ac2e-7c99af6149d8",
   "metadata": {},
   "source": [
    "Now we have a range of k to investigate. Is 1 feature best? 2? 3? 4? All of them? We could write a for loop and iterate over each possible value, doing all the housekeeping oyurselves to track the best value of k. But this is a common task so there's a built in function in sklearn. This is GridSearchCV. This takes the pipeline object, in fact it takes anything with a .fit() and .predict() method. In simple cases with no feature selection or imputation or feature scaling etc. you may see the classifier or regressor object itself directly passed into GridSearchCV. The other key input is the parameters and values to search over. Optional parameters include the cross-validation strategy and number of CPUs to use."
   ]
  },
  {
   "cell_type": "code",
   "execution_count": 91,
   "id": "c5b46097-dcc4-4e98-a3a8-fa53d0293753",
   "metadata": {},
   "outputs": [],
   "source": [
    "lr_grid_cv = GridSearchCV(pipe, param_grid=grid_params, cv=5, n_jobs=-1)"
   ]
  },
  {
   "cell_type": "code",
   "execution_count": 95,
   "id": "31f6f070-6769-4258-9842-4db140c167d5",
   "metadata": {},
   "outputs": [
    {
     "name": "stderr",
     "output_type": "stream",
     "text": [
      "C:\\Users\\mohamed.ziane\\Anaconda3\\lib\\site-packages\\sklearn\\feature_selection\\_univariate_selection.py:302: RuntimeWarning: invalid value encountered in true_divide\n",
      "  corr /= X_norms\n"
     ]
    },
    {
     "data": {
      "text/plain": [
       "GridSearchCV(cv=5,\n",
       "             estimator=Pipeline(steps=[('simpleimputer',\n",
       "                                        SimpleImputer(strategy='median')),\n",
       "                                       ('standardscaler', StandardScaler()),\n",
       "                                       ('selectkbest',\n",
       "                                        SelectKBest(score_func=<function f_regression at 0x00000242264A30D0>)),\n",
       "                                       ('linearregression',\n",
       "                                        LinearRegression())]),\n",
       "             n_jobs=-1,\n",
       "             param_grid={'selectkbest__k': [1, 2, 3, 4, 5, 6, 7, 8, 9, 10, 11,\n",
       "                                            12, 13, 14, 15, 16, 17, 18, 19, 20,\n",
       "                                            21, 22, 23]})"
      ]
     },
     "execution_count": 95,
     "metadata": {},
     "output_type": "execute_result"
    }
   ],
   "source": [
    "lr_grid_cv.fit(X_train, y_train)"
   ]
  },
  {
   "cell_type": "code",
   "execution_count": 96,
   "id": "310c7e46-0275-4892-8ad0-e281b6a2f680",
   "metadata": {},
   "outputs": [],
   "source": [
    "score_mean = lr_grid_cv.cv_results_['mean_test_score']\n",
    "score_std = lr_grid_cv.cv_results_['std_test_score']\n",
    "cv_k = [k for k in lr_grid_cv.cv_results_['param_selectkbest__k']]"
   ]
  },
  {
   "cell_type": "code",
   "execution_count": 97,
   "id": "037aa885-9ad5-47e3-b2f8-a48634394c2a",
   "metadata": {},
   "outputs": [
    {
     "data": {
      "text/plain": [
       "{'selectkbest__k': 22}"
      ]
     },
     "execution_count": 97,
     "metadata": {},
     "output_type": "execute_result"
    }
   ],
   "source": [
    "#Print the `best_params_` attribute of `lr_grid_cv`\n",
    "lr_grid_cv.best_params_"
   ]
  },
  {
   "cell_type": "code",
   "execution_count": 98,
   "id": "9d2a3948-633e-45fd-9ed0-f7c0d285d884",
   "metadata": {},
   "outputs": [
    {
     "data": {
      "image/png": "[encoded data removed]",
      "text/plain": [
       "<Figure size 720x360 with 1 Axes>"
      ]
     },
     "metadata": {
      "needs_background": "light"
     },
     "output_type": "display_data"
    }
   ],
   "source": [
    "#Assign the value of k from the above dict of `best_params_` and assign it to `best_k`\n",
    "best_k = lr_grid_cv.best_params_['selectkbest__k']\n",
    "plt.subplots(figsize=(10, 5))\n",
    "plt.errorbar(cv_k, score_mean, yerr=score_std)\n",
    "plt.axvline(x=best_k, c='r', ls='--', alpha=.5)\n",
    "plt.xlabel('k')\n",
    "plt.ylabel('CV score (r-squared)')\n",
    "plt.title('Pipeline mean CV score (error bars +/- 1sd)');"
   ]
  },
  {
   "cell_type": "markdown",
   "id": "cb2874e6-27a7-42dd-9dd7-798588bb755d",
   "metadata": {},
   "source": [
    "The above suggests a good value for k is 22. As we increasingly overfit, expect greater swings in performance as different points move in and out of the train/test folds."
   ]
  },
  {
   "cell_type": "code",
   "execution_count": 99,
   "id": "9a156c90-53bc-41bc-a598-090fa58c72c9",
   "metadata": {},
   "outputs": [],
   "source": [
    "selected = lr_grid_cv.best_estimator_.named_steps.selectkbest.get_support()"
   ]
  },
  {
   "cell_type": "code",
   "execution_count": 100,
   "id": "9793e042-9ecc-4b7d-b1f6-3f520c6d5b1f",
   "metadata": {},
   "outputs": [
    {
     "data": {
      "text/plain": [
       "N_Soil_Temperature_10cm                                                                  2.571654\n",
       "N_Shortwave_Radiation                                                                    1.239978\n",
       "Methane emissions (kt of CO2 equivalent)_new                                             0.523224\n",
       "Urban population_new                                                                     0.338059\n",
       "CO2 emissions from liquid fuel consumption (kt)_new                                      0.282260\n",
       "N_Precipitation_Total                                                                    0.097882\n",
       "Fuel exports (% of merchandise exports)_new                                              0.094561\n",
       "N_Relative_Humidity_m                                                                    0.092248\n",
       "Agricultural land (sq. km)_new                                                           0.026030\n",
       "N_Wind_Direction_Dominant_10m                                                            0.024455\n",
       "Population growth (annual %)_new                                                         0.006296\n",
       "Fuel imports (% of merchandise imports)_new                                              0.003195\n",
       "Ores and metals exports (% of merchandise exports)_new                                  -0.024973\n",
       "Foreign direct investment, net inflows (% of GDP)_new                                   -0.025236\n",
       "Population in urban agglomerations of more than 1 million (% of total population)_new   -0.032015\n",
       "N_Sunshine_Duration                                                                     -0.035529\n",
       "Nitrous oxide emissions in energy sector (thousand metric tons of CO2 equivalent)_new   -0.048941\n",
       "N_Cloud_Cover_Total                                                                     -0.158402\n",
       "N_Mean_Sea_Level_Pressure                                                               -0.568010\n",
       "N_Wind_Speed_10m                                                                        -0.591179\n",
       "Total greenhouse gas emissions (kt of CO2 equivalent)_new                               -0.660962\n",
       "N_Soil_Moisture_10cm                                                                    -0.684500\n",
       "dtype: float64"
      ]
     },
     "execution_count": 100,
     "metadata": {},
     "output_type": "execute_result"
    }
   ],
   "source": [
    "#Get the linear model coefficients from the `coef_` attribute and store in `coefs`,\n",
    "#get the matching feature names from the column names of the dataframe,\n",
    "#and display the results as a pandas Series with `coefs` as the values and `features` as the index,\n",
    "#sorting the values in descending order\n",
    "coefs = lr_grid_cv.best_estimator_.named_steps.linearregression.coef_\n",
    "features = X_train.columns[selected]\n",
    "pd.Series(coefs, index=features).sort_values(ascending=False)"
   ]
  },
  {
   "cell_type": "markdown",
   "id": "25f4cf53-f114-4b79-8bc9-d87291357349",
   "metadata": {},
   "source": [
    "These results suggest that Soil Temperature, Shortwave Radiation, Methane Emissions, Urban Population growth, CO2 emissions are the biggest positive features. \n",
    "This makes intuitive sense and is consistent with what we saw during the EDA work."
   ]
  },
  {
   "cell_type": "markdown",
   "id": "86b1ce0c-3743-444f-9edc-975ed8bfd5c3",
   "metadata": {},
   "source": [
    "### Random Forest Model"
   ]
  },
  {
   "cell_type": "markdown",
   "id": "468489be-40ff-439e-87b2-243552e7a7e6",
   "metadata": {},
   "source": [
    "A model that can work very well in a lot of cases is the random forest. For regression, this is provided by sklearn's RandomForestRegressor class.\n",
    "\n",
    "Time to stop the bad practice of repeatedly checking performance on the test split. Instead, let's go straight from defining the pipeline to assessing performance using cross-validation. cross_validate will perform the fitting as part of the process. This uses the default settings for the random forest so you'll then proceed to investigate some different hyperparameters."
   ]
  },
  {
   "cell_type": "code",
   "execution_count": 101,
   "id": "a2f25be4-afcc-4feb-b368-8aaabe971e23",
   "metadata": {},
   "outputs": [],
   "source": [
    "#Define a pipeline comprising the steps:\n",
    "#SimpleImputer() with a strategy of 'median'\n",
    "#StandardScaler(),\n",
    "#and then RandomForestRegressor() with a random state of 47\n",
    "RF_pipe = make_pipeline(\n",
    "    SimpleImputer(strategy='median'),\n",
    "    StandardScaler(),\n",
    "    RandomForestRegressor(random_state=47)\n",
    ")"
   ]
  },
  {
   "cell_type": "code",
   "execution_count": 102,
   "id": "f9791a35-2f48-4ecf-bb32-7817007191da",
   "metadata": {},
   "outputs": [],
   "source": [
    "#Call `cross_validate` to estimate the pipeline's performance.\n",
    "#Pass it the random forest pipe object, `X_train` and `y_train`,\n",
    "#and get it to use 5-fold cross-validation\n",
    "rf_default_cv_results = cross_validate(RF_pipe, X_train, y_train, cv=5)"
   ]
  },
  {
   "cell_type": "code",
   "execution_count": 103,
   "id": "176ccedc-749d-44b4-bde5-c7b4a09236ea",
   "metadata": {},
   "outputs": [
    {
     "data": {
      "text/plain": [
       "array([0.92670934, 0.92662959, 0.9220537 , 0.93148061, 0.92718681])"
      ]
     },
     "execution_count": 103,
     "metadata": {},
     "output_type": "execute_result"
    }
   ],
   "source": [
    "rf_cv_scores = rf_default_cv_results['test_score']\n",
    "rf_cv_scores"
   ]
  },
  {
   "cell_type": "code",
   "execution_count": 104,
   "id": "f1b952b2-dab0-4546-ba22-ba69da22f20f",
   "metadata": {},
   "outputs": [
    {
     "data": {
      "text/plain": [
       "(0.9268120086296578, 0.002987358753579629)"
      ]
     },
     "execution_count": 104,
     "metadata": {},
     "output_type": "execute_result"
    }
   ],
   "source": [
    "np.mean(rf_cv_scores), np.std(rf_cv_scores)"
   ]
  },
  {
   "cell_type": "markdown",
   "id": "23a99535-9c6c-42f1-9651-362fe265edd7",
   "metadata": {},
   "source": [
    "### Hyperparameter search using GridSearchCV"
   ]
  },
  {
   "cell_type": "markdown",
   "id": "70c12660-11d9-4760-9bc7-7b0d46e46cce",
   "metadata": {},
   "source": [
    "Random forest has a number of hyperparameters that can be explored, however here we'll limit ourselves to exploring some different values for the number of trees. \n",
    "We'll try it with and without feature scaling, and try both the mean and median as strategies for imputing missing values.m"
   ]
  },
  {
   "cell_type": "code",
   "execution_count": 105,
   "id": "971c7b7f-bece-4d9e-b537-ab9f1454268c",
   "metadata": {},
   "outputs": [
    {
     "data": {
      "text/plain": [
       "{'randomforestregressor__n_estimators': [10,\n",
       "  12,\n",
       "  16,\n",
       "  20,\n",
       "  26,\n",
       "  33,\n",
       "  42,\n",
       "  54,\n",
       "  69,\n",
       "  88,\n",
       "  112,\n",
       "  143,\n",
       "  183,\n",
       "  233,\n",
       "  297,\n",
       "  379,\n",
       "  483,\n",
       "  615,\n",
       "  784,\n",
       "  1000],\n",
       " 'standardscaler': [StandardScaler(), None],\n",
       " 'simpleimputer__strategy': ['mean', 'median']}"
      ]
     },
     "execution_count": 105,
     "metadata": {},
     "output_type": "execute_result"
    }
   ],
   "source": [
    "n_est = [int(n) for n in np.logspace(start=1, stop=3, num=20)]\n",
    "grid_params = {\n",
    "        'randomforestregressor__n_estimators': n_est,\n",
    "        'standardscaler': [StandardScaler(), None],\n",
    "        'simpleimputer__strategy': ['mean', 'median']\n",
    "}\n",
    "grid_params"
   ]
  },
  {
   "cell_type": "code",
   "execution_count": 106,
   "id": "f06c5af5-b4fc-4e9b-9823-f5c5583b71b6",
   "metadata": {},
   "outputs": [],
   "source": [
    "#Call `GridSearchCV` with the random forest pipeline, passing in the above `grid_params`\n",
    "#dict for parameters to evaluate, 5-fold cross-validation, and all available CPU cores (if desired)\n",
    "rf_grid_cv = GridSearchCV(RF_pipe, param_grid=grid_params, cv=2, n_jobs=-1)"
   ]
  },
  {
   "cell_type": "code",
   "execution_count": 107,
   "id": "4f7a87a5-0bf3-4a0e-ba25-07452405c745",
   "metadata": {},
   "outputs": [
    {
     "data": {
      "text/plain": [
       "GridSearchCV(cv=2,\n",
       "             estimator=Pipeline(steps=[('simpleimputer',\n",
       "                                        SimpleImputer(strategy='median')),\n",
       "                                       ('standardscaler', StandardScaler()),\n",
       "                                       ('randomforestregressor',\n",
       "                                        RandomForestRegressor(random_state=47))]),\n",
       "             n_jobs=-1,\n",
       "             param_grid={'randomforestregressor__n_estimators': [10, 12, 16, 20,\n",
       "                                                                 26, 33, 42, 54,\n",
       "                                                                 69, 88, 112,\n",
       "                                                                 143, 183, 233,\n",
       "                                                                 297, 379, 483,\n",
       "                                                                 615, 784,\n",
       "                                                                 1000],\n",
       "                         'simpleimputer__strategy': ['mean', 'median'],\n",
       "                         'standardscaler': [StandardScaler(), None]})"
      ]
     },
     "execution_count": 107,
     "metadata": {},
     "output_type": "execute_result"
    }
   ],
   "source": [
    "#Now call the `GridSearchCV`'s `fit()` method with `X_train` and `y_train` as arguments\n",
    "#to actually start the grid search. This may take a minute or two.\n",
    "rf_grid_cv.fit(X_train, y_train)"
   ]
  },
  {
   "cell_type": "code",
   "execution_count": 108,
   "id": "75928185-d7f7-4130-8e22-19b1e03ce781",
   "metadata": {},
   "outputs": [
    {
     "data": {
      "text/plain": [
       "{'randomforestregressor__n_estimators': 1000,\n",
       " 'simpleimputer__strategy': 'mean',\n",
       " 'standardscaler': StandardScaler()}"
      ]
     },
     "execution_count": 108,
     "metadata": {},
     "output_type": "execute_result"
    }
   ],
   "source": [
    "#Print the best params (`best_params_` attribute) from the grid search\n",
    "rf_grid_cv.best_params_"
   ]
  },
  {
   "cell_type": "markdown",
   "id": "bb272aa7-bbb6-43b4-adf6-25562fd34ad9",
   "metadata": {},
   "source": [
    "It looks like imputing with the median helps, but scaling the features doesn't."
   ]
  },
  {
   "cell_type": "code",
   "execution_count": 109,
   "id": "9d87339c-7bdf-44e4-98a6-2b7297f91364",
   "metadata": {},
   "outputs": [
    {
     "data": {
      "text/plain": [
       "array([0.9281821 , 0.9277262 , 0.92218478, 0.93217211, 0.92823218])"
      ]
     },
     "execution_count": 109,
     "metadata": {},
     "output_type": "execute_result"
    }
   ],
   "source": [
    "rf_best_cv_results = cross_validate(rf_grid_cv.best_estimator_, X_train, y_train, cv=5)\n",
    "rf_best_scores = rf_best_cv_results['test_score']\n",
    "rf_best_scores"
   ]
  },
  {
   "cell_type": "code",
   "execution_count": 110,
   "id": "1b678cb1-2678-493a-addc-aa96a145ae96",
   "metadata": {},
   "outputs": [
    {
     "data": {
      "text/plain": [
       "(0.9276994735042317, 0.003191667812968548)"
      ]
     },
     "execution_count": 110,
     "metadata": {},
     "output_type": "execute_result"
    }
   ],
   "source": [
    "np.mean(rf_best_scores), np.std(rf_best_scores)"
   ]
  },
  {
   "cell_type": "markdown",
   "id": "62a22ef5-d096-444c-8ce4-a3d2879150b4",
   "metadata": {},
   "source": [
    "We've marginally improved upon the default CV results. Random forest has many more hyperparameters we could tune, but we won't dive into that here."
   ]
  },
  {
   "cell_type": "code",
   "execution_count": 111,
   "id": "7b4d50b6-586a-4909-8bf9-035f5dee23d6",
   "metadata": {},
   "outputs": [
    {
     "data": {
      "image/png": "[encoded data removed]",
      "text/plain": [
       "<Figure size 1296x288 with 1 Axes>"
      ]
     },
     "metadata": {
      "needs_background": "light"
     },
     "output_type": "display_data"
    }
   ],
   "source": [
    "#Plot a barplot of the random forest's feature importances,\n",
    "#assigning the `feature_importances_` attribute of \n",
    "#`rf_grid_cv.best_estimator_.named_steps.randomforestregressor` to the name `imps` to then\n",
    "#create a pandas Series object of the feature importances, with the index given by the\n",
    "#training data column names, sorting the values in descending order\n",
    "plt.subplots(figsize=(18, 4))\n",
    "imps = rf_grid_cv.best_estimator_.named_steps.randomforestregressor.feature_importances_\n",
    "rf_feat_imps = pd.Series(imps, index=X_train.columns).sort_values(ascending=False)\n",
    "plt.grid(True)\n",
    "ax = rf_feat_imps.plot(kind='bar', grid=True)\n",
    "ax.set_axisbelow(True) \n",
    "plt.xlabel('Features')\n",
    "plt.ylabel('Importance')\n",
    "plt.title('Best random forest regressor feature importances');"
   ]
  },
  {
   "cell_type": "markdown",
   "id": "7f24e897-e87c-4b41-ae8b-940a30b65d7e",
   "metadata": {},
   "source": [
    "These results suggest that Soil Temperature is the biggest positive features (in terms of consequences).\n",
    "Similarly, the first positive features in terms of possible causes are: CO2 emissions, but this is very small, so conclusion cannot be drawn for the temperature alone.\n",
    "This makes intuitive sense and is consistent with what we saw during the EDA work.\n",
    "Let' shave a look at the precipitation instead to see if we can isolate some more prominent causes."
   ]
  },
  {
   "cell_type": "markdown",
   "id": "3ef73899-f1b5-4f29-8a8a-8c7bfcb730e1",
   "metadata": {
    "jp-MarkdownHeadingCollapsed": true,
    "tags": []
   },
   "source": [
    "### Predicting Precipitations"
   ]
  },
  {
   "cell_type": "code",
   "execution_count": 114,
   "id": "5a7134a4-3433-4a13-92b5-3a48142c81b3",
   "metadata": {},
   "outputs": [],
   "source": [
    "# Let's define our features:\n",
    "features = ['CO2 emissions from liquid fuel consumption (kt)_new',\n",
    "       'Fuel exports (% of merchandise exports)_new',\n",
    "       'Fuel imports (% of merchandise imports)_new',\n",
    "       'Nitrous oxide emissions in energy sector (thousand metric tons of CO2 equivalent)_new',\n",
    "       'Ores and metals exports (% of merchandise exports)_new',\n",
    "       'Agricultural land (sq. km)_new',\n",
    "       'Foreign direct investment, net inflows (% of GDP)_new',\n",
    "       'Methane emissions (kt of CO2 equivalent)_new',\n",
    "       'Population growth (annual %)_new',\n",
    "       'Population in urban agglomerations of more than 1 million (% of total population)_new',\n",
    "       'Total greenhouse gas emissions (kt of CO2 equivalent)_new',\n",
    "       'Urban population_new', 'N_Temperature_m',\n",
    "       'N_Snowfall_Amount', 'N_Relative_Humidity_m', 'N_Wind_Speed_10m',\n",
    "       'N_Cloud_Cover_Total', 'N_Sunshine_Duration', 'N_Shortwave_Radiation',\n",
    "       'N_Mean_Sea_Level_Pressure', 'N_Soil_Temperature_10cm',\n",
    "       'N_Soil_Moisture_10cm', 'N_Wind_Direction_Dominant_10m']\n",
    "\n",
    "\n",
    "X = df_original[features]\n",
    "y = df_original['N_Precipitation_Total'] \n",
    "X_train, X_test, y_train, y_test = train_test_split(X, y, test_size=.2, random_state=1)"
   ]
  },
  {
   "cell_type": "code",
   "execution_count": 115,
   "id": "466caede-8dae-4fd1-a35a-da590ed9d590",
   "metadata": {},
   "outputs": [
    {
     "data": {
      "text/plain": [
       "0.03909144139304221"
      ]
     },
     "execution_count": 115,
     "metadata": {},
     "output_type": "execute_result"
    },
    {
     "data": {
      "text/plain": [
       "DummyRegressor()"
      ]
     },
     "execution_count": 115,
     "metadata": {},
     "output_type": "execute_result"
    },
    {
     "data": {
      "text/plain": [
       "array([[0.03909144]])"
      ]
     },
     "execution_count": 115,
     "metadata": {},
     "output_type": "execute_result"
    },
    {
     "data": {
      "text/plain": [
       "array([0.03909144, 0.03909144, 0.03909144, 0.03909144, 0.03909144])"
      ]
     },
     "execution_count": 115,
     "metadata": {},
     "output_type": "execute_result"
    },
    {
     "data": {
      "text/plain": [
       "array([0.03909144, 0.03909144, 0.03909144, 0.03909144, 0.03909144])"
      ]
     },
     "execution_count": 115,
     "metadata": {},
     "output_type": "execute_result"
    }
   ],
   "source": [
    "train_mean = y_train.mean()\n",
    "train_mean\n",
    "\n",
    "#Fit the dummy regressor on the training data\n",
    "#Let's call its `.fit()` method with `X_train` and `y_train` as arguments\n",
    "#Then print the object's `constant_` attribute and verify it's the same as the mean above\n",
    "dumb_reg = DummyRegressor(strategy='mean')\n",
    "dumb_reg.fit(X_train, y_train)\n",
    "dumb_reg.constant_\n",
    "\n",
    "y_tr_pred_ = train_mean * np.ones(len(y_train))\n",
    "y_tr_pred_[:5]\n",
    "\n",
    "#Remember the sklearn dummy regressor?\n",
    "y_tr_pred = dumb_reg.predict(X_train)\n",
    "y_tr_pred[:5]"
   ]
  },
  {
   "cell_type": "code",
   "execution_count": 116,
   "id": "55f951dc-6b36-4b31-9cd7-701d0d0d222b",
   "metadata": {},
   "outputs": [
    {
     "data": {
      "text/plain": [
       "0.0"
      ]
     },
     "execution_count": 116,
     "metadata": {},
     "output_type": "execute_result"
    },
    {
     "data": {
      "text/plain": [
       "-0.0038539724561390543"
      ]
     },
     "execution_count": 116,
     "metadata": {},
     "output_type": "execute_result"
    },
    {
     "data": {
      "text/plain": [
       "0.055517648166818735"
      ]
     },
     "execution_count": 116,
     "metadata": {},
     "output_type": "execute_result"
    },
    {
     "data": {
      "text/plain": [
       "0.014173746712984983"
      ]
     },
     "execution_count": 116,
     "metadata": {},
     "output_type": "execute_result"
    },
    {
     "data": {
      "text/plain": [
       "0.023840509800187017"
      ]
     },
     "execution_count": 116,
     "metadata": {},
     "output_type": "execute_result"
    },
    {
     "data": {
      "text/plain": [
       "array([0.11905355, 0.15440372])"
      ]
     },
     "execution_count": 116,
     "metadata": {},
     "output_type": "execute_result"
    },
    {
     "data": {
      "text/plain": [
       "CO2 emissions from liquid fuel consumption (kt)_new                                      8.072755e+03\n",
       "Fuel exports (% of merchandise exports)_new                                              7.487857e+00\n",
       "Fuel imports (% of merchandise imports)_new                                              1.980256e+01\n",
       "Nitrous oxide emissions in energy sector (thousand metric tons of CO2 equivalent)_new    7.921492e+02\n",
       "Ores and metals exports (% of merchandise exports)_new                                   2.966648e+00\n",
       "Agricultural land (sq. km)_new                                                           2.705325e+05\n",
       "Foreign direct investment, net inflows (% of GDP)_new                                    8.336035e-01\n",
       "Methane emissions (kt of CO2 equivalent)_new                                             2.240299e+04\n",
       "Population growth (annual %)_new                                                         2.863826e+00\n",
       "Population in urban agglomerations of more than 1 million (% of total population)_new    9.212751e+00\n",
       "Total greenhouse gas emissions (kt of CO2 equivalent)_new                                4.073241e+04\n",
       "Urban population_new                                                                     6.949825e+06\n",
       "N_Temperature_m                                                                          7.409305e+01\n",
       "N_Snowfall_Amount                                                                        0.000000e+00\n",
       "N_Relative_Humidity_m                                                                    9.200000e+01\n",
       "N_Wind_Speed_10m                                                                         1.012816e+01\n",
       "N_Cloud_Cover_Total                                                                      5.716667e+01\n",
       "N_Sunshine_Duration                                                                      3.746794e+02\n",
       "N_Shortwave_Radiation                                                                    4.791760e+03\n",
       "N_Mean_Sea_Level_Pressure                                                                1.017000e+03\n",
       "N_Soil_Temperature_10cm                                                                  7.687399e+01\n",
       "N_Soil_Moisture_10cm                                                                     2.050000e-01\n",
       "N_Wind_Direction_Dominant_10m                                                            9.393336e+01\n",
       "dtype: float64"
      ]
     },
     "execution_count": 116,
     "metadata": {},
     "output_type": "execute_result"
    }
   ],
   "source": [
    "r_squared(y_train, y_tr_pred)\n",
    "\n",
    "y_te_pred = train_mean * np.ones(len(y_test))\n",
    "r_squared(y_test, y_te_pred)\n",
    "\n",
    "\n",
    "mae(y_train, y_tr_pred)\n",
    "\n",
    "mse(y_train, y_tr_pred)\n",
    "\n",
    "mse(y_test, y_te_pred)\n",
    "\n",
    "np.sqrt([mse(y_train, y_tr_pred), mse(y_test, y_te_pred)])\n",
    "\n",
    "# These are the values we'll use to fill in any missing values\n",
    "X_defaults_median = X_train.median()\n",
    "X_defaults_median\n",
    "\n",
    "# Apply the imputation to both train and test splits\n",
    "#Call `X_train` and `X_test`'s `fillna()` method, passing `X_defaults_median` as the values to use\n",
    "#Assign the results to `X_tr` and `X_te`, respectively\n",
    "X_tr = X_train.fillna(X_defaults_median)\n",
    "X_te = X_test.fillna(X_defaults_median)"
   ]
  },
  {
   "cell_type": "code",
   "execution_count": 117,
   "id": "bc066e12-7adc-4fc4-9df3-f1d460c0636c",
   "metadata": {},
   "outputs": [
    {
     "data": {
      "text/plain": [
       "StandardScaler()"
      ]
     },
     "execution_count": 117,
     "metadata": {},
     "output_type": "execute_result"
    }
   ],
   "source": [
    "# Scale the data\n",
    "#Call the StandardScaler`s fit method on `X_tr` to fit the scaler\n",
    "#then use it's `transform()` method to apply the scaling to both the train and test split\n",
    "#data (`X_tr` and `X_te`), naming the results `X_tr_scaled` and `X_te_scaled`, respectively\n",
    "scaler = StandardScaler()\n",
    "scaler.fit(X_tr)\n",
    "X_tr_scaled = scaler.transform(X_tr)\n",
    "X_te_scaled = scaler.transform(X_te)\n",
    "\n",
    "# Train the model on the train split\n",
    "lm = LinearRegression().fit(X_tr_scaled, y_train)\n",
    "\n",
    "# Make predictions using the model on both train and test splits\n",
    "#Call the `predict()` method of the model (`lm`) on both the (scaled) train and test data\n",
    "#Assign the predictions to `y_tr_pred` and `y_te_pred`, respectively\n",
    "y_tr_pred = lm.predict(X_tr_scaled)\n",
    "y_te_pred = lm.predict(X_te_scaled)\n"
   ]
  },
  {
   "cell_type": "code",
   "execution_count": 118,
   "id": "90f57526-ce8b-427b-b2ce-e8249995cd02",
   "metadata": {},
   "outputs": [
    {
     "data": {
      "text/plain": [
       "(0.27623134484781287, 0.2643869853156644)"
      ]
     },
     "execution_count": 118,
     "metadata": {},
     "output_type": "execute_result"
    },
    {
     "data": {
      "text/plain": [
       "(0.05041165453167963, 0.055812969281834136)"
      ]
     },
     "execution_count": 118,
     "metadata": {},
     "output_type": "execute_result"
    },
    {
     "data": {
      "text/plain": [
       "(0.010258513596925142, 0.01747006015508245)"
      ]
     },
     "execution_count": 118,
     "metadata": {},
     "output_type": "execute_result"
    }
   ],
   "source": [
    "# r^2 - train, test\n",
    "median_r2 = r2_score(y_train, y_tr_pred), r2_score(y_test, y_te_pred)\n",
    "median_r2\n",
    "\n",
    "#Now calculate the mean absolute error scores using `sklearn`'s `mean_absolute_error` function\n",
    "# as we did above for R^2\n",
    "# MAE - train, test\n",
    "median_mae = mean_absolute_error(y_train, y_tr_pred), mean_absolute_error(y_test, y_te_pred)\n",
    "median_mae\n",
    "\n",
    "## Using this model, then, on average you'd expect to estimateof the temperature within 2.8 Deg F or so of the real Temperature. \n",
    "## This is better than the 3 Deg F from just guessing using the average. There may be something to this machine learning lark after all!\n",
    "\n",
    "#And also do the same using `sklearn`'s `mean_squared_error`\n",
    "# MSE - train, test\n",
    "median_mse = mean_squared_error(y_train, y_tr_pred), mean_squared_error(y_test, y_te_pred)\n",
    "median_mse"
   ]
  },
  {
   "cell_type": "code",
   "execution_count": 119,
   "id": "02b0a7dd-e143-4a8e-b708-174b37a4e188",
   "metadata": {},
   "outputs": [
    {
     "data": {
      "text/plain": [
       "CO2 emissions from liquid fuel consumption (kt)_new                                      8.005256e+03\n",
       "Fuel exports (% of merchandise exports)_new                                              7.981261e+00\n",
       "Fuel imports (% of merchandise imports)_new                                              1.977099e+01\n",
       "Nitrous oxide emissions in energy sector (thousand metric tons of CO2 equivalent)_new    8.745321e+02\n",
       "Ores and metals exports (% of merchandise exports)_new                                   3.023254e+00\n",
       "Agricultural land (sq. km)_new                                                           2.707447e+05\n",
       "Foreign direct investment, net inflows (% of GDP)_new                                    8.446157e-01\n",
       "Methane emissions (kt of CO2 equivalent)_new                                             2.720115e+04\n",
       "Population growth (annual %)_new                                                         2.862195e+00\n",
       "Population in urban agglomerations of more than 1 million (% of total population)_new    9.194948e+00\n",
       "Total greenhouse gas emissions (kt of CO2 equivalent)_new                                5.070525e+04\n",
       "Urban population_new                                                                     7.709886e+06\n",
       "N_Temperature_m                                                                          7.400915e+01\n",
       "N_Snowfall_Amount                                                                        0.000000e+00\n",
       "N_Relative_Humidity_m                                                                    9.056639e+01\n",
       "N_Wind_Speed_10m                                                                         1.006989e+01\n",
       "N_Cloud_Cover_Total                                                                      5.657121e+01\n",
       "N_Sunshine_Duration                                                                      3.639272e+02\n",
       "N_Shortwave_Radiation                                                                    4.718164e+03\n",
       "N_Mean_Sea_Level_Pressure                                                                1.017010e+03\n",
       "N_Soil_Temperature_10cm                                                                  7.727521e+01\n",
       "N_Soil_Moisture_10cm                                                                     2.080309e-01\n",
       "N_Wind_Direction_Dominant_10m                                                            9.227893e+01\n",
       "dtype: float64"
      ]
     },
     "execution_count": 119,
     "metadata": {},
     "output_type": "execute_result"
    },
    {
     "data": {
      "text/plain": [
       "StandardScaler()"
      ]
     },
     "execution_count": 119,
     "metadata": {},
     "output_type": "execute_result"
    }
   ],
   "source": [
    "#As we did for the median above, calculate mean values for imputing missing values\n",
    "# These are the values we'll use to fill in any missing values\n",
    "X_defaults_mean = X_train.mean()\n",
    "X_defaults_mean\n",
    "\n",
    "# Apply the imputation to both train and test splits\n",
    "X_tr = X_train.fillna(X_defaults_mean)\n",
    "X_te = X_test.fillna(X_defaults_mean)\n",
    "\n",
    "# Scale the data\n",
    "scaler = StandardScaler()\n",
    "scaler.fit(X_tr)\n",
    "X_tr_scaled = scaler.transform(X_tr)\n",
    "X_te_scaled = scaler.transform(X_te)\n"
   ]
  },
  {
   "cell_type": "code",
   "execution_count": 120,
   "id": "9e7c4d94-64a2-4c8b-9e84-423ec95f4688",
   "metadata": {},
   "outputs": [
    {
     "data": {
      "text/plain": [
       "(0.27623134484781287, 0.2643869853156644)"
      ]
     },
     "execution_count": 120,
     "metadata": {},
     "output_type": "execute_result"
    },
    {
     "data": {
      "text/plain": [
       "(0.05041165453167963, 0.055812969281834136)"
      ]
     },
     "execution_count": 120,
     "metadata": {},
     "output_type": "execute_result"
    },
    {
     "data": {
      "text/plain": [
       "(0.010258513596925142, 0.01747006015508245)"
      ]
     },
     "execution_count": 120,
     "metadata": {},
     "output_type": "execute_result"
    }
   ],
   "source": [
    "# Train the model on the train split\n",
    "lm = LinearRegression().fit(X_tr_scaled, y_train)\n",
    "\n",
    "#Make predictions using the model on both train and test splits\n",
    "y_tr_pred = lm.predict(X_tr_scaled)\n",
    "y_te_pred = lm.predict(X_te_scaled)\n",
    "\n",
    "#Assess model performance\n",
    "r2_score(y_train, y_tr_pred), r2_score(y_test, y_te_pred)\n",
    "\n",
    "mean_absolute_error(y_train, y_tr_pred), mean_absolute_error(y_test, y_te_pred)\n",
    "\n",
    "mean_squared_error(y_train, y_tr_pred), mean_squared_error(y_test, y_te_pred)"
   ]
  },
  {
   "cell_type": "code",
   "execution_count": 121,
   "id": "3b380eb3-ae15-449a-8d6a-ef8325bbd0fc",
   "metadata": {},
   "outputs": [
    {
     "data": {
      "text/plain": [
       "sklearn.pipeline.Pipeline"
      ]
     },
     "execution_count": 121,
     "metadata": {},
     "output_type": "execute_result"
    },
    {
     "data": {
      "text/plain": [
       "(True, True)"
      ]
     },
     "execution_count": 121,
     "metadata": {},
     "output_type": "execute_result"
    },
    {
     "data": {
      "text/plain": [
       "Pipeline(steps=[('simpleimputer', SimpleImputer(strategy='median')),\n",
       "                ('standardscaler', StandardScaler()),\n",
       "                ('linearregression', LinearRegression())])"
      ]
     },
     "execution_count": 121,
     "metadata": {},
     "output_type": "execute_result"
    }
   ],
   "source": [
    "# Define the pipeline\n",
    "pipe = make_pipeline(\n",
    "    SimpleImputer(strategy='median'), \n",
    "    StandardScaler(), \n",
    "    LinearRegression()\n",
    ")\n",
    "\n",
    "type(pipe)\n",
    "\n",
    "hasattr(pipe, 'fit'), hasattr(pipe, 'predict')\n",
    "\n",
    "#Call the pipe's `fit()` method with `X_train` and `y_train` as arguments\n",
    "pipe.fit(X_train, y_train)\n",
    "\n",
    "# Make predictions on the train and test sets\n",
    "y_tr_pred = pipe.predict(X_train)\n",
    "y_te_pred = pipe.predict(X_test)\n"
   ]
  },
  {
   "cell_type": "code",
   "execution_count": 122,
   "id": "79dc25fa-bb15-4834-92e9-3cc7c8e67157",
   "metadata": {},
   "outputs": [
    {
     "data": {
      "text/plain": [
       "(0.27623134484781287, 0.2643869853156644)"
      ]
     },
     "execution_count": 122,
     "metadata": {},
     "output_type": "execute_result"
    },
    {
     "data": {
      "text/plain": [
       "(0.27623134484781287, 0.2643869853156644)"
      ]
     },
     "execution_count": 122,
     "metadata": {},
     "output_type": "execute_result"
    },
    {
     "data": {
      "text/plain": [
       "(0.05041165453167963, 0.055812969281834136)"
      ]
     },
     "execution_count": 122,
     "metadata": {},
     "output_type": "execute_result"
    },
    {
     "data": {
      "text/plain": [
       "(0.05041165453167963, 0.055812969281834136)"
      ]
     },
     "execution_count": 122,
     "metadata": {},
     "output_type": "execute_result"
    },
    {
     "data": {
      "text/plain": [
       "(0.010258513596925142, 0.01747006015508245)"
      ]
     },
     "execution_count": 122,
     "metadata": {},
     "output_type": "execute_result"
    },
    {
     "data": {
      "text/plain": [
       "(0.010258513596925142, 0.01747006015508245)"
      ]
     },
     "execution_count": 122,
     "metadata": {},
     "output_type": "execute_result"
    }
   ],
   "source": [
    "# Assess performance\n",
    "r2_score(y_train, y_tr_pred), r2_score(y_test, y_te_pred)\n",
    "\n",
    "median_r2\n",
    "\n",
    "mean_absolute_error(y_train, y_tr_pred), mean_absolute_error(y_test, y_te_pred)\n",
    "\n",
    "#Compare with earlier results:\n",
    "median_mae;\n",
    "mean_squared_error(y_train, y_tr_pred), mean_squared_error(y_test, y_te_pred);\n",
    "median_mse\n"
   ]
  },
  {
   "cell_type": "code",
   "execution_count": 123,
   "id": "d6ea9183-4cee-4a2b-9ecd-8c9298b1ae48",
   "metadata": {},
   "outputs": [
    {
     "name": "stderr",
     "output_type": "stream",
     "text": [
      "C:\\Users\\mohamed.ziane\\Anaconda3\\lib\\site-packages\\sklearn\\feature_selection\\_univariate_selection.py:302: RuntimeWarning: invalid value encountered in true_divide\n",
      "  corr /= X_norms\n"
     ]
    },
    {
     "data": {
      "text/plain": [
       "Pipeline(steps=[('simpleimputer', SimpleImputer(strategy='median')),\n",
       "                ('standardscaler', StandardScaler()),\n",
       "                ('selectkbest',\n",
       "                 SelectKBest(score_func=<function f_regression at 0x00000242264A30D0>)),\n",
       "                ('linearregression', LinearRegression())])"
      ]
     },
     "execution_count": 123,
     "metadata": {},
     "output_type": "execute_result"
    },
    {
     "data": {
      "text/plain": [
       "(0.26971454839367326, 0.2600815239565103)"
      ]
     },
     "execution_count": 123,
     "metadata": {},
     "output_type": "execute_result"
    }
   ],
   "source": [
    "#Define the pipeline\n",
    "#Add `SelectKBest` as a step in the pipeline between `StandardScaler()` and `LinearRegression()`\n",
    "#Don't forget to tell it to use `f_regression` as its score function\n",
    "pipe = make_pipeline(\n",
    "    SimpleImputer(strategy='median'), \n",
    "    StandardScaler(),\n",
    "    SelectKBest(f_regression),\n",
    "    LinearRegression()\n",
    ")\n",
    "\n",
    "pipe.fit(X_train, y_train)\n",
    "\n",
    "y_tr_pred = pipe.predict(X_train)\n",
    "y_te_pred = pipe.predict(X_test)\n",
    "\n",
    "r2_score(y_train, y_tr_pred), r2_score(y_test, y_te_pred)\n",
    "\n",
    "#Modify the `SelectKBest` step to use a value of 15 for k\n",
    "pipe15 = make_pipeline(\n",
    "    SimpleImputer(strategy='median'), \n",
    "    StandardScaler(),\n",
    "    SelectKBest(f_regression, k=15),\n",
    "    LinearRegression()\n",
    ")"
   ]
  },
  {
   "cell_type": "code",
   "execution_count": 124,
   "id": "92e42bd4-8e68-4421-bb70-2faf4732b953",
   "metadata": {},
   "outputs": [
    {
     "name": "stderr",
     "output_type": "stream",
     "text": [
      "C:\\Users\\mohamed.ziane\\Anaconda3\\lib\\site-packages\\sklearn\\feature_selection\\_univariate_selection.py:302: RuntimeWarning: invalid value encountered in true_divide\n",
      "  corr /= X_norms\n"
     ]
    },
    {
     "data": {
      "text/plain": [
       "Pipeline(steps=[('simpleimputer', SimpleImputer(strategy='median')),\n",
       "                ('standardscaler', StandardScaler()),\n",
       "                ('selectkbest',\n",
       "                 SelectKBest(k=15,\n",
       "                             score_func=<function f_regression at 0x00000242264A30D0>)),\n",
       "                ('linearregression', LinearRegression())])"
      ]
     },
     "execution_count": 124,
     "metadata": {},
     "output_type": "execute_result"
    },
    {
     "data": {
      "text/plain": [
       "(0.272362012374051, 0.2623542400420823)"
      ]
     },
     "execution_count": 124,
     "metadata": {},
     "output_type": "execute_result"
    },
    {
     "data": {
      "text/plain": [
       "(0.0504447126275892, 0.05566378629959597)"
      ]
     },
     "execution_count": 124,
     "metadata": {},
     "output_type": "execute_result"
    },
    {
     "name": "stderr",
     "output_type": "stream",
     "text": [
      "C:\\Users\\mohamed.ziane\\Anaconda3\\lib\\site-packages\\sklearn\\feature_selection\\_univariate_selection.py:302: RuntimeWarning: invalid value encountered in true_divide\n",
      "  corr /= X_norms\n",
      "C:\\Users\\mohamed.ziane\\Anaconda3\\lib\\site-packages\\sklearn\\feature_selection\\_univariate_selection.py:302: RuntimeWarning: invalid value encountered in true_divide\n",
      "  corr /= X_norms\n",
      "C:\\Users\\mohamed.ziane\\Anaconda3\\lib\\site-packages\\sklearn\\feature_selection\\_univariate_selection.py:302: RuntimeWarning: invalid value encountered in true_divide\n",
      "  corr /= X_norms\n",
      "C:\\Users\\mohamed.ziane\\Anaconda3\\lib\\site-packages\\sklearn\\feature_selection\\_univariate_selection.py:302: RuntimeWarning: invalid value encountered in true_divide\n",
      "  corr /= X_norms\n",
      "C:\\Users\\mohamed.ziane\\Anaconda3\\lib\\site-packages\\sklearn\\feature_selection\\_univariate_selection.py:302: RuntimeWarning: invalid value encountered in true_divide\n",
      "  corr /= X_norms\n"
     ]
    },
    {
     "data": {
      "text/plain": [
       "array([0.29304121, 0.28559198, 0.26555054, 0.22801395, 0.27984219])"
      ]
     },
     "execution_count": 124,
     "metadata": {},
     "output_type": "execute_result"
    },
    {
     "data": {
      "text/plain": [
       "(0.27040797514896664, 0.023033322011648934)"
      ]
     },
     "execution_count": 124,
     "metadata": {},
     "output_type": "execute_result"
    },
    {
     "data": {
      "text/plain": [
       "array([0.22, 0.32])"
      ]
     },
     "execution_count": 124,
     "metadata": {},
     "output_type": "execute_result"
    }
   ],
   "source": [
    "pipe15.fit(X_train, y_train)\n",
    "\n",
    "y_tr_pred = pipe15.predict(X_train)\n",
    "y_te_pred = pipe15.predict(X_test)\n",
    "\n",
    "r2_score(y_train, y_tr_pred), r2_score(y_test, y_te_pred)\n",
    "\n",
    "mean_absolute_error(y_train, y_tr_pred), mean_absolute_error(y_test, y_te_pred)\n",
    "\n",
    "cv_results = cross_validate(pipe15, X_train, y_train, cv=5)\n",
    "\n",
    "cv_scores = cv_results['test_score']\n",
    "cv_scores\n",
    "\n",
    "np.mean(cv_scores), np.std(cv_scores)\n",
    "\n",
    "np.round((np.mean(cv_scores) - 2 * np.std(cv_scores), np.mean(cv_scores) + 2 * np.std(cv_scores)), 2)\n"
   ]
  },
  {
   "cell_type": "code",
   "execution_count": 126,
   "id": "06a9236e-cda5-4a72-90d7-a7517dbffafe",
   "metadata": {},
   "outputs": [
    {
     "data": {
      "text/plain": [
       "dict_keys(['memory', 'steps', 'verbose', 'simpleimputer', 'standardscaler', 'selectkbest', 'linearregression', 'simpleimputer__add_indicator', 'simpleimputer__copy', 'simpleimputer__fill_value', 'simpleimputer__missing_values', 'simpleimputer__strategy', 'simpleimputer__verbose', 'standardscaler__copy', 'standardscaler__with_mean', 'standardscaler__with_std', 'selectkbest__k', 'selectkbest__score_func', 'linearregression__copy_X', 'linearregression__fit_intercept', 'linearregression__n_jobs', 'linearregression__normalize', 'linearregression__positive'])"
      ]
     },
     "execution_count": 126,
     "metadata": {},
     "output_type": "execute_result"
    }
   ],
   "source": [
    "#Call `pipe`'s `get_params()` method to get a dict of available parameters and print their names\n",
    "#using dict's `keys()` method\n",
    "pipe.get_params().keys()\n",
    "\n",
    "k = [k+1 for k in range(len(X_train.columns))]\n",
    "grid_params = {'selectkbest__k': k}"
   ]
  },
  {
   "cell_type": "code",
   "execution_count": 127,
   "id": "685a31b2-14c2-40e1-a3d2-cec8db271a4f",
   "metadata": {},
   "outputs": [
    {
     "name": "stderr",
     "output_type": "stream",
     "text": [
      "C:\\Users\\mohamed.ziane\\Anaconda3\\lib\\site-packages\\sklearn\\feature_selection\\_univariate_selection.py:302: RuntimeWarning: invalid value encountered in true_divide\n",
      "  corr /= X_norms\n"
     ]
    },
    {
     "data": {
      "text/plain": [
       "GridSearchCV(cv=5,\n",
       "             estimator=Pipeline(steps=[('simpleimputer',\n",
       "                                        SimpleImputer(strategy='median')),\n",
       "                                       ('standardscaler', StandardScaler()),\n",
       "                                       ('selectkbest',\n",
       "                                        SelectKBest(score_func=<function f_regression at 0x00000242264A30D0>)),\n",
       "                                       ('linearregression',\n",
       "                                        LinearRegression())]),\n",
       "             n_jobs=-1,\n",
       "             param_grid={'selectkbest__k': [1, 2, 3, 4, 5, 6, 7, 8, 9, 10, 11,\n",
       "                                            12, 13, 14, 15, 16, 17, 18, 19, 20,\n",
       "                                            21, 22, 23]})"
      ]
     },
     "execution_count": 127,
     "metadata": {},
     "output_type": "execute_result"
    }
   ],
   "source": [
    "lr_grid_cv = GridSearchCV(pipe, param_grid=grid_params, cv=5, n_jobs=-1)\n",
    "\n",
    "lr_grid_cv.fit(X_train, y_train)\n",
    "\n",
    "score_mean = lr_grid_cv.cv_results_['mean_test_score']\n",
    "score_std = lr_grid_cv.cv_results_['std_test_score']\n",
    "cv_k = [k for k in lr_grid_cv.cv_results_['param_selectkbest__k']]"
   ]
  },
  {
   "cell_type": "code",
   "execution_count": 128,
   "id": "c5c24da6-33c5-4216-8d66-cb3af74eed09",
   "metadata": {},
   "outputs": [
    {
     "data": {
      "text/plain": [
       "{'selectkbest__k': 21}"
      ]
     },
     "execution_count": 128,
     "metadata": {},
     "output_type": "execute_result"
    }
   ],
   "source": [
    "#Print the `best_params_` attribute of `lr_grid_cv`\n",
    "lr_grid_cv.best_params_"
   ]
  },
  {
   "cell_type": "code",
   "execution_count": 129,
   "id": "89d10b34-b94b-44d2-9c49-79ee4f5872d7",
   "metadata": {},
   "outputs": [
    {
     "data": {
      "text/plain": [
       "(<Figure size 720x360 with 1 Axes>, <AxesSubplot:>)"
      ]
     },
     "execution_count": 129,
     "metadata": {},
     "output_type": "execute_result"
    },
    {
     "data": {
      "text/plain": [
       "<ErrorbarContainer object of 3 artists>"
      ]
     },
     "execution_count": 129,
     "metadata": {},
     "output_type": "execute_result"
    },
    {
     "data": {
      "text/plain": [
       "<matplotlib.lines.Line2D at 0x24211cc2700>"
      ]
     },
     "execution_count": 129,
     "metadata": {},
     "output_type": "execute_result"
    },
    {
     "data": {
      "text/plain": [
       "Text(0.5, 0, 'k')"
      ]
     },
     "execution_count": 129,
     "metadata": {},
     "output_type": "execute_result"
    },
    {
     "data": {
      "text/plain": [
       "Text(0, 0.5, 'CV score (r-squared)')"
      ]
     },
     "execution_count": 129,
     "metadata": {},
     "output_type": "execute_result"
    },
    {
     "data": {
      "text/plain": [
       "Text(0.5, 1.0, 'Pipeline mean CV score (error bars +/- 1sd)')"
      ]
     },
     "execution_count": 129,
     "metadata": {},
     "output_type": "execute_result"
    },
    {
     "data": {
      "text/plain": [
       "N_Soil_Moisture_10cm                                                                     0.037741\n",
       "N_Temperature_m                                                                          0.022745\n",
       "Total greenhouse gas emissions (kt of CO2 equivalent)_new                                0.021822\n",
       "CO2 emissions from liquid fuel consumption (kt)_new                                      0.007983\n",
       "N_Relative_Humidity_m                                                                    0.007095\n",
       "Urban population_new                                                                     0.003447\n",
       "Fuel exports (% of merchandise exports)_new                                              0.002963\n",
       "N_Wind_Direction_Dominant_10m                                                            0.001646\n",
       "Ores and metals exports (% of merchandise exports)_new                                   0.001627\n",
       "Population in urban agglomerations of more than 1 million (% of total population)_new    0.000610\n",
       "N_Wind_Speed_10m                                                                         0.000252\n",
       "Agricultural land (sq. km)_new                                                          -0.000284\n",
       "Foreign direct investment, net inflows (% of GDP)_new                                   -0.000299\n",
       "N_Soil_Temperature_10cm                                                                 -0.002779\n",
       "Fuel imports (% of merchandise imports)_new                                             -0.005551\n",
       "Nitrous oxide emissions in energy sector (thousand metric tons of CO2 equivalent)_new   -0.009660\n",
       "N_Cloud_Cover_Total                                                                     -0.016872\n",
       "N_Mean_Sea_Level_Pressure                                                               -0.020520\n",
       "N_Shortwave_Radiation                                                                   -0.024412\n",
       "Methane emissions (kt of CO2 equivalent)_new                                            -0.025173\n",
       "N_Sunshine_Duration                                                                     -0.040914\n",
       "dtype: float64"
      ]
     },
     "execution_count": 129,
     "metadata": {},
     "output_type": "execute_result"
    },
    {
     "data": {
      "image/png": "[encoded data removed]",
      "text/plain": [
       "<Figure size 720x360 with 1 Axes>"
      ]
     },
     "metadata": {
      "needs_background": "light"
     },
     "output_type": "display_data"
    }
   ],
   "source": [
    "#Assign the value of k from the above dict of `best_params_` and assign it to `best_k`\n",
    "best_k = lr_grid_cv.best_params_['selectkbest__k']\n",
    "plt.subplots(figsize=(10, 5))\n",
    "plt.errorbar(cv_k, score_mean, yerr=score_std)\n",
    "plt.axvline(x=best_k, c='r', ls='--', alpha=.5)\n",
    "plt.xlabel('k')\n",
    "plt.ylabel('CV score (r-squared)')\n",
    "plt.title('Pipeline mean CV score (error bars +/- 1sd)');\n",
    "\n",
    "selected = lr_grid_cv.best_estimator_.named_steps.selectkbest.get_support()\n",
    "\n",
    "#Get the linear model coefficients from the `coef_` attribute and store in `coefs`,\n",
    "#get the matching feature names from the column names of the dataframe,\n",
    "#and display the results as a pandas Series with `coefs` as the values and `features` as the index,\n",
    "#sorting the values in descending order\n",
    "coefs = lr_grid_cv.best_estimator_.named_steps.linearregression.coef_\n",
    "features = X_train.columns[selected]\n",
    "pd.Series(coefs, index=features).sort_values(ascending=False)"
   ]
  },
  {
   "cell_type": "markdown",
   "id": "87d919bf-8300-49d1-ba1d-3af2aaf2ecc4",
   "metadata": {},
   "source": [
    "### Random Forest Model"
   ]
  },
  {
   "cell_type": "code",
   "execution_count": 130,
   "id": "e2bbef2e-5a5b-47f5-a916-20abaaf15989",
   "metadata": {},
   "outputs": [
    {
     "data": {
      "text/plain": [
       "array([0.7262814 , 0.71137884, 0.60539171, 0.73832524, 0.71805526])"
      ]
     },
     "execution_count": 130,
     "metadata": {},
     "output_type": "execute_result"
    }
   ],
   "source": [
    "#Define a pipeline comprising the steps:\n",
    "#SimpleImputer() with a strategy of 'median'\n",
    "#StandardScaler(),\n",
    "#and then RandomForestRegressor() with a random state of 47\n",
    "RF_pipe = make_pipeline(\n",
    "    SimpleImputer(strategy='median'),\n",
    "    StandardScaler(),\n",
    "    RandomForestRegressor(random_state=47)\n",
    ")\n",
    "\n",
    "#Call `cross_validate` to estimate the pipeline's performance.\n",
    "#Pass it the random forest pipe object, `X_train` and `y_train`,\n",
    "#and get it to use 5-fold cross-validation\n",
    "rf_default_cv_results = cross_validate(RF_pipe, X_train, y_train, cv=5)\n",
    "\n",
    "rf_cv_scores = rf_default_cv_results['test_score']\n",
    "rf_cv_scores"
   ]
  },
  {
   "cell_type": "code",
   "execution_count": 131,
   "id": "d554368a-d939-4ecd-8eca-cb23d8c1bc68",
   "metadata": {},
   "outputs": [
    {
     "data": {
      "text/plain": [
       "(0.6998864905393866, 0.048095051368703505)"
      ]
     },
     "execution_count": 131,
     "metadata": {},
     "output_type": "execute_result"
    }
   ],
   "source": [
    "np.mean(rf_cv_scores), np.std(rf_cv_scores)\n"
   ]
  },
  {
   "cell_type": "markdown",
   "id": "3418d68f-27ca-46c4-9cce-a7148f867039",
   "metadata": {},
   "source": [
    "### Hyperparameter search using GridSearchCV"
   ]
  },
  {
   "cell_type": "code",
   "execution_count": 132,
   "id": "dca448b6-3d88-445c-b89b-7ecce639953b",
   "metadata": {},
   "outputs": [
    {
     "data": {
      "text/plain": [
       "{'randomforestregressor__n_estimators': [10,\n",
       "  12,\n",
       "  16,\n",
       "  20,\n",
       "  26,\n",
       "  33,\n",
       "  42,\n",
       "  54,\n",
       "  69,\n",
       "  88,\n",
       "  112,\n",
       "  143,\n",
       "  183,\n",
       "  233,\n",
       "  297,\n",
       "  379,\n",
       "  483,\n",
       "  615,\n",
       "  784,\n",
       "  1000],\n",
       " 'standardscaler': [StandardScaler(), None],\n",
       " 'simpleimputer__strategy': ['mean', 'median']}"
      ]
     },
     "execution_count": 132,
     "metadata": {},
     "output_type": "execute_result"
    }
   ],
   "source": [
    "n_est = [int(n) for n in np.logspace(start=1, stop=3, num=20)]\n",
    "grid_params = {\n",
    "        'randomforestregressor__n_estimators': n_est,\n",
    "        'standardscaler': [StandardScaler(), None],\n",
    "        'simpleimputer__strategy': ['mean', 'median']\n",
    "}\n",
    "grid_params"
   ]
  },
  {
   "cell_type": "code",
   "execution_count": 133,
   "id": "13b9bc62-3509-4310-b146-d296f258d6d4",
   "metadata": {},
   "outputs": [],
   "source": [
    "#Call `GridSearchCV` with the random forest pipeline, passing in the above `grid_params`\n",
    "#dict for parameters to evaluate, 5-fold cross-validation, and all available CPU cores (if desired)\n",
    "rf_grid_cv = GridSearchCV(RF_pipe, param_grid=grid_params, cv=2, n_jobs=-1)\n"
   ]
  },
  {
   "cell_type": "code",
   "execution_count": 134,
   "id": "8729faa8-9d22-44ae-9e38-c29a98feee17",
   "metadata": {},
   "outputs": [
    {
     "data": {
      "text/plain": [
       "GridSearchCV(cv=2,\n",
       "             estimator=Pipeline(steps=[('simpleimputer',\n",
       "                                        SimpleImputer(strategy='median')),\n",
       "                                       ('standardscaler', StandardScaler()),\n",
       "                                       ('randomforestregressor',\n",
       "                                        RandomForestRegressor(random_state=47))]),\n",
       "             n_jobs=-1,\n",
       "             param_grid={'randomforestregressor__n_estimators': [10, 12, 16, 20,\n",
       "                                                                 26, 33, 42, 54,\n",
       "                                                                 69, 88, 112,\n",
       "                                                                 143, 183, 233,\n",
       "                                                                 297, 379, 483,\n",
       "                                                                 615, 784,\n",
       "                                                                 1000],\n",
       "                         'simpleimputer__strategy': ['mean', 'median'],\n",
       "                         'standardscaler': [StandardScaler(), None]})"
      ]
     },
     "execution_count": 134,
     "metadata": {},
     "output_type": "execute_result"
    },
    {
     "data": {
      "text/plain": [
       "{'randomforestregressor__n_estimators': 26,\n",
       " 'simpleimputer__strategy': 'mean',\n",
       " 'standardscaler': StandardScaler()}"
      ]
     },
     "execution_count": 134,
     "metadata": {},
     "output_type": "execute_result"
    }
   ],
   "source": [
    "#Now call the `GridSearchCV`'s `fit()` method with `X_train` and `y_train` as arguments\n",
    "#to actually start the grid search. This may take a minute or two.\n",
    "rf_grid_cv.fit(X_train, y_train)\n",
    "\n",
    "#Print the best params (`best_params_` attribute) from the grid search\n",
    "rf_grid_cv.best_params_"
   ]
  },
  {
   "cell_type": "code",
   "execution_count": 135,
   "id": "150a8d04-af17-496a-9c14-d9b79dd15468",
   "metadata": {},
   "outputs": [
    {
     "data": {
      "text/plain": [
       "array([0.71260892, 0.70351892, 0.5982234 , 0.73566595, 0.71114762])"
      ]
     },
     "execution_count": 135,
     "metadata": {},
     "output_type": "execute_result"
    },
    {
     "data": {
      "text/plain": [
       "(0.6922329612180743, 0.048217299649183525)"
      ]
     },
     "execution_count": 135,
     "metadata": {},
     "output_type": "execute_result"
    }
   ],
   "source": [
    "rf_best_cv_results = cross_validate(rf_grid_cv.best_estimator_, X_train, y_train, cv=5)\n",
    "rf_best_scores = rf_best_cv_results['test_score']\n",
    "rf_best_scores\n",
    "\n",
    "np.mean(rf_best_scores), np.std(rf_best_scores)"
   ]
  },
  {
   "cell_type": "code",
   "execution_count": 136,
   "id": "fef98ab1-539b-4f5d-a3a5-a5cc667217c6",
   "metadata": {},
   "outputs": [
    {
     "data": {
      "image/png": "[encoded data removed]",
      "text/plain": [
       "<Figure size 1296x288 with 1 Axes>"
      ]
     },
     "metadata": {
      "needs_background": "light"
     },
     "output_type": "display_data"
    }
   ],
   "source": [
    "#Plot a barplot of the random forest's feature importances,\n",
    "#assigning the `feature_importances_` attribute of \n",
    "#`rf_grid_cv.best_estimator_.named_steps.randomforestregressor` to the name `imps` to then\n",
    "#create a pandas Series object of the feature importances, with the index given by the\n",
    "#training data column names, sorting the values in descending order\n",
    "plt.subplots(figsize=(18, 4))\n",
    "imps = rf_grid_cv.best_estimator_.named_steps.randomforestregressor.feature_importances_\n",
    "rf_feat_imps = pd.Series(imps, index=X_train.columns).sort_values(ascending=False)\n",
    "plt.grid(True)\n",
    "ax = rf_feat_imps.plot(kind='bar', grid=True)\n",
    "ax.set_axisbelow(True) \n",
    "plt.xlabel('Features')\n",
    "plt.ylabel('Importance')\n",
    "plt.title('Best random forest regressor feature importances');"
   ]
  },
  {
   "cell_type": "markdown",
   "id": "2a56a43c-2acb-4dd5-bd28-1b4afeadac5c",
   "metadata": {},
   "source": [
    "These results suggest that Soil Moisture, Sunshine Duration, Shortwave Radiation, Mean Sea Level Pressure are among the biggest positive features (in terms of consequences).\n",
    "Similarly, the biggest positive feature sin terms of possible causes are: Fuel Imports & CO2 emissions!\n",
    "This makes intuitive sense and is consistent with what we saw during the EDA work."
   ]
  },
  {
   "cell_type": "code",
   "execution_count": null,
   "id": "b79f4b5f-d8a0-4254-9e5b-21bf3057af57",
   "metadata": {},
   "outputs": [],
   "source": []
  }
 ],
 "metadata": {
  "kernelspec": {
   "display_name": "Python 3",
   "language": "python",
   "name": "python3"
  },
  "language_info": {
   "codemirror_mode": {
    "name": "ipython",
    "version": 3
   },
   "file_extension": ".py",
   "mimetype": "text/x-python",
   "name": "python",
   "nbconvert_exporter": "python",
   "pygments_lexer": "ipython3",
   "version": "3.9.7"
  }
 },
 "nbformat": 4,
 "nbformat_minor": 5
}
